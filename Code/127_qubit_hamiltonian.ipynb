{
 "cells": [
  {
   "cell_type": "code",
   "execution_count": 72,
   "metadata": {},
   "outputs": [],
   "source": [
    "from qiskit import generate_preset_pass_manager, QuantumCircuit\n",
    "from qiskit.quantum_info import SparsePauliOp\n",
    "from qiskit_ibm_runtime import EstimatorV2 as Estimator, QiskitRuntimeService, SamplerV2 as Sampler"
   ]
  },
  {
   "cell_type": "code",
   "execution_count": null,
   "metadata": {},
   "outputs": [],
   "source": [
    "service = QiskitRuntimeService()\n",
    "backend = service.backend(name='ibm_rensselaer')"
   ]
  },
  {
   "cell_type": "code",
   "execution_count": 70,
   "metadata": {},
   "outputs": [],
   "source": [
    "num_qubits = backend.num_qubits\n",
    "omega = 1\n",
    "dt = 0.1\n",
    "\n",
    "circ = QuantumCircuit(num_qubits)\n",
    "\n",
    "for i in range(num_qubits):\n",
    "  circ.h(i)\n",
    "  circ.sdg(i)\n",
    "\n",
    "for i in range(num_qubits - 1):\n",
    "  circ.cx(i, i + 1)\n",
    "\n",
    "circ.rz(2 * omega * dt, num_qubits - 1)\n",
    "\n",
    "for i in range(num_qubits - 1):\n",
    "  circ.cx(num_qubits - (i + 2), num_qubits - (i + 1))\n",
    "\n",
    "for i in range(num_qubits):\n",
    "  circ.s(i)\n",
    "\n",
    "# circ.draw()"
   ]
  },
  {
   "cell_type": "code",
   "execution_count": 56,
   "metadata": {},
   "outputs": [],
   "source": [
    "circ.measure_active()"
   ]
  },
  {
   "cell_type": "code",
   "execution_count": null,
   "metadata": {},
   "outputs": [],
   "source": [
    "circ.draw()"
   ]
  },
  {
   "cell_type": "code",
   "execution_count": 71,
   "metadata": {},
   "outputs": [
    {
     "data": {
      "text/plain": [
       "127"
      ]
     },
     "execution_count": 71,
     "metadata": {},
     "output_type": "execute_result"
    }
   ],
   "source": [
    "observables = []\n",
    "for i in range(num_qubits):\n",
    "  observable = \"I\" * i + \"Z\" + \"I\" * (num_qubits - i - 1)\n",
    "  observables.append((observable, omega))\n",
    "len(observables)\n"
   ]
  },
  {
   "cell_type": "code",
   "execution_count": 48,
   "metadata": {},
   "outputs": [],
   "source": [
    "pm = generate_preset_pass_manager(optimization_level=3, backend=backend)\n",
    "isa_circuit = pm.run(circ)\n",
    "observable_corr = SparsePauliOp.from_list(observables)\n",
    "isa_layout = observable_corr.apply_layout(isa_circuit.layout)"
   ]
  },
  {
   "cell_type": "code",
   "execution_count": 73,
   "metadata": {},
   "outputs": [],
   "source": [
    "estimator = Estimator(mode=backend)\n",
    "estimator.default_shots = 8192"
   ]
  },
  {
   "cell_type": "code",
   "execution_count": 52,
   "metadata": {},
   "outputs": [],
   "source": [
    "sampler = Sampler(mode=backend)\n",
    "sampler.default_shots = 8192"
   ]
  },
  {
   "cell_type": "code",
   "execution_count": 74,
   "metadata": {},
   "outputs": [
    {
     "name": "stdout",
     "output_type": "stream",
     "text": [
      "Job ID: cwfa0m20r6b0008p9h60\n"
     ]
    }
   ],
   "source": [
    "job = estimator.run([(isa_circuit, isa_layout)])\n",
    "print(f\"Job ID: {job.job_id()}\")"
   ]
  },
  {
   "cell_type": "code",
   "execution_count": 78,
   "metadata": {},
   "outputs": [
    {
     "data": {
      "text/plain": [
       "'DONE'"
      ]
     },
     "execution_count": 78,
     "metadata": {},
     "output_type": "execute_result"
    }
   ],
   "source": [
    "job_finished = service.job('cwfa0m20r6b0008p9h60')\n",
    "job_finished.status()"
   ]
  },
  {
   "cell_type": "code",
   "execution_count": 79,
   "metadata": {},
   "outputs": [],
   "source": [
    "result = job_finished.result()"
   ]
  },
  {
   "cell_type": "code",
   "execution_count": 81,
   "metadata": {},
   "outputs": [
    {
     "data": {
      "text/plain": [
       "array(4.37130895)"
      ]
     },
     "execution_count": 81,
     "metadata": {},
     "output_type": "execute_result"
    }
   ],
   "source": [
    "result[0].data.evs"
   ]
  },
  {
   "cell_type": "code",
   "execution_count": null,
   "metadata": {},
   "outputs": [],
   "source": []
  }
 ],
 "metadata": {
  "kernelspec": {
   "display_name": "Python 3",
   "language": "python",
   "name": "python3"
  },
  "language_info": {
   "codemirror_mode": {
    "name": "ipython",
    "version": 3
   },
   "file_extension": ".py",
   "mimetype": "text/x-python",
   "name": "python",
   "nbconvert_exporter": "python",
   "pygments_lexer": "ipython3",
   "version": "3.12.7"
  }
 },
 "nbformat": 4,
 "nbformat_minor": 2
}
