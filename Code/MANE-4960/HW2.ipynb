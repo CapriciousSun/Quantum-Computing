{
 "cells": [
  {
   "cell_type": "markdown",
   "id": "9ad87288-4fd5-4f9e-8032-811b9998cda3",
   "metadata": {},
   "source": [
    "# Homework 2\n",
    "\n",
    "Answer the following questions in this Jupyter notebook.\n",
    "\n",
    "For non-coding questions, put your answers in a new markdown cell or edit the cell where the question is written.\n",
    "\n",
    "For coding questions:\n",
    "- Complete all sections marked `# YOUR CODE GOES HERE`.\n",
    "- Do not modify cells marked with `# DO NOT MODIFY` at the top."
   ]
  },
  {
   "cell_type": "code",
   "execution_count": null,
   "id": "bab1a4bf-04a0-402d-9a16-bc2d83529902",
   "metadata": {},
   "outputs": [],
   "source": [
    "# DO NOT MODIFY - This cell performs all the imports and backend setup you need for this assingment\n",
    "\n",
    "# General\n",
    "import numpy as np\n",
    "\n",
    "# Qiskit imports\n",
    "from qiskit import QuantumCircuit\n",
    "from qiskit.quantum_info import Statevector\n",
    "from qiskit.transpiler.preset_passmanagers import generate_preset_pass_manager\n",
    "from qiskit.visualization import plot_histogram\n",
    "\n",
    "# Qiskit Runtime imports\n",
    "from qiskit_ibm_runtime import QiskitRuntimeService\n",
    "from qiskit_ibm_runtime import SamplerV2 as Sampler\n",
    "\n",
    "# Plotting routines\n",
    "import matplotlib.pyplot as plt\n",
    "\n",
    "# Setup hardware backend and transpiler\n",
    "service = QiskitRuntimeService()\n",
    "backend = service.backend(\"ibm_rensselaer\", instance=\"rpi-rensselaer/general/general\")\n",
    "pm = generate_preset_pass_manager(target=backend.target, optimization_level=3)\n",
    "\n",
    "print(f\"Using {backend.name} backend\")"
   ]
  },
  {
   "cell_type": "markdown",
   "id": "5f8d9715-9268-463b-aa2c-f703debe0cef",
   "metadata": {},
   "source": [
    "# Problem 1 - Drill Questions\n",
    "\n",
    "1. A certain signal causes a qubit's statevector to rotate around the Y-axis of the Bloch sphere. Assuming the qubit is initialized in the $\\ket{0}$ state, what pulse duration (in wave periods) would result in the qubit moving to the $\\ket{1}$ state? What would the equivalent quantum gate be?\n",
    "\n",
    "2. Using `numpy`, show that each of the Pauli gates ($\\mathbf{X}$, $\\mathbf{Y}$, and $\\mathbf{Z}$) are unitary. (Hint: Recall that for any unitary matrix $\\mathbf{U}$, $\\mathbf{U}\\mathbf{U}^\\dagger = \\mathbf{I}$, where $\\mathbf{I}$ is the identity matrix. Also recall that the adjoint of a matrix is equal to its conjugate transpose. You may need to consult the `numpy` documentation for a reminder on how to implement these operations)\n",
    "\n",
    "3. Go to your IBM Quantum dashboard and select ”Compute Resources” from the menu bar\n",
    "along the top of the page. Click on the ibm rensselaer backend to view the current cal-\n",
    "ibration information for the machine. What are the native basis gates supported by the\n",
    "machine?"
   ]
  },
  {
   "cell_type": "markdown",
   "id": "4ef20b8c",
   "metadata": {},
   "source": [
    "1. "
   ]
  },
  {
   "cell_type": "code",
   "execution_count": null,
   "id": "ba9e6c4b-175e-4e0c-a7bd-34302fd9b472",
   "metadata": {},
   "outputs": [],
   "source": [
    "# YOUR CODE GOES HERE - Put the numpy code for problem 2 in this cell.\n",
    "\n",
    "# Fill in the elements of the arrays below to create the Pauli matrices.\n",
    "# Recall that in Python, complex numbers are written a + bj (ex. 1.0 + 1.0j) \n",
    "X = np.array([[0, 1],\n",
    "              [1, 0]])\n",
    "\n",
    "Y = np.array([[0.0+0.0j,0.0-1.0j],\n",
    "              [0.0+1.0j,0.0+0.0j]])\n",
    "\n",
    "Z = np.array([[1, 0],\n",
    "              [0, -1]])\n"
   ]
  },
  {
   "cell_type": "code",
   "execution_count": null,
   "id": "e45c2ae8-c4a9-46fb-823b-86e7be724999",
   "metadata": {},
   "outputs": [],
   "source": [
    "# YOUR CODE GOES HERE -- Complete the function\n",
    "def is_unitary(M):\n",
    "    \"\"\"\n",
    "    Returns True if a matrix M is unitary, False otherwise.\n",
    "    \"\"\"\n",
    "    # FILL THIS IN\n",
    "    M_dag = np.array([[np.conjugate(M[0][0]), np.conjugate(M[1][0])],\n",
    "                      [np.conjugate(M[0][1]), np.conjugate(M[1][1])]])\n",
    "\n",
    "    I = np.eye(np.diag(M).size)\n",
    "\n",
    "    # Test equality of MM_dag with the identity matrix\n",
    "    return np.allclose(M @ M_dag, I)"
   ]
  },
  {
   "cell_type": "code",
   "execution_count": null,
   "id": "aa26675b-53f1-4017-bac6-372d985364dc",
   "metadata": {},
   "outputs": [],
   "source": [
    "# Test your answer - all these examples should print \"True\"\n",
    "print(is_unitary(X))\n",
    "print(is_unitary(Y))\n",
    "print(is_unitary(Z))"
   ]
  },
  {
   "cell_type": "markdown",
   "id": "5da9a807-04d2-402a-95ee-2989083a0d23",
   "metadata": {},
   "source": [
    "# Problem 2 - Programming Exercise\n",
    "\n",
    "In this exercise, we will do a bit more exploration with the Bell states we ran in the first homework. Recall that Bell states are the simplest instance of an entangled quantum state, and possess correlations that cannot be expressed by looking at the two qubits seperately. There are 4 Bell states, whose statevectors are given as:\n",
    "\n",
    "- $|\\Phi^+\\rangle = \\frac{|00\\rangle + |11\\rangle}{\\sqrt{2}}$\n",
    "- $|\\Phi^-\\rangle = \\frac{|00\\rangle - |11\\rangle}{\\sqrt{2}}$\n",
    "- $|\\Psi^+\\rangle = \\frac{|10\\rangle + |01\\rangle}{\\sqrt{2}}$\n",
    "- $|\\Psi^-\\rangle = \\frac{|10\\rangle - |01\\rangle}{\\sqrt{2}}$\n",
    "\n",
    "Additionally, we will compare our results with an uncorrelated (separable) state given by:\n",
    "\n",
    "- $|\\psi\\rangle = \\mathbf{H}^{\\otimes 2}|00\\rangle = \\frac{|00\\rangle + |01\\rangle + |10\\rangle + |11\\rangle}{2}$\n",
    "\n",
    "Your task will be to complete the code below so that you create all 4 Bell states and the separable state, run them on the IBM backend, and compare the results.\n",
    "- Complete all sections marked `# YOUR CODE GOES HERE`.\n",
    "- Do not modify cells marked with `# DO NOT MODIFY` at the top."
   ]
  },
  {
   "cell_type": "markdown",
   "id": "590a5be5-56cb-45be-8b8e-00f539869e1f",
   "metadata": {},
   "source": [
    "## 1 - Create Bell state circuits\n",
    "For each case below, use Qiskit to create quantum circuits that recreate the Bell state shown. The first Bell state is shown as an example. Your job will be to fill in the missing parts of the remaining cases."
   ]
  },
  {
   "cell_type": "markdown",
   "id": "e6a5a5ac-8399-44cf-9d0c-3568201544bd",
   "metadata": {},
   "source": [
    "### Case 1: $|\\Phi^+\\rangle = \\frac{|00\\rangle + |11\\rangle}{\\sqrt{2}}$"
   ]
  },
  {
   "cell_type": "code",
   "execution_count": null,
   "id": "1bd39bd7-0b33-4665-b9df-d64306503ab7",
   "metadata": {},
   "outputs": [],
   "source": [
    "# DO NOT MODIFY - Create a quantum circuit and fill in the gates.\n",
    "phiplus = QuantumCircuit(1)\n",
    "\n",
    "phiplus.h(0)      # Apply a Hadamrd gate to qubit 0 to put it in superposition.\n",
    "# phiplus.cx(0, 1); # Apply a controlled-X (CNOT) gate from qubit 0 onto qubit 1 to entangle them"
   ]
  },
  {
   "cell_type": "code",
   "execution_count": null,
   "id": "15680a9e-d59f-4940-a87e-43bc468a0c35",
   "metadata": {},
   "outputs": [],
   "source": [
    "# DO NOT MODIFY - Plot the circuit\n",
    "phiplus.draw(output=\"mpl\", idle_wires=False, style=\"iqp\")"
   ]
  },
  {
   "cell_type": "code",
   "execution_count": null,
   "id": "2f555e07-c3fb-4fda-9d72-b0fa4633ef16",
   "metadata": {},
   "outputs": [],
   "source": [
    "# DO NOT MODIFY - Display the statevector\n",
    "Statevector(phiplus).__dict__"
   ]
  },
  {
   "cell_type": "code",
   "execution_count": null,
   "id": "8d74f4e6",
   "metadata": {},
   "outputs": [],
   "source": [
    "from qiskit.circuit import Gate\n",
    "\n",
    "phiplus_gate = phiplus.to_gate()\n",
    "phiplus_gate"
   ]
  },
  {
   "cell_type": "markdown",
   "id": "fa0b52e4-ebab-4e25-965f-8a7c6fc9cfb7",
   "metadata": {},
   "source": [
    "### Case 2: $|\\Phi^-\\rangle = \\frac{|00\\rangle - |11\\rangle}{\\sqrt{2}}$"
   ]
  },
  {
   "cell_type": "code",
   "execution_count": null,
   "id": "97635214-b49b-432b-940a-222dcf5bf0e3",
   "metadata": {},
   "outputs": [],
   "source": [
    "# Create a quantum circuit\n",
    "phiminus = QuantumCircuit(2)\n",
    "\n",
    "# YOUR CODE GOES HERE - Fill in the gates in the quantum circuit\n",
    "phiminus.x(0)\n",
    "phiminus.h(0)\n",
    "phiminus.cx(0, 1)"
   ]
  },
  {
   "cell_type": "code",
   "execution_count": null,
   "id": "36e0c8e8-0afa-4265-82b2-9f535c8ef509",
   "metadata": {},
   "outputs": [],
   "source": [
    "# DO NOT MODIFY - Plot the circuit\n",
    "phiminus.draw(output=\"mpl\", idle_wires=False, style=\"iqp\")"
   ]
  },
  {
   "cell_type": "code",
   "execution_count": null,
   "id": "e910778a-3525-4d8f-ba0c-d78605bbfe5f",
   "metadata": {},
   "outputs": [],
   "source": [
    "# DO NOT MODIFY - Display the statevector\n",
    "Statevector(phiminus).draw(output='latex')"
   ]
  },
  {
   "cell_type": "markdown",
   "id": "aaf1a812-1454-4d20-a626-f0a040a8bd60",
   "metadata": {},
   "source": [
    "### Case 3: $|\\Psi^+\\rangle = \\frac{|10\\rangle + |01\\rangle}{\\sqrt{2}}$"
   ]
  },
  {
   "cell_type": "code",
   "execution_count": null,
   "id": "3854e68d-191e-44d7-bfd4-dd8045d06816",
   "metadata": {},
   "outputs": [],
   "source": [
    "# YOUR CODE GOES HERE - Create a quantum circuit for psiplus and fill in the gates.\n",
    "psiplus = QuantumCircuit(2)\n",
    "\n",
    "psiplus.h(0)\n",
    "psiplus.x(1)\n",
    "psiplus.cx(0, 1)"
   ]
  },
  {
   "cell_type": "code",
   "execution_count": null,
   "id": "c13cdbe9-3960-4e62-85fd-acf2cacd7e1d",
   "metadata": {},
   "outputs": [],
   "source": [
    "# Your CODE GOES HERE - Plot the circuit \n",
    "psiplus.draw(\"mpl\")"
   ]
  },
  {
   "cell_type": "code",
   "execution_count": null,
   "id": "22efb7a8-9984-48d9-b757-4be8ce3cc349",
   "metadata": {},
   "outputs": [],
   "source": [
    "# YOUR CODE GOES HERE - Display the Statevector\n",
    "Statevector(psiplus).draw(\"latex\")"
   ]
  },
  {
   "cell_type": "markdown",
   "id": "69f6e2c4-6a28-42ab-822d-e62b32d9778f",
   "metadata": {},
   "source": [
    "### Case 4: $|\\Psi^-\\rangle = \\frac{|10\\rangle - |01\\rangle}{\\sqrt{2}}$"
   ]
  },
  {
   "cell_type": "code",
   "execution_count": null,
   "id": "388104fa-739f-464b-8c54-9c31db66cf4c",
   "metadata": {},
   "outputs": [],
   "source": [
    "# YOUR CODE GOES HERE - Create a quantum circuit for psiminus and fill in the gates.\n",
    "psiminus = QuantumCircuit(2)\n",
    "psiminus.x(0)\n",
    "psiminus.h(0)\n",
    "psiminus.x(1)\n",
    "psiminus.cx(0, 1)\n",
    "# psiminus.cz(0, 1)"
   ]
  },
  {
   "cell_type": "code",
   "execution_count": null,
   "id": "d538c50c-c1d4-4f78-8e33-0f6579d52501",
   "metadata": {},
   "outputs": [],
   "source": [
    "# YOUR CODE GOES HERE - Plot the circuit\n",
    "psiminus.draw(\"mpl\")"
   ]
  },
  {
   "cell_type": "code",
   "execution_count": null,
   "id": "f44bae64-7ced-4a23-8045-470a1780c90e",
   "metadata": {},
   "outputs": [],
   "source": [
    "# YOUR CODE GOES HERE - Display the statevector\n",
    "Statevector(psiminus).draw(\"latex\")"
   ]
  },
  {
   "cell_type": "markdown",
   "id": "7641511a-3750-41f6-9612-191668cb719d",
   "metadata": {},
   "source": [
    "### Case 5: Separable State $\\mathbf{H}^{\\otimes 2}|00\\rangle = \\frac{|00\\rangle + |01\\rangle + |10\\rangle + |11\\rangle}{2}$"
   ]
  },
  {
   "cell_type": "code",
   "execution_count": null,
   "id": "f30f40ad-21b6-49e6-b061-f10dc3ccdb2b",
   "metadata": {},
   "outputs": [],
   "source": [
    "# YOUR CODE GOES HERE - Create a quantum circuit for h2 and fill in the gates.\n",
    "h2 = QuantumCircuit(2)\n",
    "\n",
    "h2.h(0)\n",
    "h2.h(1)"
   ]
  },
  {
   "cell_type": "code",
   "execution_count": null,
   "id": "bfd1ad64-5fa5-4be3-aec7-f3dcd1b71374",
   "metadata": {},
   "outputs": [],
   "source": [
    "# YOUR CODE GOES HERE - Plot the circuit\n",
    "h2.draw(\"mpl\")"
   ]
  },
  {
   "cell_type": "code",
   "execution_count": null,
   "id": "d3e48d8a-136c-4818-8859-581fa2afc0c6",
   "metadata": {},
   "outputs": [],
   "source": [
    "# YOUR CODE GOES HERE - Display the statevector\n",
    "Statevector(h2).draw(\"latex\")"
   ]
  },
  {
   "cell_type": "code",
   "execution_count": null,
   "id": "7b58a9fc-5df2-436a-967d-1bee56a57f70",
   "metadata": {},
   "outputs": [],
   "source": [
    "# Append measurement operations so we can get a result when we run the circuit\n",
    "phiplus.measure_active()\n",
    "phiminus.measure_active()\n",
    "\n",
    "# YOUR CODE GOES HERE - Add measure_active() operations to the rest of the quantum circuits you made.\n",
    "psiplus.measure_active()\n",
    "psiminus.measure_active()\n",
    "h2.measure_active()"
   ]
  },
  {
   "cell_type": "code",
   "execution_count": null,
   "id": "7a5534c3-778b-4a7f-8f53-d01e3ef8d1be",
   "metadata": {},
   "outputs": [],
   "source": [
    "# YOUR CODE GOES HERE - Put all 5 circuits into a list\n",
    "my_circuits = [phiplus, phiminus, psiplus, psiminus, h2]"
   ]
  },
  {
   "cell_type": "markdown",
   "id": "8f9092f6-e408-486a-8b45-f13c3c282f7e",
   "metadata": {},
   "source": [
    "## 2 - Running the circuits and plotting results\n",
    "\n",
    "Run the circuits and generate plots of the Bell state measurements. You do not need to modify any code in this section, only run it and make sure you obtain 5 plots at the end."
   ]
  },
  {
   "cell_type": "code",
   "execution_count": null,
   "id": "404fd3e3-5f0d-4ea3-91c4-3552f730e992",
   "metadata": {},
   "outputs": [],
   "source": [
    "# DO NOT MODIFY - Transpile and run the circuits.\n",
    "\n",
    "# Use the pass manager to transpile all the circuits together\n",
    "my_isa_circuits = pm.run(my_circuits)\n",
    "\n",
    "# Submit the list of circuits we created to a Sampler\n",
    "sampler = Sampler(mode=backend)\n",
    "job = sampler.run(my_isa_circuits)"
   ]
  },
  {
   "cell_type": "code",
   "execution_count": null,
   "id": "c7591bfe-9545-4874-8478-b66ce72686fe",
   "metadata": {},
   "outputs": [],
   "source": [
    "# DO NOT MODIFY - Use the job ID to retrieve your job data later\n",
    "print(f\">>> Job ID: {job.job_id()}\")"
   ]
  },
  {
   "cell_type": "code",
   "execution_count": null,
   "id": "2223e8e5-5d56-415d-8dc9-bcb4f9bf6358",
   "metadata": {},
   "outputs": [],
   "source": [
    "# DO NOT MODIFY - Run this cell to see the status of your job\n",
    "status = job.status()\n",
    "print(status)"
   ]
  },
  {
   "cell_type": "code",
   "execution_count": null,
   "id": "ca341e1f-9435-42fc-a880-5ddaf96cc0dd",
   "metadata": {},
   "outputs": [],
   "source": [
    "# DO NOT MODIFY - Once the job is done, we retrieve the results for\n",
    "# post-processing.\n",
    "# Note! If you run this cell before the job is done, it will\n",
    "# block the execution of any others in the notebook.\n",
    "results = job.result()\n",
    "results"
   ]
  },
  {
   "cell_type": "code",
   "execution_count": null,
   "id": "30a61f62-4ca7-481a-919f-ed898967345b",
   "metadata": {},
   "outputs": [],
   "source": [
    "# DO NOT MODIFY - We should have 5 histograms from Qiskit's Sampler results.\n",
    "# Each histogram is a dictionary with outcomes as keys and counts as values.\n",
    "histograms = []\n",
    "for result in results:\n",
    "    counts = result.data.measure.get_counts()\n",
    "    histograms.append(counts)"
   ]
  },
  {
   "cell_type": "code",
   "execution_count": null,
   "id": "66cea94a-a5f9-42cc-842b-6b0a6427dd30",
   "metadata": {},
   "outputs": [],
   "source": [
    "# DO NOT MODIFY - Plot the results\n",
    "\n",
    "# Create a figure and a set of subplots\n",
    "fig, axes = plt.subplots(1, 5, figsize=(20, 4))\n",
    "\n",
    "# State names for titles\n",
    "state_names = [r\"$\\Phi^+$\",\n",
    "               r\"$\\Phi^-$\",\n",
    "               r\"$\\Psi^+$\",\n",
    "               r\"$\\Psi^-$\",\n",
    "               r\"$\\mathbf{H}^{\\otimes 2}$\"]\n",
    "\n",
    "# Loop over the histograms and corresponding axes\n",
    "for i, (hist, ax) in enumerate(zip(histograms, axes)):\n",
    "    \n",
    "    # Use Qiskit's plot_histogram function\n",
    "    plot_histogram(hist, ax=ax, bar_labels=False)\n",
    "    ax.set_title(state_names[i])\n",
    "    \n",
    "# Adjust layout to prevent overlap\n",
    "plt.tight_layout()\n",
    "\n",
    "# Display the plots\n",
    "plt.show()"
   ]
  },
  {
   "cell_type": "markdown",
   "id": "ad447488-6212-4337-b7c0-f126b9adb5bf",
   "metadata": {},
   "source": [
    "## 3 - Discussion Questions\n",
    "\n",
    "Answer each of the following in a few sentences in this markdown cell or create a new one below.\n",
    "\n",
    "1. Did you have difficulties creating the other three Bell states? What did you have to do to get the statevectors to match?\n",
    "2. Can you distinguish between the different Bell states based on these measurements alone?\n",
    "3. How can you tell if noise affected your measurements?\n",
    "4. What differences would you expect to see between noisy and perfect measurements?\n",
    "5. What follow-up questions or experiemnts would you propose? (No right or wrong answers. It's ok to bring up anything you found confusing, missing, or things left you courious for more information.) "
   ]
  },
  {
   "cell_type": "markdown",
   "id": "7cc7f49e-b5dc-4a51-a300-e93a107a56b5",
   "metadata": {},
   "source": [
    "# Problem 3 - Free Response: Qubit Modalities\n",
    "In [*Understanding Quantum Technologies*](https://www.oezratty.net/wordpress/2023/understanding-quantum-technologies-2023/), navigate to the \"Quantum Computing Hardware\" chapter and read pages 311-315. Then, select one of the qubit technologies in chapter (use the table of contents to guide you) and read that section. Answer the following questions in 1-2 paragraphs. (Note: You may need to follow the references or do additional searches, as information may have changed.):\n",
    "\n",
    "1. For the qubit technology you selected, explain qualitatively how the DiVincenzo criteria are satisifed (two levels, initialization, gates, readout, and coherence time)?\n",
    "2. What peripheral equipment and operating conditions are needed for the qubit method you selected? Discuss the operating temperature and pressure,\n",
    "3. What is the biggest quantum computer to date that has been implemented using this qubit modality? What labs or companies appear to be leading its development?\n",
    "4. You are now the founder of a quantum computing startup that specializes in making the qubit modality you selected. How would you persuade prospective users and investors that this qubit type has the best long-term prospects for scaling and commercialization?"
   ]
  },
  {
   "cell_type": "markdown",
   "id": "3e74997d",
   "metadata": {},
   "source": [
    "# Quantum Photonics and the DiVincenzo criteria\n",
    "The qubit technology I chose is photonics, which uses light to create qubits. \n",
    "1. The DiVincenzo Criteria focuses on 5 main aspects; scalability, ability to initialize qubits to a fiducial state, long coherence times, a universal set of quantum gates, and the ability to measure qubit states.\n",
    "\n",
    "#### Scalability\n",
    "Quantum photonics has the ability to be scaled up. In a recent paper named \"Scalable integrated single-photon source\", scalable single photon source qubits are discussed. The way scalability and coherence are meausred is with a boson sampler, and the conclusion of the paper is that it's possible to create a scalable single photon system. \n",
    "\n",
    "#### Ability to initialize qubits to a fiducial state\n",
    "Photonic qubits can be initialized to a fiducial state. A paper named \"Comparison Between Different Qubit Designs for Quantum\n",
    "Computing \" includes information regarding the initialization procedure for several qubit technologies, and for photonic qubits, it involves controlling the polariziation of the photon source. \n",
    "\n",
    "#### Long coherence times\n",
    "A paper published in Nature named \"Decoherence-protected memory for a single-photon qubit\" demonstrated that memory could be kept in photonics for upwards of 100ms, which is far more than the microsecond coherence times of superconducting qubits.\n",
    "\n",
    "#### Universal set of quantum gates\n",
    "A universal set of quantum gates could be applied to a photonic system. A paper called \"Integrated photonic quantum gates for polarization qubits\" demonstrates the uses of a CNOT gate on a photonic system via manipulation of the polarization of the photon source. \n",
    "\n",
    "#### Ability to measure qubit states\n",
    "In the same paper, a set of observables can be measured in a photonic system by receiving the wavepacket of the photons and plotting it out, much like a superconducting qubit system. "
   ]
  },
  {
   "cell_type": "markdown",
   "id": "9152516b",
   "metadata": {},
   "source": [
    "# Peripheral Equipment and Operating Conditions\n",
    "As outlined in \"Integrated photonic quantum gates for polarization qubits\", the operating equipments of a photonic system would include a photon emitter, a way to split the beam, a device for performing quantum gates, and measurement devices. As for operating conditions, photonic systems can operate at room temperature and atmospheric conditions. "
   ]
  },
  {
   "cell_type": "markdown",
   "id": "319d1258",
   "metadata": {},
   "source": [
    "# Biggest Photonic Quantum Computer to Date\n",
    "Currently, the bigggest photonic quantum computer is a 20 qubit system made by QuiX Quantum, a company based in Europe. Other companies within the field include Xanadu Quantum Technologies, Orca Computing, and PsiQuantum."
   ]
  },
  {
   "cell_type": "markdown",
   "id": "6991fedd",
   "metadata": {},
   "source": [
    "# The VC Proposal\n",
    "Photonics qubits is by far, the best qubit modality for building scalable quantum computing systems. To list all the reasons is to be verbose, but to name a few, its relatively low operating costs, great scalability, long coherence times, and relation to quantum communication all contribute to it being the premier qubit modality in the future. \n",
    "\n",
    "The equipment necessary for creating a photonics quantum system is quite low. All that's required is a source of polarized photon beam, lensing mirrors, measuring equipment, and some sort of physical representation for quantum gates. There is no need for complicated dilution refrigerators like superconducting qubits or expensive Paul traps like trapped ion qubits. Photonic qubits also offer great scalability. Though the biggest quantum system is built with superconducting qubits (IBM's Condor, sporting 1,121 qubits), photonic systems scale up without issue using photonic chips. Since quantum photonics is manipulated with polarization and lensing, there is no fear that photonic systems would lose coherence as it scales up, unlike superconducting qubits. Photonic qubits also have much longer coherence times when compared to other qubit modalities. Superconducting qubits for example, have coherence times along microseconds, whereas photonics have conherence times in the 100s of milliseconds. This property of long coherent times also lend to photonic systems being incredibly error resistant, which reduces the need for intense error correction/suppression regimes like superconducting qubits or trapped ion systems. Finally, photonic qubits are used in quantum communication as well, and research into photonic qubits would lead to parallel advancement with quantum communication, essentially killing two birds with one stone. \n",
    "\n",
    "With all that being said, it's clear the investing into photonic research is not only funding a superior qubit modality, but also allowing for a diverse set of quantum hardware to be developed. "
   ]
  }
 ],
 "metadata": {
  "kernelspec": {
   "display_name": "Python 3 (ipykernel)",
   "language": "python",
   "name": "python3"
  },
  "language_info": {
   "codemirror_mode": {
    "name": "ipython",
    "version": 3
   },
   "file_extension": ".py",
   "mimetype": "text/x-python",
   "name": "python",
   "nbconvert_exporter": "python",
   "pygments_lexer": "ipython3",
   "version": "3.12.7"
  }
 },
 "nbformat": 4,
 "nbformat_minor": 5
}
