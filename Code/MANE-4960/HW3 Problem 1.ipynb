{
 "cells": [
  {
   "cell_type": "markdown",
   "id": "e6ce02f3-6f0d-4976-a892-cb33176ec614",
   "metadata": {},
   "source": [
    "# Homework 3\n",
    "For this assignment, provide your answers in this notebook. For Problem 2 (Basis Changes and Expectation Values), modify and submit the demo notebook from class. \n",
    "\n",
    "# 1 - Drill Questions\n",
    "\n",
    "Recommended Reading: Wong, $\\S$2.3, $\\S$3.4.\n",
    "\n",
    "1. Suppose we have a quantum state $\\ket{\\psi}$ equal to $\\frac{1}{\\sqrt{3}}\\left(\\ket{0} + \\sqrt{2}\\ket{1}\\right)$.\n",
    "    1. Compute the probability of measuring a $\\ket{1}$ state using the projection operator $P_0$.\n",
    "    2. Compute the expectation value of the state with respect to all three Pauli operators.\n",
    "\n",
    "2. The outer product of a quantum state with itself is called the \\emph{density matrix}. For each of the following states, compute the density matrix:\n",
    "    1. $\\ket{0}$\n",
    "    3. $\\ket{1}$\n",
    "    4. $\\frac{\\left(\\ket{0}| +\\ket{1}\\right)}{\\sqrt{2}}$\n",
    "    5. $\\ket{\\Phi^+}$\n",
    "    6. $\\ket{\\Psi^-}$"
   ]
  },
  {
   "cell_type": "code",
   "execution_count": 6,
   "id": "5d3d5f21-06f3-44e5-8615-7c79e4c59294",
   "metadata": {},
   "outputs": [],
   "source": [
    "#1.1.1 2/3"
   ]
  },
  {
   "cell_type": "code",
   "execution_count": 142,
   "id": "2f213877-fe73-4392-b47d-8c5653d8bbb0",
   "metadata": {},
   "outputs": [
    {
     "name": "stdout",
     "output_type": "stream",
     "text": [
      "0.9428090415820636\n",
      "0j\n",
      "-0.3333333333333334\n"
     ]
    }
   ],
   "source": [
    " #1.1.2\n",
    "import numpy as np\n",
    "first=np.array([1/3**0.5, (2**0.5)/(3**0.5)])\n",
    "Pauli_x=np.array([[0,1],\n",
    "                  [1,0]])\n",
    "\n",
    "\n",
    "Pauli_y=np.array([[0,complex(0,-1)],\n",
    "                   [complex(0,1),0]])\n",
    "\n",
    "Pauli_z=np.array([[1,0],\n",
    "                  [0,-1]])\n",
    "\n",
    "Second = first.conj().T\n",
    "\n",
    "Px = first @ Pauli_x @ Second\n",
    "print (Px)\n",
    "\n",
    "Py = first @ Pauli_y @ Second\n",
    "print (Py)\n",
    "\n",
    "Pz = first @ Pauli_z @ Second\n",
    "print (Pz)"
   ]
  },
  {
   "cell_type": "code",
   "execution_count": 3,
   "id": "bd0f142f-f09c-41b0-b082-0d6a6fb71bae",
   "metadata": {},
   "outputs": [],
   "source": [
    "# 1.2\n",
    "import numpy as np\n",
    "\n",
    "import qiskit as qs\n",
    "\n",
    "\n",
    "from qiskit.visualization import array_to_latex as mat"
   ]
  },
  {
   "cell_type": "code",
   "execution_count": 5,
   "id": "edb69729-b163-4573-94af-90a82b8f8f66",
   "metadata": {},
   "outputs": [],
   "source": [
    "#A\n",
    "zero_state = np.array([1,0])"
   ]
  },
  {
   "cell_type": "code",
   "execution_count": 136,
   "id": "aaf7a82a-bf91-4647-bfea-1c21a9838ede",
   "metadata": {},
   "outputs": [
    {
     "data": {
      "text/latex": [
       "$$\n",
       "\n",
       "\\begin{bmatrix}\n",
       "1 & 0  \\\\\n",
       " 0 & 0  \\\\\n",
       " \\end{bmatrix}\n",
       "$$"
      ],
      "text/plain": [
       "<IPython.core.display.Latex object>"
      ]
     },
     "execution_count": 136,
     "metadata": {},
     "output_type": "execute_result"
    }
   ],
   "source": [
    "mat(np.outer(zero_state,zero_state))"
   ]
  },
  {
   "cell_type": "code",
   "execution_count": 6,
   "id": "57e23455-f4ea-4aae-9cb0-7e72973a265a",
   "metadata": {},
   "outputs": [],
   "source": [
    "#B\n",
    "one_state = np.array([0,1])"
   ]
  },
  {
   "cell_type": "code",
   "execution_count": 140,
   "id": "5de06b1e-9cb2-45ae-aadf-2efac0aaecb6",
   "metadata": {},
   "outputs": [
    {
     "data": {
      "text/latex": [
       "$$\n",
       "\n",
       "\\begin{bmatrix}\n",
       "0 & 0  \\\\\n",
       " 0 & 1  \\\\\n",
       " \\end{bmatrix}\n",
       "$$"
      ],
      "text/plain": [
       "<IPython.core.display.Latex object>"
      ]
     },
     "execution_count": 140,
     "metadata": {},
     "output_type": "execute_result"
    }
   ],
   "source": [
    "mat(np.outer(one_state,one_state))"
   ]
  },
  {
   "cell_type": "code",
   "execution_count": 142,
   "id": "99b138fd-320f-40cf-98e3-03ed5b5b2d33",
   "metadata": {},
   "outputs": [],
   "source": [
    "#C\n",
    "two_state = np.array([1/(2**0.5),1/(2**0.5)])"
   ]
  },
  {
   "cell_type": "code",
   "execution_count": 144,
   "id": "e92d1f83-97d3-4075-94a2-a1aa285908a6",
   "metadata": {},
   "outputs": [
    {
     "data": {
      "text/latex": [
       "$$\n",
       "\n",
       "\\begin{bmatrix}\n",
       "\\frac{1}{2} & \\frac{1}{2}  \\\\\n",
       " \\frac{1}{2} & \\frac{1}{2}  \\\\\n",
       " \\end{bmatrix}\n",
       "$$"
      ],
      "text/plain": [
       "<IPython.core.display.Latex object>"
      ]
     },
     "execution_count": 144,
     "metadata": {},
     "output_type": "execute_result"
    }
   ],
   "source": [
    "mat(np.outer(two_state,two_state))"
   ]
  },
  {
   "cell_type": "code",
   "execution_count": 159,
   "id": "a39c4789-0387-4ffc-8985-7dff9be000b3",
   "metadata": {},
   "outputs": [],
   "source": [
    "#D\n",
    "zerozero = np.kron(zero_state, zero_state)\n",
    "oneone = np.kron(one_state, one_state)"
   ]
  },
  {
   "cell_type": "code",
   "execution_count": 152,
   "id": "06dca20c-edfd-4360-9f6f-10bde9e0f333",
   "metadata": {},
   "outputs": [],
   "source": [
    "phiplus = (1/(2**0.5)) * (zerozero + oneone)"
   ]
  },
  {
   "cell_type": "code",
   "execution_count": 156,
   "id": "7d46ebf4-f0be-4258-a736-1b504d1f0a0d",
   "metadata": {},
   "outputs": [
    {
     "data": {
      "text/latex": [
       "$$\n",
       "\n",
       "\\begin{bmatrix}\n",
       "\\frac{1}{2} & 0 & 0 & \\frac{1}{2}  \\\\\n",
       " 0 & 0 & 0 & 0  \\\\\n",
       " 0 & 0 & 0 & 0  \\\\\n",
       " \\frac{1}{2} & 0 & 0 & \\frac{1}{2}  \\\\\n",
       " \\end{bmatrix}\n",
       "$$"
      ],
      "text/plain": [
       "<IPython.core.display.Latex object>"
      ]
     },
     "execution_count": 156,
     "metadata": {},
     "output_type": "execute_result"
    }
   ],
   "source": [
    "mat(np.outer(phiplus, phiplus))"
   ]
  },
  {
   "cell_type": "code",
   "execution_count": 7,
   "id": "22ea0482-162f-47a0-8b38-1343ea8090ac",
   "metadata": {},
   "outputs": [],
   "source": [
    "#E\n",
    "onezero = np.kron(one_state, zero_state)\n",
    "zeroone = np.kron(one_state, one_state)*-1"
   ]
  },
  {
   "cell_type": "code",
   "execution_count": 8,
   "id": "97174f85-f53b-4314-8db7-b49af78c6388",
   "metadata": {},
   "outputs": [],
   "source": [
    "psiminus = (1/(2**0.5)) * (zeroone + onezero)"
   ]
  },
  {
   "cell_type": "code",
   "execution_count": 9,
   "id": "b3c2183f-fe3f-44ee-8e30-dc3fcb651638",
   "metadata": {},
   "outputs": [
    {
     "data": {
      "text/latex": [
       "$$\n",
       "\n",
       "\\begin{bmatrix}\n",
       "0 & 0 & 0 & 0  \\\\\n",
       " 0 & 0 & 0 & 0  \\\\\n",
       " 0 & 0 & \\frac{1}{2} & - \\frac{1}{2}  \\\\\n",
       " 0 & 0 & - \\frac{1}{2} & \\frac{1}{2}  \\\\\n",
       " \\end{bmatrix}\n",
       "$$"
      ],
      "text/plain": [
       "<IPython.core.display.Latex object>"
      ]
     },
     "execution_count": 9,
     "metadata": {},
     "output_type": "execute_result"
    }
   ],
   "source": [
    "mat(np.outer(psiminus, psiminus))"
   ]
  },
  {
   "cell_type": "code",
   "execution_count": null,
   "id": "0b430f3f-2524-48bc-9f3b-2df40c5cc2df",
   "metadata": {},
   "outputs": [],
   "source": [
    "For problem two, replace everywhere that says sim_sampler     change mode=backend rename"
   ]
  }
 ],
 "metadata": {
  "kernelspec": {
   "display_name": "Python 3 (ipykernel)",
   "language": "python",
   "name": "python3"
  },
  "language_info": {
   "codemirror_mode": {
    "name": "ipython",
    "version": 3
   },
   "file_extension": ".py",
   "mimetype": "text/x-python",
   "name": "python",
   "nbconvert_exporter": "python",
   "pygments_lexer": "ipython3",
   "version": "3.12.7"
  }
 },
 "nbformat": 4,
 "nbformat_minor": 5
}
