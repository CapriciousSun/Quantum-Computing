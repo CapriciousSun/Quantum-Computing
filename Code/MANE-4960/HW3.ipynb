{
 "cells": [
  {
   "cell_type": "markdown",
   "id": "a61d48fa-632f-4a94-b76b-e24200254035",
   "metadata": {},
   "source": [
    "# Homework 3\n",
    "For this assignment, provide your answers in this notebook. For Problem 2 (Basis Changes and Expectation Values), modify and submit the demo notebook from class. \n",
    "\n",
    "# 1 - Drill Questions\n",
    "\n",
    "Recommended Reading: Wong, $\\S$2.3, $\\S$3.4.\n",
    "\n",
    "1. Suppose we have a quantum state $\\ket{\\psi}$ equal to $\\frac{1}{\\sqrt{3}}\\left(\\ket{0} + \\sqrt{2}\\ket{1}\\right)$.\n",
    "    1. Compute the probability of measuring a $\\ket{1}$ state using the projection operator $P_0$.\n",
    "    2. Compute the expectation value of the state with respect to all three Pauli operators.\n",
    "\n",
    "2. The outer product of a quantum state with itself is called the \\emph{density matrix}. For each of the following states, compute the density matrix:\n",
    "    1. $\\ket{0}$\n",
    "    3. $\\ket{1}$\n",
    "    4. $\\frac{\\left(\\ket{0}| +\\ket{1}\\right)}{\\sqrt{2}}$\n",
    "    5. $\\ket{\\Phi^+}$\n",
    "    6. $\\ket{\\Psi^-}$"
   ]
  },
  {
   "cell_type": "code",
   "execution_count": 50,
   "id": "5520b321",
   "metadata": {},
   "outputs": [],
   "source": [
    "# All the package declarations\n",
    "import matplotlib.pyplot as plt\n",
    "import matplotlib.ticker as tck\n",
    "\n",
    "import numpy as np\n",
    "\n",
    "from qiskit import circuit, generate_preset_pass_manager, QuantumCircuit\n",
    "from qiskit_aer import AerSimulator\n",
    "from qiskit.quantum_info import SparsePauliOp, Statevector\n",
    "from qiskit.visualization import array_to_latex as mat, plot_bloch_multivector, plot_histogram\n",
    "from qiskit_ibm_runtime import EstimatorV2 as Estimator, QiskitRuntimeService, SamplerV2 as Sampler"
   ]
  },
  {
   "cell_type": "markdown",
   "id": "cec4d27f",
   "metadata": {},
   "source": [
    "## 1.1.1"
   ]
  },
  {
   "cell_type": "code",
   "execution_count": 24,
   "id": "55b79ed7",
   "metadata": {},
   "outputs": [
    {
     "name": "stdout",
     "output_type": "stream",
     "text": [
      "0.6666666666666669\n"
     ]
    }
   ],
   "source": [
    "state = np.sqrt(2)/np.sqrt(3)\n",
    "probability = pow(state, 2)\n",
    "print(probability)"
   ]
  },
  {
   "cell_type": "markdown",
   "id": "d1e643e2",
   "metadata": {},
   "source": [
    "## 1.1.2"
   ]
  },
  {
   "cell_type": "code",
   "execution_count": 29,
   "id": "d4d009fd",
   "metadata": {},
   "outputs": [
    {
     "name": "stdout",
     "output_type": "stream",
     "text": [
      "0.9428090415820636\n",
      "0j\n",
      "-0.3333333333333334\n"
     ]
    }
   ],
   "source": [
    "zero_state = np.array(([1, 0]))\n",
    "one_state = np.array(([0, 1]))\n",
    "\n",
    "state = (1 / np.sqrt(3)) * (zero_state + np.sqrt(2) * one_state)\n",
    "\n",
    "X = np.array([[0, 1],\n",
    "              [1, 0]])\n",
    "\n",
    "\n",
    "Y = np.array([[0+0j, 0-1j],\n",
    "              [0+1j, 0+0j]])\n",
    "\n",
    "Z = np.array([[1, 0],\n",
    "              [0, -1]])\n",
    "\n",
    "state_conj = state.conj().T\n",
    "\n",
    "Px = state @ X @ state_conj\n",
    "print (Px)\n",
    "\n",
    "Py = state @ Y @ state_conj\n",
    "print (Py)\n",
    "\n",
    "Pz = state @ Z @ state_conj\n",
    "print (Pz)"
   ]
  },
  {
   "cell_type": "markdown",
   "id": "2b8092f6",
   "metadata": {},
   "source": [
    "## 1.2.1"
   ]
  },
  {
   "cell_type": "code",
   "execution_count": 42,
   "id": "8c8b14f1",
   "metadata": {},
   "outputs": [
    {
     "data": {
      "text/latex": [
       "$$\n",
       "\n",
       "\\begin{bmatrix}\n",
       "1 & 0  \\\\\n",
       " 0 & 0  \\\\\n",
       " \\end{bmatrix}\n",
       "$$"
      ],
      "text/plain": [
       "<IPython.core.display.Latex object>"
      ]
     },
     "execution_count": 42,
     "metadata": {},
     "output_type": "execute_result"
    }
   ],
   "source": [
    "zero_state = np.array(([1, 0]))\n",
    "zero_outer = np.outer(zero_state, zero_state)\n",
    "mat(zero_outer)"
   ]
  },
  {
   "cell_type": "markdown",
   "id": "2efd5603",
   "metadata": {},
   "source": [
    "## 1.2.2"
   ]
  },
  {
   "cell_type": "code",
   "execution_count": 43,
   "id": "c4cd6c52",
   "metadata": {},
   "outputs": [
    {
     "data": {
      "text/latex": [
       "$$\n",
       "\n",
       "\\begin{bmatrix}\n",
       "0 & 0  \\\\\n",
       " 0 & 1  \\\\\n",
       " \\end{bmatrix}\n",
       "$$"
      ],
      "text/plain": [
       "<IPython.core.display.Latex object>"
      ]
     },
     "execution_count": 43,
     "metadata": {},
     "output_type": "execute_result"
    }
   ],
   "source": [
    "one_state = np.array(([0, 1]))\n",
    "one_outer = np.outer(one_state, one_state)\n",
    "mat(one_outer)"
   ]
  },
  {
   "cell_type": "markdown",
   "id": "eac5c607",
   "metadata": {},
   "source": [
    "## 1.2.3"
   ]
  },
  {
   "cell_type": "code",
   "execution_count": 144,
   "id": "302c72e0",
   "metadata": {},
   "outputs": [
    {
     "data": {
      "text/latex": [
       "$$\n",
       "\n",
       "\\begin{bmatrix}\n",
       "\\frac{1}{2} & \\frac{1}{2}  \\\\\n",
       " \\frac{1}{2} & \\frac{1}{2}  \\\\\n",
       " \\end{bmatrix}\n",
       "$$"
      ],
      "text/plain": [
       "<IPython.core.display.Latex object>"
      ]
     },
     "execution_count": 144,
     "metadata": {},
     "output_type": "execute_result"
    }
   ],
   "source": [
    "hadamard_state = 1/np.sqrt(2) * (zero_state + one_state)\n",
    "hadamard_outer = np.outer(hadamard_state, hadamard_state)\n",
    "mat(hadamard_outer)"
   ]
  },
  {
   "cell_type": "markdown",
   "id": "a6f8a706",
   "metadata": {},
   "source": [
    "## 1.2.4"
   ]
  },
  {
   "cell_type": "code",
   "execution_count": 45,
   "id": "0759820e",
   "metadata": {},
   "outputs": [
    {
     "data": {
      "text/latex": [
       "$$\n",
       "\n",
       "\\begin{bmatrix}\n",
       "\\frac{1}{2} & 0 & 0 & \\frac{1}{2}  \\\\\n",
       " 0 & 0 & 0 & 0  \\\\\n",
       " 0 & 0 & 0 & 0  \\\\\n",
       " \\frac{1}{2} & 0 & 0 & \\frac{1}{2}  \\\\\n",
       " \\end{bmatrix}\n",
       "$$"
      ],
      "text/plain": [
       "<IPython.core.display.Latex object>"
      ]
     },
     "execution_count": 45,
     "metadata": {},
     "output_type": "execute_result"
    }
   ],
   "source": [
    "phiplus_state = 1/np.sqrt(2) * (np.tensordot(zero_state, zero_state, axes=0) + np.tensordot(one_state, one_state, axes=0))\n",
    "phiplus_outer = np.outer(phiplus_state, phiplus_state)\n",
    "mat(phiplus_outer)"
   ]
  },
  {
   "cell_type": "markdown",
   "id": "b1a8ff84",
   "metadata": {},
   "source": [
    "## 1.2.5"
   ]
  },
  {
   "cell_type": "code",
   "execution_count": 48,
   "id": "1b8d2f23",
   "metadata": {},
   "outputs": [
    {
     "data": {
      "text/latex": [
       "$$\n",
       "\n",
       "\\begin{bmatrix}\n",
       "0 & 0 & 0 & 0  \\\\\n",
       " 0 & \\frac{1}{2} & - \\frac{1}{2} & 0  \\\\\n",
       " 0 & - \\frac{1}{2} & \\frac{1}{2} & 0  \\\\\n",
       " 0 & 0 & 0 & 0  \\\\\n",
       " \\end{bmatrix}\n",
       "$$"
      ],
      "text/plain": [
       "<IPython.core.display.Latex object>"
      ]
     },
     "execution_count": 48,
     "metadata": {},
     "output_type": "execute_result"
    }
   ],
   "source": [
    "psiminus_state = 1/np.sqrt(2) * (np.tensordot(zero_state, one_state, axes=0) - np.tensordot(one_state, zero_state, axes=0))\n",
    "psiminus_outer = np.outer(psiminus_state, psiminus_state)\n",
    "mat(psiminus_outer)"
   ]
  },
  {
   "cell_type": "markdown",
   "id": "27c3e471-73c0-437f-b2a8-6f34c6672c5a",
   "metadata": {},
   "source": [
    "PUT YOUR ANSWERS HERE, or upload as a separate file."
   ]
  },
  {
   "cell_type": "markdown",
   "id": "eed983a9-f8a1-4b4c-9276-d3953021fc71",
   "metadata": {},
   "source": [
    "# 2 - Programming Exercise: Basis Changes and Expectation Values\n",
    "\n",
    "Recommended Reading: Wong, $\\S$3.4\n",
    "\n",
    "For this exercise, re-run the notebook from class using the `ibm_rensselaer` backend instead of the simulator backend that we used. For each case, report the expectation value you measure from the hardware and compare it with:\n",
    "\n",
    "1. The simulated value from class.\n",
    "2. The analytical value obtained by computing the projection onto the observable matrix.\n",
    "\n",
    "In your comparisons, compute the relative error between the hardware value, the simulated value, and the analytical value. Do the error bars of the hardware and simulated values overlap? If not, why might this be?\n",
    "\n",
    "Modify and submit the demo notebook from class."
   ]
  },
  {
   "cell_type": "markdown",
   "id": "ec7c06f9",
   "metadata": {},
   "source": [
    "## Z-Basis"
   ]
  },
  {
   "cell_type": "code",
   "execution_count": 102,
   "id": "5de00397",
   "metadata": {},
   "outputs": [],
   "source": [
    "service = QiskitRuntimeService()\n",
    "backend = service.backend(name='ibm_rensselaer')"
   ]
  },
  {
   "cell_type": "code",
   "execution_count": 103,
   "id": "106301b3",
   "metadata": {},
   "outputs": [
    {
     "data": {
      "image/png": "[encoded data removed]",
      "text/plain": [
       "<Figure size 185.453x117.056 with 1 Axes>"
      ]
     },
     "execution_count": 103,
     "metadata": {},
     "output_type": "execute_result"
    }
   ],
   "source": [
    "coin = QuantumCircuit(1)\n",
    "coin.h(0)\n",
    "\n",
    "coin.draw(output='mpl')"
   ]
  },
  {
   "cell_type": "code",
   "execution_count": 104,
   "id": "c9da4363",
   "metadata": {},
   "outputs": [
    {
     "data": {
      "image/png": "[encoded data removed]",
      "text/plain": [
       "<Figure size 480x480 with 1 Axes>"
      ]
     },
     "execution_count": 104,
     "metadata": {},
     "output_type": "execute_result"
    }
   ],
   "source": [
    "# Get the statevector from the circuit\n",
    "state = Statevector.from_instruction(coin)\n",
    "\n",
    "# Plot the statevector on the Bloch sphere\n",
    "plot_bloch_multivector(state, title='Z-Basis')"
   ]
  },
  {
   "cell_type": "code",
   "execution_count": 105,
   "id": "026cf2aa",
   "metadata": {},
   "outputs": [],
   "source": [
    "coin.measure_active()\n",
    "\n",
    "pm = generate_preset_pass_manager(optimization_level=1, backend=backend)\n",
    "isa_circuit = pm.run(coin)"
   ]
  },
  {
   "cell_type": "code",
   "execution_count": 33,
   "id": "95840ade",
   "metadata": {},
   "outputs": [
    {
     "name": "stdout",
     "output_type": "stream",
     "text": [
      "Job ID: cw96pe9ggr6g0087rtf0\n"
     ]
    }
   ],
   "source": [
    "sampler = Sampler(mode=backend)\n",
    "job = sampler.run([isa_circuit])\n",
    "print(f\"Job ID: {job.job_id()}\")"
   ]
  },
  {
   "cell_type": "code",
   "execution_count": 106,
   "id": "4b8f09f0",
   "metadata": {},
   "outputs": [],
   "source": [
    "job_Z_basis_finished = service.job('cw96pe9ggr6g0087rtf0')\n",
    "result_Z_basis = job_Z_basis_finished.result()\n",
    "data_Z_basis = result_Z_basis[0].data.measure.get_counts()"
   ]
  },
  {
   "cell_type": "markdown",
   "id": "84d35001",
   "metadata": {},
   "source": [
    "#### Hardware"
   ]
  },
  {
   "cell_type": "code",
   "execution_count": 107,
   "id": "7f968815",
   "metadata": {},
   "outputs": [
    {
     "data": {
      "image/png": "[encoded data removed]",
      "text/plain": [
       "<Figure size 640x480 with 1 Axes>"
      ]
     },
     "execution_count": 107,
     "metadata": {},
     "output_type": "execute_result"
    }
   ],
   "source": [
    "plot_histogram(data_Z_basis)"
   ]
  },
  {
   "cell_type": "code",
   "execution_count": 121,
   "id": "14ba31a1",
   "metadata": {},
   "outputs": [],
   "source": [
    "percent_Z_basis_hardware = data_Z_basis['0'] / data_Z_basis['1']"
   ]
  },
  {
   "cell_type": "markdown",
   "id": "f08eb097",
   "metadata": {},
   "source": [
    "#### Simulated"
   ]
  },
  {
   "cell_type": "code",
   "execution_count": 74,
   "id": "78f2cf6f",
   "metadata": {},
   "outputs": [],
   "source": [
    "simulator = AerSimulator()\n",
    "sim_sampler = Sampler(mode=simulator)\n",
    "sim_sampler.options.default_shots = 4096\n",
    "\n",
    "sim_job_Z = sim_sampler.run([coin])"
   ]
  },
  {
   "cell_type": "code",
   "execution_count": 114,
   "id": "3078905e",
   "metadata": {},
   "outputs": [
    {
     "data": {
      "image/png": "[encoded data removed]",
      "text/plain": [
       "<Figure size 640x480 with 1 Axes>"
      ]
     },
     "execution_count": 114,
     "metadata": {},
     "output_type": "execute_result"
    }
   ],
   "source": [
    "result_Z_basis_sim = sim_job_Z.result()\n",
    "data_Z_basis_sim = result_Z_basis_sim[0].data.measure.get_counts()\n",
    "plot_histogram(data_Z_basis_sim)"
   ]
  },
  {
   "cell_type": "code",
   "execution_count": 115,
   "id": "20bb04c0",
   "metadata": {},
   "outputs": [
    {
     "data": {
      "text/plain": [
       "0.9883495145631068"
      ]
     },
     "execution_count": 115,
     "metadata": {},
     "output_type": "execute_result"
    }
   ],
   "source": [
    "percent_Z_basis_simulated = data_Z_basis_sim['0'] / data_Z_basis_sim['1']"
   ]
  },
  {
   "cell_type": "markdown",
   "id": "55f16681",
   "metadata": {},
   "source": [
    "#### Analytical"
   ]
  },
  {
   "cell_type": "code",
   "execution_count": 242,
   "id": "940e46fb",
   "metadata": {},
   "outputs": [],
   "source": [
    "percent_Z_basis_analytical = 1"
   ]
  },
  {
   "cell_type": "markdown",
   "id": "384102d5",
   "metadata": {},
   "source": [
    "#### Error Rates"
   ]
  },
  {
   "cell_type": "code",
   "execution_count": 243,
   "id": "762f0d2e",
   "metadata": {},
   "outputs": [
    {
     "name": "stdout",
     "output_type": "stream",
     "text": [
      "0.049019195993743665\n",
      "0.03679761312779717\n"
     ]
    }
   ],
   "source": [
    "percent_error_Z_simulated = (percent_Z_basis_hardware - percent_Z_basis_simulated) / percent_Z_basis_simulated\n",
    "percent_error_Z_analytical = (percent_Z_basis_hardware - percent_Z_basis_analytical) / percent_Z_basis_analytical\n",
    "print(percent_error_Z_simulated)\n",
    "print(percent_error_Z_analytical)"
   ]
  },
  {
   "cell_type": "markdown",
   "id": "571e158f",
   "metadata": {},
   "source": [
    "## X-Basis"
   ]
  },
  {
   "cell_type": "code",
   "execution_count": 128,
   "id": "5d527c8b",
   "metadata": {},
   "outputs": [
    {
     "data": {
      "image/png": "[encoded data removed]",
      "text/plain": [
       "<Figure size 269.064x117.056 with 1 Axes>"
      ]
     },
     "execution_count": 128,
     "metadata": {},
     "output_type": "execute_result"
    }
   ],
   "source": [
    "coin_X = QuantumCircuit(1)\n",
    "\n",
    "coin_X.h(0)\n",
    "coin_X.h(0)\n",
    "\n",
    "coin_X.draw(output='mpl')"
   ]
  },
  {
   "cell_type": "code",
   "execution_count": 129,
   "id": "76ed3b2d",
   "metadata": {},
   "outputs": [],
   "source": [
    "coin_X.measure_active()\n",
    "\n",
    "isa_circuit_X = pm.run(coin_X)"
   ]
  },
  {
   "cell_type": "code",
   "execution_count": 44,
   "id": "52310b5a",
   "metadata": {},
   "outputs": [
    {
     "name": "stdout",
     "output_type": "stream",
     "text": [
      "Job ID: cw96te9jyrs0008gymbg\n"
     ]
    }
   ],
   "source": [
    "job_X = sampler.run([isa_circuit_X])\n",
    "print(f\"Job ID: {job_X.job_id()}\")"
   ]
  },
  {
   "cell_type": "code",
   "execution_count": 83,
   "id": "d483933e",
   "metadata": {},
   "outputs": [],
   "source": [
    "job_X_basis_finished = service.job('cw96te9jyrs0008gymbg')\n",
    "result_X_basis = job_X_basis_finished.result()\n",
    "data_X_basis = result_X_basis[0].data.measure.get_counts()"
   ]
  },
  {
   "cell_type": "markdown",
   "id": "9ea8aac7",
   "metadata": {},
   "source": [
    "#### Hardware"
   ]
  },
  {
   "cell_type": "code",
   "execution_count": 84,
   "id": "49378e1e",
   "metadata": {},
   "outputs": [
    {
     "data": {
      "image/png": "[encoded data removed]",
      "text/plain": [
       "<Figure size 640x480 with 1 Axes>"
      ]
     },
     "execution_count": 84,
     "metadata": {},
     "output_type": "execute_result"
    }
   ],
   "source": [
    "plot_histogram(data_X_basis)"
   ]
  },
  {
   "cell_type": "code",
   "execution_count": 130,
   "id": "23ac84cf",
   "metadata": {},
   "outputs": [
    {
     "data": {
      "text/plain": [
       "0.0012221950623319481"
      ]
     },
     "execution_count": 130,
     "metadata": {},
     "output_type": "execute_result"
    }
   ],
   "source": [
    "percent_X_basis_hardware = data_X_basis['1'] / data_X_basis['0']"
   ]
  },
  {
   "cell_type": "markdown",
   "id": "2304b41f",
   "metadata": {},
   "source": [
    "#### Simulated"
   ]
  },
  {
   "cell_type": "code",
   "execution_count": 167,
   "id": "c8af6387",
   "metadata": {},
   "outputs": [],
   "source": [
    "sim_job_X = sim_sampler.run([coin_X])\n",
    "result_X_basis_sim = sim_job_X.result()\n",
    "data_X_basis_sim = result_X_basis_sim[0].data.measure.get_counts()\n",
    "percent_X_basis_sim = 0"
   ]
  },
  {
   "cell_type": "code",
   "execution_count": 247,
   "id": "3bc109de",
   "metadata": {},
   "outputs": [
    {
     "data": {
      "image/png": "[encoded data removed]",
      "text/plain": [
       "<Figure size 640x480 with 1 Axes>"
      ]
     },
     "execution_count": 247,
     "metadata": {},
     "output_type": "execute_result"
    }
   ],
   "source": [
    "plot_histogram(data_X_basis_sim)"
   ]
  },
  {
   "cell_type": "markdown",
   "id": "ee5a2484",
   "metadata": {},
   "source": [
    "#### Analytical"
   ]
  },
  {
   "cell_type": "code",
   "execution_count": 172,
   "id": "c49a6a5b",
   "metadata": {},
   "outputs": [],
   "source": [
    "percent_X_basis_analytical = 0"
   ]
  },
  {
   "cell_type": "markdown",
   "id": "bdf7ef4b",
   "metadata": {},
   "source": [
    "#### Error Rates"
   ]
  },
  {
   "cell_type": "code",
   "execution_count": 251,
   "id": "8f3c1bd1",
   "metadata": {},
   "outputs": [
    {
     "name": "stdout",
     "output_type": "stream",
     "text": [
      "inf\n",
      "inf\n"
     ]
    },
    {
     "name": "stderr",
     "output_type": "stream",
     "text": [
      "/var/folders/d4/z4k1h3vx4wjfx481pcdjc6fw0000gp/T/ipykernel_1128/3919594631.py:1: RuntimeWarning: divide by zero encountered in scalar divide\n",
      "  percent_error_X_simulated = np.float64(percent_X_basis_hardware - percent_X_basis_sim) / float(percent_X_basis_sim)\n",
      "/var/folders/d4/z4k1h3vx4wjfx481pcdjc6fw0000gp/T/ipykernel_1128/3919594631.py:2: RuntimeWarning: divide by zero encountered in scalar divide\n",
      "  percent_error_X_analytical = np.float64(percent_X_basis_hardware - percent_X_basis_analytical) / float(percent_X_basis_analytical)\n"
     ]
    }
   ],
   "source": [
    "percent_error_X_simulated = np.float64(percent_X_basis_hardware - percent_X_basis_sim) / percent_X_basis_sim\n",
    "percent_error_X_analytical = np.float64(percent_X_basis_hardware - percent_X_basis_analytical) / float(percent_X_basis_analytical\n",
    "print(percent_error_X_simulated)\n",
    "print(percent_error_X_analytical)"
   ]
  },
  {
   "cell_type": "markdown",
   "id": "65294fb2",
   "metadata": {},
   "source": [
    "## Y-Basis"
   ]
  },
  {
   "cell_type": "code",
   "execution_count": 147,
   "id": "f2d794ac",
   "metadata": {},
   "outputs": [
    {
     "data": {
      "image/png": "[encoded data removed]",
      "text/plain": [
       "<Figure size 269.064x117.056 with 1 Axes>"
      ]
     },
     "execution_count": 147,
     "metadata": {},
     "output_type": "execute_result"
    }
   ],
   "source": [
    "coin_Y = QuantumCircuit(1)\n",
    "\n",
    "coin_Y.h(0)\n",
    "coin_Y.sdg(0)\n",
    "\n",
    "coin_Y.draw(output='mpl')"
   ]
  },
  {
   "cell_type": "code",
   "execution_count": 49,
   "id": "e102b3c1",
   "metadata": {},
   "outputs": [
    {
     "data": {
      "image/png": "[encoded data removed]",
      "text/plain": [
       "<Figure size 480x480 with 1 Axes>"
      ]
     },
     "execution_count": 49,
     "metadata": {},
     "output_type": "execute_result"
    }
   ],
   "source": [
    "state_Y = Statevector(coin_Y)\n",
    "plot_bloch_multivector(state_Y)"
   ]
  },
  {
   "cell_type": "code",
   "execution_count": 148,
   "id": "366e266b",
   "metadata": {},
   "outputs": [],
   "source": [
    "coin_Y.measure_active()\n",
    "\n",
    "isa_circuit_Y = pm.run(coin_Y)"
   ]
  },
  {
   "cell_type": "code",
   "execution_count": 52,
   "id": "8dd4c4c1",
   "metadata": {},
   "outputs": [
    {
     "name": "stdout",
     "output_type": "stream",
     "text": [
      "Job ID: cw96wbsggr6g0087rvhg\n"
     ]
    }
   ],
   "source": [
    "job_Y = sampler.run([isa_circuit_Y])\n",
    "print(f\"Job ID: {job_Y.job_id()}\")"
   ]
  },
  {
   "cell_type": "code",
   "execution_count": 85,
   "id": "e37434fe",
   "metadata": {},
   "outputs": [],
   "source": [
    "job_Y_basis_finished = service.job('cw96wbsggr6g0087rvhg')\n",
    "result_Y_basis = job_Y_basis_finished.result()\n",
    "data_Y_basis = result_Y_basis[0].data.measure.get_counts()"
   ]
  },
  {
   "cell_type": "markdown",
   "id": "7e0a2dfc",
   "metadata": {},
   "source": [
    "#### Hardware"
   ]
  },
  {
   "cell_type": "code",
   "execution_count": 145,
   "id": "d67d91fb",
   "metadata": {},
   "outputs": [
    {
     "data": {
      "image/png": "[encoded data removed]",
      "text/plain": [
       "<Figure size 640x480 with 1 Axes>"
      ]
     },
     "execution_count": 145,
     "metadata": {},
     "output_type": "execute_result"
    }
   ],
   "source": [
    "plot_histogram(data_Y_basis)"
   ]
  },
  {
   "cell_type": "code",
   "execution_count": 156,
   "id": "944b3692",
   "metadata": {},
   "outputs": [],
   "source": [
    "percent_Y_basis_hardware = data_Y_basis['1'] / data_Y_basis['0']"
   ]
  },
  {
   "cell_type": "markdown",
   "id": "5904ef86",
   "metadata": {},
   "source": [
    "#### Simulated"
   ]
  },
  {
   "cell_type": "code",
   "execution_count": 157,
   "id": "7849e917",
   "metadata": {},
   "outputs": [
    {
     "data": {
      "image/png": "[encoded data removed]",
      "text/plain": [
       "<Figure size 640x480 with 1 Axes>"
      ]
     },
     "execution_count": 157,
     "metadata": {},
     "output_type": "execute_result"
    }
   ],
   "source": [
    "sim_job_Y = sim_sampler.run([coin_Y])\n",
    "result_Y_basis_sim = sim_job_Y.result()\n",
    "data_Y_basis_sim = result_Y_basis_sim[0].data.measure.get_counts()\n",
    "percent_Y_basis_simulated = data_Y_basis_sim['1'] / data_Y_basis_sim['0']\n",
    "plot_histogram(data_Y_basis_sim)"
   ]
  },
  {
   "cell_type": "markdown",
   "id": "3417085a",
   "metadata": {},
   "source": [
    "#### Analytical"
   ]
  },
  {
   "cell_type": "code",
   "execution_count": 159,
   "id": "5b6417b5",
   "metadata": {},
   "outputs": [],
   "source": [
    "percent_Y_basis_analytical = 1"
   ]
  },
  {
   "cell_type": "markdown",
   "id": "8dc438f1",
   "metadata": {},
   "source": [
    "#### Error Rates"
   ]
  },
  {
   "cell_type": "code",
   "execution_count": 175,
   "id": "f8186540",
   "metadata": {},
   "outputs": [
    {
     "name": "stdout",
     "output_type": "stream",
     "text": [
      "-0.056000941753125505\n",
      "-0.05230622919638617\n"
     ]
    }
   ],
   "source": [
    "percent_error_Y_simulated = (percent_Y_basis_hardware - percent_Y_basis_simulated) / percent_Y_basis_simulated\n",
    "percent_error_Y_analytical = (percent_Y_basis_hardware - percent_Y_basis_analytical) / percent_Y_basis_analytical\n",
    "print(percent_error_Y_simulated)\n",
    "print(percent_error_Y_analytical)"
   ]
  },
  {
   "cell_type": "markdown",
   "id": "3f80b2e8",
   "metadata": {},
   "source": [
    "## Expectation Values"
   ]
  },
  {
   "cell_type": "code",
   "execution_count": 181,
   "id": "0933140d",
   "metadata": {},
   "outputs": [],
   "source": [
    "estimator = Estimator(mode=backend)\n",
    "sim_estimator = Estimator(mode=simulator)"
   ]
  },
  {
   "cell_type": "markdown",
   "id": "f1bf447b",
   "metadata": {},
   "source": [
    "## Z-Basis"
   ]
  },
  {
   "cell_type": "code",
   "execution_count": 178,
   "id": "213f1d77",
   "metadata": {},
   "outputs": [
    {
     "data": {
      "image/png": "[encoded data removed]",
      "text/plain": [
       "<Figure size 185.453x117.056 with 1 Axes>"
      ]
     },
     "execution_count": 178,
     "metadata": {},
     "output_type": "execute_result"
    }
   ],
   "source": [
    "n_qubits = 1\n",
    "\n",
    "coin_exp = QuantumCircuit(1)\n",
    "coin_exp.h(0)\n",
    "\n",
    "coin_exp.draw(output='mpl')"
   ]
  },
  {
   "cell_type": "code",
   "execution_count": 179,
   "id": "a0a0c59f",
   "metadata": {},
   "outputs": [
    {
     "name": "stdout",
     "output_type": "stream",
     "text": [
      ">>> Observables: ['Z']\n"
     ]
    }
   ],
   "source": [
    "observable_Z = SparsePauliOp(\"Z\" * n_qubits)\n",
    "print(f\">>> Observables: {observable_Z.paulis}\")"
   ]
  },
  {
   "cell_type": "code",
   "execution_count": 62,
   "id": "befdf7b9",
   "metadata": {},
   "outputs": [],
   "source": [
    "isa_circuit_Z = pm.run(coin_Z)\n",
    "isa_layout_Z = observable_Z.apply_layout(isa_circuit_Z.layout)"
   ]
  },
  {
   "cell_type": "code",
   "execution_count": 63,
   "id": "c5505592",
   "metadata": {},
   "outputs": [],
   "source": [
    "estimator.options.default_shots = 8192\n",
    "\n",
    "job_Z = estimator.run([(isa_circuit_Z, isa_layout_Z)])"
   ]
  },
  {
   "cell_type": "code",
   "execution_count": 189,
   "id": "2fa9d3a8",
   "metadata": {},
   "outputs": [],
   "source": [
    "job_Z_exp_finished = service.job('cw972ahggr6g0087rw70')\n",
    "result_Z_exp_hardware = job_Z_exp_finished.result()\n",
    "data_Z_exp_hardware = result_Z_exp_hardware[0].data.evs"
   ]
  },
  {
   "cell_type": "markdown",
   "id": "8e3314f8",
   "metadata": {},
   "source": [
    "#### Hardware"
   ]
  },
  {
   "cell_type": "code",
   "execution_count": 94,
   "id": "48fa2015",
   "metadata": {},
   "outputs": [
    {
     "name": "stdout",
     "output_type": "stream",
     "text": [
      "  > Expectation value: 0.0042037586547972305\n",
      "  > Metadata: {'shots': 8192, 'target_precision': 0.011048543456039804, 'circuit_metadata': {}, 'resilience': {}, 'num_randomizations': 32}\n"
     ]
    }
   ],
   "source": [
    "print(f\"  > Expectation value: {result_Z_exp[0].data.evs}\")\n",
    "print(f\"  > Metadata: {result_Z_exp[0].metadata}\")"
   ]
  },
  {
   "cell_type": "markdown",
   "id": "1871f80a",
   "metadata": {},
   "source": [
    "#### Simulated"
   ]
  },
  {
   "cell_type": "code",
   "execution_count": 231,
   "id": "1610b13c",
   "metadata": {},
   "outputs": [],
   "source": [
    "job_Z_exp_sim = sim_estimator.run([(coin_exp, observable_Z)])\n",
    "result_Z_sim = job_Z_exp_sim.result()\n",
    "data_Z_exp_sim = result_Z_sim[0].data.evs"
   ]
  },
  {
   "cell_type": "markdown",
   "id": "3fdaab10",
   "metadata": {},
   "source": [
    "#### Analytical"
   ]
  },
  {
   "cell_type": "code",
   "execution_count": 230,
   "id": "0aac1036",
   "metadata": {},
   "outputs": [
    {
     "name": "stderr",
     "output_type": "stream",
     "text": [
      "/var/folders/d4/z4k1h3vx4wjfx481pcdjc6fw0000gp/T/ipykernel_1128/248568618.py:4: ComplexWarning: Casting complex values to real discards the imaginary part\n",
      "  data_Z_exp_analytical = int(state.expectation_value(H))\n"
     ]
    }
   ],
   "source": [
    "state = Statevector.from_instruction(coin_exp)\n",
    "H = observable_Z.to_matrix()\n",
    "\n",
    "data_Z_exp_analytical = int(state.expectation_value(H))"
   ]
  },
  {
   "cell_type": "markdown",
   "id": "eadfaf98",
   "metadata": {},
   "source": [
    "#### Error Rates"
   ]
  },
  {
   "cell_type": "code",
   "execution_count": 246,
   "id": "86b6b28d",
   "metadata": {},
   "outputs": [
    {
     "name": "stdout",
     "output_type": "stream",
     "text": [
      "-1.1132802332240097\n",
      "inf\n"
     ]
    },
    {
     "name": "stderr",
     "output_type": "stream",
     "text": [
      "/var/folders/d4/z4k1h3vx4wjfx481pcdjc6fw0000gp/T/ipykernel_1128/3022136300.py:2: RuntimeWarning: divide by zero encountered in scalar divide\n",
      "  percent_error_Z_analytical_exp = (data_Z_exp_hardware - data_Z_exp_analytical) / data_Z_exp_analytical\n"
     ]
    }
   ],
   "source": [
    "percent_error_Z_simulated_exp = (data_Z_exp_hardware - data_Z_exp_sim) / data_Z_exp_sim\n",
    "percent_error_Z_analytical_exp = (data_Z_exp_hardware - data_Z_exp_analytical) / data_Z_exp_analytical\n",
    "print(percent_error_Z_simulated_exp)\n",
    "print(percent_error_Z_analytical_exp)"
   ]
  },
  {
   "cell_type": "markdown",
   "id": "016d67c3",
   "metadata": {},
   "source": [
    "## X-Basis"
   ]
  },
  {
   "cell_type": "code",
   "execution_count": 195,
   "id": "934df931",
   "metadata": {},
   "outputs": [
    {
     "name": "stdout",
     "output_type": "stream",
     "text": [
      ">>> Observables: ['X']\n"
     ]
    }
   ],
   "source": [
    "observable_X = SparsePauliOp(\"X\" * n_qubits)\n",
    "print(f\">>> Observables: {observable_X.paulis}\")"
   ]
  },
  {
   "cell_type": "code",
   "execution_count": 93,
   "id": "40b13526",
   "metadata": {},
   "outputs": [],
   "source": [
    "isa_layout_X = observable_X.apply_layout(layout=isa_circuit_Z.layout)"
   ]
  },
  {
   "cell_type": "code",
   "execution_count": 94,
   "id": "db8c8208",
   "metadata": {},
   "outputs": [
    {
     "name": "stdout",
     "output_type": "stream",
     "text": [
      "Job ID: cw97eb19ezk0008147hg\n"
     ]
    }
   ],
   "source": [
    "job_X = estimator.run([(isa_circuit_Z, isa_layout_X)])\n",
    "print(f\"Job ID: {job_X.job_id()}\")"
   ]
  },
  {
   "cell_type": "code",
   "execution_count": 193,
   "id": "90acbf75",
   "metadata": {},
   "outputs": [],
   "source": [
    "job_X_exp_finished = service.job('cw97eb19ezk0008147hg')\n",
    "result_X_exp_hardware = job_X_exp_finished.result()\n",
    "data_X_exp_hardware = result_X_exp_hardware[0].data.evs"
   ]
  },
  {
   "cell_type": "markdown",
   "id": "7155ad24",
   "metadata": {},
   "source": [
    "#### Hardware"
   ]
  },
  {
   "cell_type": "code",
   "execution_count": 97,
   "id": "839626f0",
   "metadata": {},
   "outputs": [
    {
     "name": "stdout",
     "output_type": "stream",
     "text": [
      "  > Expectation value: 0.99876968503937\n",
      "  > Metadata: {'shots': 8192, 'target_precision': 0.011048543456039804, 'circuit_metadata': {}, 'resilience': {}, 'num_randomizations': 32}\n"
     ]
    }
   ],
   "source": [
    "print(f\"  > Expectation value: {result_X[0].data.evs}\")\n",
    "print(f\"  > Metadata: {result_X[0].metadata}\")"
   ]
  },
  {
   "cell_type": "markdown",
   "id": "249152e6",
   "metadata": {},
   "source": [
    "#### Simulated"
   ]
  },
  {
   "cell_type": "code",
   "execution_count": 199,
   "id": "9195fff9",
   "metadata": {},
   "outputs": [],
   "source": [
    "job_X_exp_sim = sim_estimator.run([(coin_exp, observable_X)])\n",
    "result_X_exp_sim = job_X_exp_sim.result()\n",
    "data_X_exp_sim = int(result_X_exp_sim[0].data.evs)"
   ]
  },
  {
   "cell_type": "markdown",
   "id": "6252e1a9",
   "metadata": {},
   "source": [
    "#### Analytical"
   ]
  },
  {
   "cell_type": "code",
   "execution_count": 200,
   "id": "3d6ef272",
   "metadata": {},
   "outputs": [
    {
     "name": "stderr",
     "output_type": "stream",
     "text": [
      "/var/folders/d4/z4k1h3vx4wjfx481pcdjc6fw0000gp/T/ipykernel_1128/3198693733.py:4: ComplexWarning: Casting complex values to real discards the imaginary part\n",
      "  data_X_exp_analytical = int(state_X.expectation_value(H))\n"
     ]
    }
   ],
   "source": [
    "state_X = Statevector.from_instruction(coin_Z)\n",
    "H = observable_X.to_matrix()\n",
    "\n",
    "data_X_exp_analytical = int(state_X.expectation_value(H))"
   ]
  },
  {
   "cell_type": "markdown",
   "id": "81969cee",
   "metadata": {},
   "source": [
    "#### Error Rate"
   ]
  },
  {
   "cell_type": "code",
   "execution_count": 204,
   "id": "75e4f61c",
   "metadata": {},
   "outputs": [
    {
     "name": "stdout",
     "output_type": "stream",
     "text": [
      "-0.0012303149606299746\n",
      "inf\n"
     ]
    },
    {
     "name": "stderr",
     "output_type": "stream",
     "text": [
      "/var/folders/d4/z4k1h3vx4wjfx481pcdjc6fw0000gp/T/ipykernel_1128/361885181.py:2: RuntimeWarning: divide by zero encountered in scalar divide\n",
      "  percent_error_X_analytical = (data_X_exp_hardware - data_X_exp_analytical) / data_X_exp_analytical\n"
     ]
    }
   ],
   "source": [
    "percent_error_X_simulated = (data_X_exp_hardware - data_X_exp_sim) / data_X_exp_sim\n",
    "percent_error_X_analytical = (data_X_exp_hardware - data_X_exp_analytical) / data_X_exp_analytical\n",
    "print(percent_error_X_simulated)\n",
    "print(percent_error_X_analytical)"
   ]
  },
  {
   "cell_type": "markdown",
   "id": "852f3c37",
   "metadata": {},
   "source": [
    "## Y-Basis"
   ]
  },
  {
   "cell_type": "code",
   "execution_count": 207,
   "id": "edc93191",
   "metadata": {},
   "outputs": [
    {
     "name": "stdout",
     "output_type": "stream",
     "text": [
      ">>> Observables: ['Y']\n"
     ]
    }
   ],
   "source": [
    "observable_Y = SparsePauliOp(\"Y\" * n_qubits)\n",
    "print(f\">>> Observables: {observable_Y.paulis}\")"
   ]
  },
  {
   "cell_type": "code",
   "execution_count": 137,
   "id": "bff5175b",
   "metadata": {},
   "outputs": [],
   "source": [
    "isa_layout_Y = observable_Y.apply_layout(layout=isa_circuit_Z.layout)"
   ]
  },
  {
   "cell_type": "code",
   "execution_count": 146,
   "id": "e0fdadb0",
   "metadata": {},
   "outputs": [
    {
     "name": "stdout",
     "output_type": "stream",
     "text": [
      "Job ID: cw9bdx7bhxtg008wrjzg\n"
     ]
    }
   ],
   "source": [
    "job_Y = estimator.run([(isa_circuit_Z, isa_layout_Y)])\n",
    "print(f\"Job ID: {job_Y.job_id()}\")"
   ]
  },
  {
   "cell_type": "markdown",
   "id": "a21512b6",
   "metadata": {},
   "source": [
    "#### Hardware"
   ]
  },
  {
   "cell_type": "code",
   "execution_count": 206,
   "id": "e702cc41",
   "metadata": {},
   "outputs": [],
   "source": [
    "job_Y_exp_finished = service.job('cw9bdx7bhxtg008wrjzg')\n",
    "result_Y_exp_hardware = job_Y_exp_finished.result()\n",
    "data_Y_exp_hardware = result_Y_exp_hardware[0].data.evs"
   ]
  },
  {
   "cell_type": "code",
   "execution_count": 99,
   "id": "ca0094bf",
   "metadata": {},
   "outputs": [
    {
     "name": "stdout",
     "output_type": "stream",
     "text": [
      "  > Expectation value: -0.012339585389930898\n",
      "  > Metadata: {'shots': 8192, 'target_precision': 0.011048543456039804, 'circuit_metadata': {}, 'resilience': {}, 'num_randomizations': 32}\n"
     ]
    }
   ],
   "source": [
    "print(f\"  > Expectation value: {result_Y[0].data.evs}\")\n",
    "print(f\"  > Metadata: {result_Y[0].metadata}\")"
   ]
  },
  {
   "cell_type": "markdown",
   "id": "557895f5",
   "metadata": {},
   "source": [
    "#### Simulated"
   ]
  },
  {
   "cell_type": "code",
   "execution_count": 213,
   "id": "42f46347",
   "metadata": {},
   "outputs": [
    {
     "name": "stdout",
     "output_type": "stream",
     "text": [
      "0.0009765625\n"
     ]
    }
   ],
   "source": [
    "job_Y_exp_sim = sim_estimator.run([(coin_exp, observable_Y)])\n",
    "result_Y_exp_sim = job_Y_exp_sim.result()\n",
    "data_Y_exp_sim = result_Y_exp_sim[0].data.evs\n",
    "print(data_Y_exp_sim)"
   ]
  },
  {
   "cell_type": "markdown",
   "id": "fd35eb8d",
   "metadata": {},
   "source": [
    "#### Analytical"
   ]
  },
  {
   "cell_type": "code",
   "execution_count": 226,
   "id": "11a57f6b",
   "metadata": {},
   "outputs": [
    {
     "data": {
      "text/plain": [
       "np.complex128(0j)"
      ]
     },
     "execution_count": 226,
     "metadata": {},
     "output_type": "execute_result"
    }
   ],
   "source": [
    "state_Y = Statevector.from_instruction(coin_exp)\n",
    "H = observable_Y.to_matrix()\n",
    "\n",
    "data_Y_exp_analytical = int(state_Y.expectation_value(H))"
   ]
  },
  {
   "cell_type": "markdown",
   "id": "ca8861fe",
   "metadata": {},
   "source": [
    "#### Error Rates"
   ]
  },
  {
   "cell_type": "code",
   "execution_count": 212,
   "id": "3d77a68c",
   "metadata": {},
   "outputs": [
    {
     "name": "stdout",
     "output_type": "stream",
     "text": [
      "0.9439592983521907\n",
      "-inf\n"
     ]
    },
    {
     "name": "stderr",
     "output_type": "stream",
     "text": [
      "/var/folders/d4/z4k1h3vx4wjfx481pcdjc6fw0000gp/T/ipykernel_1128/3939016099.py:2: RuntimeWarning: divide by zero encountered in scalar divide\n",
      "  percent_error_Y_analytical_exp = (data_Y_exp_hardware - data_Y_exp_analytical) / data_Y_exp_analytical\n"
     ]
    }
   ],
   "source": [
    "percent_error_Y_simulated_exp = (data_Y_exp_hardware - data_Y_exp_sim) / data_Y_exp_sim\n",
    "percent_error_Y_analytical_exp = (data_Y_exp_hardware - data_Y_exp_analytical) / data_Y_exp_analytical\n",
    "print(percent_error_Y_simulated_exp)\n",
    "print(percent_error_Y_analytical_exp)"
   ]
  },
  {
   "cell_type": "markdown",
   "id": "3ce4b154",
   "metadata": {},
   "source": [
    "## 0 or 1 State"
   ]
  },
  {
   "cell_type": "code",
   "execution_count": 217,
   "id": "f7177250",
   "metadata": {},
   "outputs": [
    {
     "name": "stdout",
     "output_type": "stream",
     "text": [
      ">>> Observables: ['I', 'Z']\n"
     ]
    }
   ],
   "source": [
    "observable_bin = SparsePauliOp([\"I\", \"Z\"],\n",
    "                              [0.5, -0.5])\n",
    "print(f\">>> Observables: {observable_bin.paulis}\")"
   ]
  },
  {
   "cell_type": "code",
   "execution_count": 151,
   "id": "8433e718",
   "metadata": {},
   "outputs": [],
   "source": [
    "isa_layout_bin = observable_bin.apply_layout(layout=isa_circuit_Z.layout)"
   ]
  },
  {
   "cell_type": "code",
   "execution_count": 152,
   "id": "89ddba4a",
   "metadata": {},
   "outputs": [
    {
     "name": "stdout",
     "output_type": "stream",
     "text": [
      "Job ID: cw9bef12802g0081mq7g\n"
     ]
    }
   ],
   "source": [
    "job_bin = estimator.run([(isa_circuit_Z, isa_layout_bin)])\n",
    "print(f\"Job ID: {job_bin.job_id()}\")"
   ]
  },
  {
   "cell_type": "markdown",
   "id": "ae215c4e",
   "metadata": {},
   "source": [
    "#### Hardware"
   ]
  },
  {
   "cell_type": "code",
   "execution_count": 216,
   "id": "ca32b59a",
   "metadata": {},
   "outputs": [],
   "source": [
    "job_bin_finished = service.job('cw9bef12802g0081mq7g')\n",
    "result_bin_hardware = job_bin_finished.result()\n",
    "data_bin_hardware = result_bin_hardware[0].data.evs"
   ]
  },
  {
   "cell_type": "code",
   "execution_count": 157,
   "id": "ab528a83",
   "metadata": {},
   "outputs": [
    {
     "name": "stdout",
     "output_type": "stream",
     "text": [
      "  > Expectation value: 0.4986493123772102\n",
      "  > Metadata: {'shots': 8192, 'target_precision': 0.011048543456039804, 'circuit_metadata': {}, 'resilience': {}, 'num_randomizations': 32}\n"
     ]
    }
   ],
   "source": [
    "print(f\"  > Expectation value: {data_bin}\")\n",
    "print(f\"  > Metadata: {result_bin[0].metadata}\")"
   ]
  },
  {
   "cell_type": "markdown",
   "id": "f0e2c294",
   "metadata": {},
   "source": [
    "#### Simulated"
   ]
  },
  {
   "cell_type": "code",
   "execution_count": 218,
   "id": "909bfeb0",
   "metadata": {},
   "outputs": [],
   "source": [
    "job_bin_sim = sim_estimator.run([(coin_exp, observable_bin)])\n",
    "result_bin_sim = job_bin_sim.result()\n",
    "data_bin_sim = result_bin_sim[0].data.evs"
   ]
  },
  {
   "cell_type": "markdown",
   "id": "4434c620",
   "metadata": {},
   "source": [
    "#### Analytical"
   ]
  },
  {
   "cell_type": "code",
   "execution_count": 224,
   "id": "186ecb85",
   "metadata": {},
   "outputs": [
    {
     "name": "stderr",
     "output_type": "stream",
     "text": [
      "/var/folders/d4/z4k1h3vx4wjfx481pcdjc6fw0000gp/T/ipykernel_1128/1025992798.py:4: ComplexWarning: Casting complex values to real discards the imaginary part\n",
      "  data_bin_analytical = float(state_bin.expectation_value(H))\n"
     ]
    }
   ],
   "source": [
    "state_bin = Statevector.from_instruction(coin_exp)\n",
    "H = observable_bin.to_matrix()\n",
    "\n",
    "data_bin_analytical = float(state_bin.expectation_value(H))"
   ]
  },
  {
   "cell_type": "markdown",
   "id": "ff8e8490",
   "metadata": {},
   "source": [
    "#### Error Rates"
   ]
  },
  {
   "cell_type": "code",
   "execution_count": 225,
   "id": "da9d5ed9",
   "metadata": {},
   "outputs": [
    {
     "name": "stdout",
     "output_type": "stream",
     "text": [
      "0.0017006294737876683\n",
      "-0.002701375245579341\n"
     ]
    }
   ],
   "source": [
    "percent_error_bin_simulated = (data_bin_hardware - data_bin_sim) / data_bin_sim\n",
    "percent_error_bin_analytical = (data_bin_hardware - data_bin_analytical) / data_bin_analytical\n",
    "print(percent_error_bin_simulated)\n",
    "print(percent_error_bin_analytical)"
   ]
  },
  {
   "cell_type": "markdown",
   "id": "b15f9d25",
   "metadata": {},
   "source": [
    "## Sweeping Parameters"
   ]
  },
  {
   "cell_type": "code",
   "execution_count": 158,
   "id": "a226afc6",
   "metadata": {},
   "outputs": [
    {
     "name": "stdout",
     "output_type": "stream",
     "text": [
      "[0.         0.31415927 0.62831853 0.9424778  1.25663706 1.57079633\n",
      " 1.88495559 2.19911486 2.51327412 2.82743339 3.14159265 3.45575192\n",
      " 3.76991118 4.08407045 4.39822972 4.71238898 5.02654825 5.34070751\n",
      " 5.65486678 5.96902604 6.28318531]\n"
     ]
    }
   ],
   "source": [
    "number_of_angles = 21\n",
    "\n",
    "angles = np.linspace(0, 2 * np.pi, number_of_angles)\n",
    "\n",
    "individual_angles = [[angle] for angle in angles]\n",
    "\n",
    "print(angles)"
   ]
  },
  {
   "cell_type": "code",
   "execution_count": 161,
   "id": "449a49c7",
   "metadata": {},
   "outputs": [
    {
     "data": {
      "image/png": "[encoded data removed]",
      "text/plain": [
       "<Figure size 185.453x117.056 with 1 Axes>"
      ]
     },
     "execution_count": 161,
     "metadata": {},
     "output_type": "execute_result"
    }
   ],
   "source": [
    "theta = circuit.Parameter(\"$\\\\theta$\")\n",
    "\n",
    "cirq = QuantumCircuit(1)\n",
    "cirq.rx(theta, 0)\n",
    "\n",
    "cirq.draw(output='mpl')"
   ]
  },
  {
   "cell_type": "code",
   "execution_count": 163,
   "id": "4cb83be3",
   "metadata": {},
   "outputs": [
    {
     "name": "stdout",
     "output_type": "stream",
     "text": [
      ">>> Observables: ['Z']\n"
     ]
    }
   ],
   "source": [
    "observable_parameter = SparsePauliOp(\"Z\")\n",
    "print(f\">>> Observables: {observable_parameter.paulis}\")"
   ]
  },
  {
   "cell_type": "code",
   "execution_count": 172,
   "id": "8b03b9dd",
   "metadata": {},
   "outputs": [],
   "source": [
    "isa_circuit_parameter = pm.run(cirq)\n",
    "isa_layout_parameter = observable_parameter.apply_layout(isa_circuit_parameter.layout)"
   ]
  },
  {
   "cell_type": "code",
   "execution_count": 173,
   "id": "055ebefb",
   "metadata": {},
   "outputs": [],
   "source": [
    "pub = [isa_circuit_parameter, [isa_layout_parameter], individual_angles]"
   ]
  },
  {
   "cell_type": "code",
   "execution_count": 174,
   "id": "3fafc055",
   "metadata": {},
   "outputs": [
    {
     "name": "stdout",
     "output_type": "stream",
     "text": [
      "Job ID: cw9bmpajzdhg008efx90\n"
     ]
    }
   ],
   "source": [
    "job_parameter = estimator.run(pubs=[pub])\n",
    "print(f\"Job ID: {job_parameter.job_id()}\")"
   ]
  },
  {
   "cell_type": "code",
   "execution_count": 201,
   "id": "21ee57d3",
   "metadata": {},
   "outputs": [
    {
     "data": {
      "text/plain": [
       "DataBin(evs=np.ndarray(<shape=(21,), dtype=float64>), stds=np.ndarray(<shape=(21,), dtype=float64>), ensemble_standard_error=np.ndarray(<shape=(21,), dtype=float64>), shape=(21,))"
      ]
     },
     "execution_count": 201,
     "metadata": {},
     "output_type": "execute_result"
    }
   ],
   "source": [
    "result_parameter = job_parameter.result()\n",
    "data_parameter = result_parameter[0].data.stds\n",
    "data_parameter"
   ]
  },
  {
   "cell_type": "code",
   "execution_count": 203,
   "id": "842e5637",
   "metadata": {},
   "outputs": [
    {
     "data": {
      "image/png": "[encoded data removed]",
      "text/plain": [
       "<Figure size 640x480 with 1 Axes>"
      ]
     },
     "metadata": {},
     "output_type": "display_data"
    }
   ],
   "source": [
    "evs = result_parameter[0].data.evs\n",
    "stds = result_parameter[0].data.stds\n",
    "\n",
    "fig, ax = plt.subplots()\n",
    "\n",
    "ax.errorbar(angles/np.pi, evs, yerr=stds)\n",
    "\n",
    "# set x tick labels to the unit of pi\n",
    "ax.xaxis.set_major_formatter(tck.FormatStrFormatter(\"%g $\\\\pi$\"))\n",
    "ax.xaxis.set_major_locator(tck.MultipleLocator(base=0.5))\n",
    "plt.grid()\n",
    "plt.show()"
   ]
  },
  {
   "cell_type": "markdown",
   "id": "a79138de",
   "metadata": {},
   "source": [
    "## Multi-Qubits"
   ]
  },
  {
   "cell_type": "code",
   "execution_count": 177,
   "id": "d262fb6c",
   "metadata": {},
   "outputs": [
    {
     "data": {
      "text/plain": [
       "<qiskit.circuit.instructionset.InstructionSet at 0x130628340>"
      ]
     },
     "execution_count": 177,
     "metadata": {},
     "output_type": "execute_result"
    }
   ],
   "source": [
    "phiplus = QuantumCircuit(2)\n",
    "phiplus.h(0)\n",
    "phiplus.cx(0, 1)\n",
    "\n",
    "phiminus = QuantumCircuit(2)\n",
    "phiminus.x(0)\n",
    "phiminus.h(0)\n",
    "phiminus.cx(0, 1)"
   ]
  },
  {
   "cell_type": "code",
   "execution_count": 178,
   "id": "20f7c8e6",
   "metadata": {},
   "outputs": [],
   "source": [
    "observables_labels = [\"IZ\", \"IX\", \"ZI\", \"XI\", \"ZZ\", \"XX\"]\n",
    "observables = [SparsePauliOp(label) for label in observables_labels]"
   ]
  },
  {
   "cell_type": "code",
   "execution_count": 180,
   "id": "53ae0710",
   "metadata": {},
   "outputs": [],
   "source": [
    "isa_circuit_phiplus = pm.run(phiplus)\n",
    "isa_layout_phiplus = [observable.apply_layout(isa_circuit_phiplus.layout) for observable in observables]\n",
    "\n",
    "isa_circuit_phiminus = pm.run(phiminus)\n",
    "isa_layout_phiminus = [observable.apply_layout(isa_circuit_phiminus.layout) for observable in observables]"
   ]
  },
  {
   "cell_type": "code",
   "execution_count": 181,
   "id": "76652350",
   "metadata": {},
   "outputs": [
    {
     "name": "stdout",
     "output_type": "stream",
     "text": [
      "Job ID: cw9brz3ggr6g0087sdkg\n"
     ]
    }
   ],
   "source": [
    "job_multi = estimator.run([(isa_circuit_phiplus, isa_layout_phiplus), (isa_circuit_phiminus, isa_layout_phiminus)])\n",
    "print(f\"Job ID: {job_multi.job_id()}\")"
   ]
  },
  {
   "cell_type": "code",
   "execution_count": 198,
   "id": "637292c6",
   "metadata": {},
   "outputs": [],
   "source": [
    "result = job_multi.result()"
   ]
  },
  {
   "cell_type": "code",
   "execution_count": 199,
   "id": "1812082b",
   "metadata": {},
   "outputs": [
    {
     "data": {
      "image/png": "[encoded data removed]",
      "text/plain": [
       "<Figure size 640x480 with 1 Axes>"
      ]
     },
     "metadata": {},
     "output_type": "display_data"
    }
   ],
   "source": [
    "ev_plus = result[0].data.evs\n",
    "ev_minus = result[1].data.evs\n",
    " \n",
    "# plotting graph\n",
    "#plt.plot(observables_labels, ev_plus, ev_minus, 'o')\n",
    "plt.plot(observables_labels, ev_plus, label=r'$\\Phi^+$')\n",
    "plt.plot(observables_labels, ev_minus, label=r'$\\Phi^-$')\n",
    "plt.xlabel('Observables')\n",
    "plt.ylabel('Values')\n",
    "plt.legend()\n",
    "plt.show()"
   ]
  },
  {
   "cell_type": "markdown",
   "id": "10f26d71-09a7-45de-ba2c-e4ed123172ab",
   "metadata": {},
   "source": [
    "# 3 - Programming Exercise: Beating the House with Quantum Entanglement\n",
    "\n",
    "Recommended Reading: \n",
    "- Wong, $\\S$6.2\n",
    "- IBM: https://learning.quantum.ibm.com/course/basics-of-quantum-information/entanglement-in-action\n",
    "\n",
    "In class, we talked about the CHSH game, which shows that two players using an entangled state to coordinate decisions can gain an edge over the best classical strategy.\n",
    "\n",
    "1. Visit the Qiskit tutorial at [this link](https://learning.quantum.ibm.com/tutorial/chsh-inequality) and watch the video (approx. 20 minutes) on the CHSH game. You can optionally read the [Entanglement in Action](https://learning.quantum.ibm.com/course/basics-of-quantum-information/entanglement-in-action#the-chsh-game) tutorial for more background information.\n",
    "\n",
    "2. Complete the sections below marked `# YOUR CODE GOES HERE`. You can check your answers against the implementation shown in the Qiskit tutorial in step 1.\n",
    "\n",
    "3. Answer the in-line questions below."
   ]
  },
  {
   "cell_type": "code",
   "execution_count": 204,
   "id": "28aa4c10-a2d4-4acf-9a2d-e4f7044190ae",
   "metadata": {},
   "outputs": [],
   "source": [
    "# General\n",
    "import numpy as np\n",
    "\n",
    "# Qiskit imports\n",
    "from qiskit import QuantumCircuit\n",
    "from qiskit.circuit import Parameter\n",
    "from qiskit.quantum_info import SparsePauliOp\n",
    "from qiskit.transpiler import generate_preset_pass_manager\n",
    "\n",
    "# Qiskit Runtime imports\n",
    "from qiskit_ibm_runtime import QiskitRuntimeService\n",
    "from qiskit_ibm_runtime import EstimatorV2 as Estimator\n",
    "\n",
    "# Plotting routines\n",
    "import matplotlib.pyplot as plt\n",
    "import matplotlib.ticker as tck"
   ]
  },
  {
   "cell_type": "code",
   "execution_count": null,
   "id": "27810e7c-7620-4500-99bb-7e6af0c9bbbf",
   "metadata": {},
   "outputs": [],
   "source": [
    "# Setup the hardware backend\n",
    "service = QiskitRuntimeService(name='rpi-quantum')\n",
    "backend = service.backend('ibm_rensselaer')"
   ]
  },
  {
   "cell_type": "markdown",
   "id": "85e8f8ea-cee1-4a41-a146-7f86c2577a85",
   "metadata": {},
   "source": [
    "### Creating a Parameterized Circuit\n",
    "In the next cell, you will need to create a Bell state using a Hadamard and CX gate as we have done in previous exercises. In order to continuously vary the measurement basis, we also need to add an $R_y$ gate to the first qubit. $R_y$ represents an arbitrary rotation around the Y-axis by an angle $\\theta$.\n",
    "\n",
    "In the original CHSH example, both Alice and Bob choose a measurement basis, which would imply that both qubits ought to have a rotation gate. The reason we only need one $R_y$ gate is because that is only the *relative phase difference* between Alice and Bob's basis choices that matters. Thus, it is sufficient to apply an $R_y$ gate to only a single qubit, while holding the basis fixed for the other one.\n",
    "\n",
    "**Task:** Create a Qiskit `Parameter` that represents the rotation angle $\\theta$. Then, create the Bell circuit and $R_y$ gate, where the `Parameter` you created is passed to the $R_y$ gate."
   ]
  },
  {
   "cell_type": "code",
   "execution_count": 210,
   "id": "70f8e952-1483-4fc2-b222-d87750e70008",
   "metadata": {},
   "outputs": [
    {
     "data": {
      "image/png": "[encoded data removed]",
      "text/plain": [
       "<Figure size 370.906x200.667 with 1 Axes>"
      ]
     },
     "execution_count": 210,
     "metadata": {},
     "output_type": "execute_result"
    }
   ],
   "source": [
    "# 1. YOUR CODE GOES HERE - Create a Parameter to hold the angle values we'll be\n",
    "# varying\n",
    "theta = circuit.Parameter(\"$\\\\theta$\")\n",
    "\n",
    "chsh_circuit = QuantumCircuit(2)\n",
    "chsh_circuit.h(0)\n",
    "chsh_circuit.cx(0,1)\n",
    "\n",
    "# 2. YOUR CODE GOES HERE - Add an Ry gate to the circuit that rotates qubit 0\n",
    "# by the angle theta that you defined in the parameter. \n",
    "chsh_circuit.ry(theta, 0)\n",
    "\n",
    "chsh_circuit.draw(output=\"mpl\", idle_wires=False, style=\"iqp\")"
   ]
  },
  {
   "cell_type": "markdown",
   "id": "fdffe9d5-54b0-4890-9f7b-44808a7a4a83",
   "metadata": {},
   "source": [
    "**Task:** In the next cell we create a Hadamard circuit, which simulates what would happen if Alice and Bob made their yes/no decisions based on unentangled quantum states. You can reuse the same `Parameter` you defined in the previous cell."
   ]
  },
  {
   "cell_type": "code",
   "execution_count": 211,
   "id": "2b0ad72f-64c4-4ea1-805f-08a4b4ad05cd",
   "metadata": {},
   "outputs": [
    {
     "data": {
      "image/png": "[encoded data removed]",
      "text/plain": [
       "<Figure size 287.294x200.667 with 1 Axes>"
      ]
     },
     "execution_count": 211,
     "metadata": {},
     "output_type": "execute_result"
    }
   ],
   "source": [
    "hadamard_circuit = QuantumCircuit(2)\n",
    "\n",
    "# 1. YOUR CODE GOES HERE - Add a Hadamard gate to each qubit.\n",
    "hadamard_circuit.h(0)\n",
    "hadamard_circuit.h(1)\n",
    "\n",
    "# 2. YOUR CODE GOES HERE - Add an Ry gate to the circuit that rotates qubit 0\n",
    "# by the angle theta that you defined in the parameter. You can reuse the same\n",
    "# parameter as in the previous cell \n",
    "hadamard_circuit.ry(theta, 0)\n",
    "\n",
    "hadamard_circuit.draw(output=\"mpl\", idle_wires=False, style=\"iqp\")"
   ]
  },
  {
   "cell_type": "markdown",
   "id": "1661622f-88b6-4c41-868a-cda027e8cade",
   "metadata": {},
   "source": [
    "### Creating a Grid of Parameters\n",
    "Now that we have parameterized circuits, we need to create the actual parameters that will fill the placeholders we created. Running the next cell will create a grid of $\\theta$ values that runs from $0$ to $2\\pi$, in increments of $\\frac{pi}{12}$. Then it puts the individual values into a \"list of lists\" format needed by Qiskit."
   ]
  },
  {
   "cell_type": "code",
   "execution_count": 212,
   "id": "33787591-b496-4e5d-bcb7-a6d593a8e759",
   "metadata": {},
   "outputs": [],
   "source": [
    "# DO NOT MODIFY - Create a grid of parameters\n",
    "number_of_phases = 25\n",
    "phases = np.linspace(0, 2*np.pi, number_of_phases)\n",
    "\n",
    "# Phases need to be expressed as list of lists in order to work\n",
    "individual_phases = [[ph] for ph in phases]"
   ]
  },
  {
   "cell_type": "markdown",
   "id": "c56ccff4-38d6-4e3a-a671-6d3b2f06ef9f",
   "metadata": {},
   "source": [
    "### Observables for Alice and Bob\n",
    "The measurement bases chosen by Alice and Bob depend on the input they see. We use $A$ and $B$ to denote their chosen bases if they see a red card, and $a$ and $b$ their choices if they see a black card. In the tutorial example, these correspond to Alice and Bob's basis choices when they see a 0, or 1, respectively.\n",
    "\n",
    "We define a value, $S$, called the *CHSH witness*, which is given by:\n",
    "\n",
    "$$S_1 = \\langle A \\otimes B\\rangle - \\langle A \\otimes b \\rangle + \\langle a \\otimes B\\rangle + \\langle a \\otimes b\\rangle$$\n",
    "and\n",
    "$$S_2 = \\langle A \\otimes B\\rangle + \\langle A \\otimes b \\rangle - \\langle a \\otimes B\\rangle + \\langle a \\otimes b\\rangle$$\n",
    "\n",
    "The angle brackets $\\langle \\cdot \\rangle$ denote an **expectation value**. \n",
    "\n",
    "**Note**: In some references (including the Qiskit tutorial), the tensor product notation $\\otimes$ is implied when showing the tensor product of observables.\n",
    "$$S_1 = \\langle AB\\rangle - \\langle Ab \\rangle + \\langle aB\\rangle + \\langle ab\\rangle$$\n",
    "and\n",
    "$$S_2 = \\langle AB\\rangle + \\langle Ab \\rangle - \\langle aB\\rangle + \\langle ab\\rangle$$\n",
    "\n",
    "are the same as above.\n",
    "\n",
    "In the CHSH experiment, Alice and Bob perform measurements based on their inputs, and we're interested in the average behavior over many trials. To implement this efficiently on the hardware:\n",
    "\n",
    "1. We apply an $R_y(\\theta)$ rotation to Alice's qubit. This rotation changes her measurement basis relative to Bob's. By varying $\\theta$, we can see the impact on their wining probability as a function of measurement choices.\n",
    "2. The sum of operator expectation values is equal to the expectation value of the sum of the operators:\n",
    "$$\\langle A + B \\rangle = \\langle A \\rangle + \\langle B\\rangle$$\n",
    "This allows us to define $S$ directly as an observable:\n",
    "\n",
    "$$\\langle\\hat{S}\\rangle = \\langle A\\otimes B \\mp A\\otimes b \\pm a\\otimes B + a\\otimes b \\rangle$$\n",
    "\n",
    "Since we can only use $X$, $Y$ and $Z$ operators in `SparsePauliOp`, we have to format our observable in terms of those operators: \n",
    "\n",
    "- For Alice:\n",
    "  - $A=Z$ (when she sees a red card)\n",
    "  - $a=X$ (when she sees a black card)\n",
    "- For Bob:\n",
    "  - $B=Z$ (when he sees a red card)\n",
    "  - $b=X$ (when he sees a black card)\n",
    "\n",
    "This gives us a `SparsePauliOp` observable of:\n",
    "$$\\langle\\hat{S}\\rangle = \\langle Z\\otimes Z \\mp Z\\otimes X \\pm X\\otimes Z + X\\otimes X \\rangle$$\n",
    "\n",
    "By applying $R_y(\\theta)$ to Alice's qubit before measurement, we effectively change her measurement basis. The $S$ expectation value is then calculated using the measurement results of the Pauli observables, where the basis change induced by $R_y(\\theta)$ is implied.\n",
    "\n",
    "**Task:** In the cell below, fill in the correct coefficients for the `SparsePauliOp` defines for each $S$ observable. The operator components have been defined for you."
   ]
  },
  {
   "cell_type": "code",
   "execution_count": 237,
   "id": "5374945d-cd67-46c8-b964-04669548271d",
   "metadata": {},
   "outputs": [],
   "source": [
    "# YOUR CODE GOES HERE - Create the measurement observables for both S1 and S2 cases.\n",
    "\n",
    "# <S1> = <AB> - <Ab> + <aB> + <ab> -> <ZZ> - <ZX> + <XZ> + <XX>\n",
    "s1_observable = SparsePauliOp.from_list([(\"ZZ\", 1), # PUT THE CORRECT COEFFICIENT HERE (replace the @)\n",
    "                                         (\"ZX\", -1), # PUT THE CORRECT COEFFICIENT HERE (replace the @)\n",
    "                                         (\"XZ\", 1), # PUT THE CORRECT COEFFICIENT HERE (replace the @)\n",
    "                                         (\"XX\", 1)]) # PUT THE CORRECT COEFFICIENT HERE (replace the @)\n",
    "\n",
    "# <CS2> = <AB> + <Ab> - <aB> + <ab> -> <ZZ> + <ZX> - <XZ> + <XX>\n",
    "s2_observable = SparsePauliOp.from_list([(\"ZZ\", 1), # PUT THE CORRECT COEFFICIENT HERE (replace the @)\n",
    "                                         (\"ZX\", 1), # PUT THE CORRECT COEFFICIENT HERE (replace the @) \n",
    "                                         (\"XZ\", -1), # PUT THE CORRECT COEFFICIENT HERE (replace the @) \n",
    "                                         (\"XX\", 1)]) # PUT THE CORRECT COEFFICIENT HERE (replace the @)"
   ]
  },
  {
   "cell_type": "markdown",
   "id": "619a10df-a85a-47e4-add2-0c4aed4cbcd4",
   "metadata": {},
   "source": [
    "### Transpilation\n",
    "\n",
    "Now that the circuits and observables have been defined, we need to transpile the circuits and apply the observables.\n",
    "\n",
    "**Task:** Run the cell to perform the transpilation and observable application operations. In the next blank cell below it, write a few sentences explaining what you think is happening here (what is the transpilation doing, what does it mean to apply the observable to your transpiled circuit?"
   ]
  },
  {
   "cell_type": "markdown",
   "id": "4434bde4-19c8-48a3-9f6d-6791b2071c04",
   "metadata": {},
   "source": [
    "PUT YOUR ANSWER HERE"
   ]
  },
  {
   "cell_type": "code",
   "execution_count": 238,
   "id": "dc0ae40d-d0fe-4369-875b-f8eb4cfcda31",
   "metadata": {},
   "outputs": [],
   "source": [
    "# DO NOT MODIFY - Transpile the circuits and observables.\n",
    "\n",
    "# Create a pass manager to transpile our circuits and observables \n",
    "pm = generate_preset_pass_manager(target=backend.target,\n",
    "                                  optimization_level=3)\n",
    "\n",
    "# Run the transpiler on the base CHSH and Hadamard circuits we created.\n",
    "isa_circuits = pm.run([chsh_circuit, hadamard_circuit])\n",
    "\n",
    "# Run the transpiler on the observables and apply them to the base circuits we\n",
    "# transpiled in the previous step.\n",
    "isa_s1 = [s1_observable.apply_layout(layout=circuit.layout)\n",
    "             for circuit in isa_circuits]\n",
    "isa_s2 = [s2_observable.apply_layout(layout=circuit.layout)\n",
    "           for circuit in isa_circuits]"
   ]
  },
  {
   "cell_type": "markdown",
   "id": "e319d24d-1aeb-4aca-9850-3979135a81a6",
   "metadata": {},
   "source": [
    "### Preparing the Job\n",
    "Once we have the circuits transpiled and observables applied, we need to create PUBs (primitive unified blocks) that bundle up all the circuits, observables and parameters we need to do our calculation."
   ]
  },
  {
   "cell_type": "code",
   "execution_count": 239,
   "id": "3685f560-dbb1-4e8c-b715-318608590209",
   "metadata": {},
   "outputs": [],
   "source": [
    "# DO NOT MODIFY - Create an Estimator and prepare the PUB objects for execution.\n",
    "estimator = Estimator(mode=backend)\n",
    "\n",
    "chsh_pub = (\n",
    "    isa_circuits[0],  # ISA circuit\n",
    "    [[isa_s1[0]], [isa_s2[0]]],  # ISA Observables\n",
    "    individual_phases,  # Parameter values\n",
    ")\n",
    "\n",
    "hadamard_pub = (\n",
    "    isa_circuits[1],  # ISA circuit\n",
    "    [[isa_s1[1]], [isa_s2[1]]],  # ISA Observables\n",
    "    individual_phases,  # Parameter values\n",
    ")"
   ]
  },
  {
   "cell_type": "markdown",
   "id": "9aadd8e4-bd42-4033-afa7-b7031bea7a78",
   "metadata": {},
   "source": [
    "### Running the Job\n",
    "Run the cell below to submit your circuits to the machine. Since we created a grid of parameters for each case, the machine will need to run $G\\cdot N$ circuits, where $G$ is the number of grid points in your parameter grid, and $N$ is the number of cases we're testing.\n",
    "\n",
    "This job should take about 5 minutes once it gets to the front of the queue. You can use the `status` cell below to check if it is completed."
   ]
  },
  {
   "cell_type": "code",
   "execution_count": 240,
   "id": "8cc8c895-af45-4942-b65d-da7d5f34c240",
   "metadata": {},
   "outputs": [
    {
     "name": "stdout",
     "output_type": "stream",
     "text": [
      "Job ID: cwa1a382802g0081p3wg\n"
     ]
    }
   ],
   "source": [
    "# DO NOT MODIFY - Submit your job to the machine and print the job id so we can get it back later.\n",
    "job = estimator.run(pubs=[chsh_pub, hadamard_pub])\n",
    "\n",
    "print(f\"Job ID: {job.job_id()}\")"
   ]
  },
  {
   "cell_type": "code",
   "execution_count": 217,
   "id": "61ebaaa7-73dc-46e4-8b20-bb86f3472c36",
   "metadata": {},
   "outputs": [
    {
     "name": "stdout",
     "output_type": "stream",
     "text": [
      "RUNNING\n"
     ]
    }
   ],
   "source": [
    "# DO NOT MODIFY - Print the job status. The whole job should take ~5 minutes to\n",
    "# run once it gets through the queue.\n",
    "print(job.status())"
   ]
  },
  {
   "cell_type": "markdown",
   "id": "07bf5d43-5735-49ae-969d-a4b124046a09",
   "metadata": {},
   "source": [
    "### Retrieving the Results\n",
    "\n",
    "Once the job is complete, we use the `result` function to get the full list of results for the set of PUBs we ran. We can get the result for individual PUBs by indexing into the list. (e.g., `job_result[0]` to get the first PUB result.)\n",
    "\n",
    "From each PUB result, we then get the computed expectation values by accessing the `job_result.data.evs` list. Since each PUB had two cases (for $S_1$ and $S_2$), we need to access them separately."
   ]
  },
  {
   "cell_type": "code",
   "execution_count": 241,
   "id": "c351b0e3-53b3-4e39-9862-7ccf4cca9ec7",
   "metadata": {},
   "outputs": [
    {
     "name": "stdout",
     "output_type": "stream",
     "text": [
      "[ 1.97947948  1.37487487  0.70720721 -0.08458458 -0.76076076 -1.47597598\n",
      " -2.05105105 -2.47247247 -2.76026026 -2.82182182 -2.73023023 -2.5035035\n",
      " -1.9994995  -1.40540541 -0.69319319  0.02202202  0.76276276  1.46546547\n",
      "  2.03603604  2.43393393  2.75325325  2.85785786  2.73323323  2.40790791\n",
      "  1.99349349]\n",
      "[ 2.03853854  2.47797798  2.74024024  2.85535536  2.74274274  2.44594595\n",
      "  1.96796797  1.4014014   0.67317317 -0.06606607 -0.75825826 -1.40640641\n",
      " -2.00850851 -2.47447447 -2.76426426 -2.89289289 -2.71371371 -2.42942943\n",
      " -1.98998999 -1.46296296 -0.69419419  0.01201201  0.74224224  1.46696697\n",
      "  2.01351351]\n",
      "[ 0.9995015   0.62013958  0.32502493 -0.04087737 -0.37387836 -0.73629113\n",
      " -1.05084746 -1.27866401 -1.39780658 -1.37437687 -1.35044865 -1.25074776\n",
      " -0.96560319 -0.61914257 -0.33649053  0.0329013   0.37886341  0.7113659\n",
      "  1.05932203  1.25074776  1.37387836  1.37986042  1.40628116  1.20787637\n",
      "  0.99002991]\n",
      "[ 1.0333998   1.27018943  1.3439681   1.40877368  1.40279163  1.15403789\n",
      "  1.02791625  0.6774676   0.35194417 -0.06231306 -0.41226321 -0.70737787\n",
      " -1.07627119 -1.19940179 -1.40229312 -1.42472582 -1.35393819 -1.22681954\n",
      " -0.9885344  -0.70538385 -0.32303091  0.0329013   0.43220339  0.75423729\n",
      "  1.02492522]\n"
     ]
    }
   ],
   "source": [
    "# DO NOT MODIFY - Retrieve the results. This will block until the job is completed.\n",
    "\n",
    "job_result = job.result()\n",
    "\n",
    "s1_est = job_result[0].data.evs[0]\n",
    "s2_est = job_result[0].data.evs[1]\n",
    "\n",
    "had1_est = job_result[1].data.evs[0]\n",
    "had2_est = job_result[1].data.evs[1]\n",
    "print(s1_est)\n",
    "print(s2_est)\n",
    "print(had1_est)\n",
    "print(had2_est)"
   ]
  },
  {
   "cell_type": "markdown",
   "id": "68c53ffb-b910-4b8f-a9fa-1e86fe0ae2b9",
   "metadata": {},
   "source": [
    "# Plotting the Results\n",
    "Finally, we can plot the results of our CHSH $S$-values and the corresponding $S$-values for the unentangled Hadamard strategy as a function of the parameter $\\theta$.\n",
    "\n",
    "The gray band in the plot denotes the region where Bell's inequality is violated. Any $S$-values in this region signify that quantum entanglement gave the players an advantage over a strictly classical strategy.\n",
    "\n",
    "**Task:** Run the cell below to plot the results. Answer the questions in the cells that follow. "
   ]
  },
  {
   "cell_type": "code",
   "execution_count": 242,
   "id": "58d82e02-e27e-4a45-ba59-e04de7160c31",
   "metadata": {},
   "outputs": [
    {
     "data": {
      "image/png": "[encoded data removed]",
      "text/plain": [
       "<Figure size 1000x600 with 1 Axes>"
      ]
     },
     "metadata": {},
     "output_type": "display_data"
    }
   ],
   "source": [
    "# DO NOT MODIFY - Plot the Results\n",
    "\n",
    "fig, ax = plt.subplots(figsize=(10, 6))\n",
    "\n",
    "# results from hardware\n",
    "ax.plot(phases / np.pi, s1_est, \"o-\", label=\"$S_1$ (Entangled)\", zorder=3)\n",
    "ax.plot(phases / np.pi, s2_est, \"o-\", label=\"$S_2$ (Entangled)\", zorder=3)\n",
    "ax.plot(phases / np.pi, had1_est, \".--\", label=\"$S_1$ (Had.)\", zorder=3)\n",
    "ax.plot(phases / np.pi, had2_est, \".--\", label=\"$S_2$ (Had.)\", zorder=3)\n",
    "\n",
    "# classical bound +-2\n",
    "ax.axhline(y=2, color=\"0.9\", linestyle=\"--\")\n",
    "ax.axhline(y=-2, color=\"0.9\", linestyle=\"--\")\n",
    "\n",
    "# quantum bound, +-2√2\n",
    "ax.axhline(y=np.sqrt(2) * 2, color=\"0.9\", linestyle=\"-.\")\n",
    "ax.axhline(y=-np.sqrt(2) * 2, color=\"0.9\", linestyle=\"-.\")\n",
    "ax.fill_between(phases / np.pi, 2, 2 * np.sqrt(2), color=\"0.6\", alpha=0.7)\n",
    "ax.fill_between(phases / np.pi, -2, -2 * np.sqrt(2), color=\"0.6\", alpha=0.7)\n",
    "\n",
    "# set x tick labels to the unit of pi\n",
    "ax.xaxis.set_major_formatter(tck.FormatStrFormatter(\"%g $\\\\pi$\"))\n",
    "ax.xaxis.set_major_locator(tck.MultipleLocator(base=0.5))\n",
    "\n",
    "# set labels, and legend\n",
    "plt.xlabel(\"Theta\")\n",
    "plt.ylabel(\"CHSH witness\")\n",
    "plt.legend()\n",
    "plt.show()"
   ]
  },
  {
   "cell_type": "markdown",
   "id": "223649f2-edbd-4692-a1fa-5f4a08382ff9",
   "metadata": {},
   "source": [
    "### Questions:\n",
    "1. What is the general shape of the plots you see? Does this make sense to you? Why or why not?\n",
    "2. For the entangled case, does the plot enter the gray banded region, indicating a quantum advantage? If so, at what range of angles does this advantage occur?\n",
    "3. Repeat question 2, but for the unentangled case.\n",
    "4. At what angle does the maximum advantage occur? Is this the same for both entangled and unentangled cases?\n",
    "5. We can compute the winning probability using the equation $P_{win} = \\frac{1}{2} + \\frac{S}{8}$. Run the cell below to get the winning probability for each case. What is $P_{win}$ for both the entangled and unentangled cases? Do these beat the best classical strategy of 75%?"
   ]
  },
  {
   "cell_type": "markdown",
   "id": "8a30dc35",
   "metadata": {},
   "source": [
    "## 3.3.1"
   ]
  },
  {
   "cell_type": "markdown",
   "id": "70446fa5",
   "metadata": {},
   "source": [
    "The general shape is that of a sinusoidal wave, which makes sense because the result of the Ry gate is a function of sine and cosine functions."
   ]
  },
  {
   "cell_type": "markdown",
   "id": "b17a220c",
   "metadata": {},
   "source": [
    "## 3.3.2"
   ]
  },
  {
   "cell_type": "markdown",
   "id": "2088593f",
   "metadata": {},
   "source": [
    "The enangled plot does enter the grey-banded region, and from 0π to 2π either $S_1$ or $S_2$ were in the advantage zone. From 0.5π to 1π and from 1.5π to 2π for $S_1$ and from 0π to 0.5π and from 1π to 1.5π for $S_2$."
   ]
  },
  {
   "cell_type": "markdown",
   "id": "bd92ed37",
   "metadata": {},
   "source": [
    "## 3.3.3"
   ]
  },
  {
   "cell_type": "markdown",
   "id": "433ab72d",
   "metadata": {},
   "source": [
    "The unentangled plots never enter the advantange zone."
   ]
  },
  {
   "cell_type": "markdown",
   "id": "2fedbb53",
   "metadata": {},
   "source": [
    "## 3.3.4"
   ]
  },
  {
   "cell_type": "markdown",
   "id": "af758b77",
   "metadata": {},
   "source": [
    "At 0.25π, 0.75π, 1.25π, and 1.75π is where maximum advantage occurs. This is true for both the entangled and unentangled cases. "
   ]
  },
  {
   "cell_type": "markdown",
   "id": "493cade2",
   "metadata": {},
   "source": [
    "## 3.3.5"
   ]
  },
  {
   "cell_type": "code",
   "execution_count": 220,
   "id": "252c2347-8bb0-4777-8df8-1b47cc3657ed",
   "metadata": {},
   "outputs": [
    {
     "name": "stdout",
     "output_type": "stream",
     "text": [
      "P_win (Entangled S_1) = 0.9998756218905472\n",
      "P_win (Entangled S_2) = 0.9998756218905472\n",
      "P_win (non-entangled  S_1) = 0.8759970089730807\n",
      "P_win (non-entangled S_2) = 0.8759970089730807\n"
     ]
    }
   ],
   "source": [
    "# DO NOT MODIFY - Compute the winning probabilities for each case\n",
    "def p_win(S):\n",
    "    return 0.5 + S/8\n",
    "\n",
    "print(f\"P_win (Entangled S_1) = {max(p_win(s1_est))}\")\n",
    "print(f\"P_win (Entangled S_2) = {max(p_win(s2_est))}\")\n",
    "print(f\"P_win (non-entangled  S_1) = {max(p_win(had1_est))}\")\n",
    "print(f\"P_win (non-entangled S_2) = {max(p_win(had1_est))}\")"
   ]
  },
  {
   "cell_type": "markdown",
   "id": "2c6afcfb",
   "metadata": {},
   "source": [
    "Both cases are higher than the 75% success of the classic strategy."
   ]
  },
  {
   "cell_type": "markdown",
   "id": "451a77d8-b2c9-4b9e-bae5-9870dcc7bb75",
   "metadata": {},
   "source": [
    "# 4 - Free Response: Career Exploration (15 pts)\n",
    "Answer **one** of the following options in 1-2 paragraphs. There are no right or wrong answers but try to research your answers to give a thoughtful response. You can use any of the references listed below, as well as any other resources you find online.\n",
    "\n",
    "\n",
    "1. Find a quantum company or government lab that interests you and navigate to their job postings page. If there is a posting that you find interesting, explain what the job requirements are and what you think you would need to do to be a qualified candidate for that position.\n",
    "2. Find a university (RPI included) that conducts quantum research, and find a specific research project or experiment that you find interesting. Describe how you would either extend that research project, or propose a new one of your own.\n",
    "3. Describe a business idea for a new quantum technology company. What market or customers would you serve? What would your product be? (I won't steal your ideas, I promise!)"
   ]
  },
  {
   "cell_type": "markdown",
   "id": "c97dfef2-051f-4f51-9d30-d7b579f1e1c0",
   "metadata": {},
   "source": [
    "PUT YOUR ANSWER HERE"
   ]
  },
  {
   "cell_type": "markdown",
   "id": "bb2affe0",
   "metadata": {},
   "source": [
    "## 4.1"
   ]
  },
  {
   "cell_type": "markdown",
   "id": "5e65f4f9",
   "metadata": {},
   "source": [
    "https://careers.ibm.com/job/21096112/quantum-software-developer-intern-2025-remote/\n",
    "\n",
    "This is a job posting for a software develop at IBM quantum. The requirements for this job includes, experience in cloud, systems, or scientific programming languages (a list includes Python, C++, Typescript, and Javascript), proficiency in Git or Github, currently enrolled in a university, and pursuing a bachelor's degree. Some other preferred attributes include proficiency with Qiskit, passion for coding demonstrated by Github projects, curiosity for exploring new technologies, and certifications related to Qiskit. \n",
    "\n",
    "So far, I fit all of the requirements. I am familiar with all the scientific programming languages I have listed, I am proficient with Github after using it in a professional setting, and I am enrolled in a university and pursing a bachelor's degree. However, I lack some of the preferred attributes. I haven't been able to contribute to any open source projects this year due to my schedule, and most of my personal projects were from last year when I was doing RCOS. I do have certifications related to Qiskit."
   ]
  }
 ],
 "metadata": {
  "kernelspec": {
   "display_name": "Python 3 (ipykernel)",
   "language": "python",
   "name": "python3"
  },
  "language_info": {
   "codemirror_mode": {
    "name": "ipython",
    "version": 3
   },
   "file_extension": ".py",
   "mimetype": "text/x-python",
   "name": "python",
   "nbconvert_exporter": "python",
   "pygments_lexer": "ipython3",
   "version": "3.12.7"
  }
 },
 "nbformat": 4,
 "nbformat_minor": 5
}
