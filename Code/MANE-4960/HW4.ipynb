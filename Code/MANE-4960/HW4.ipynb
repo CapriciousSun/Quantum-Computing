{
 "cells": [
  {
   "cell_type": "markdown",
   "id": "b9bbc1b6-d628-4c9a-a427-a9123ebb0219",
   "metadata": {},
   "source": [
    "# Homework 4 - Variational Quantum Simulation\n",
    "\n",
    "In this exercise, you will run a Variational Quantum Eignesolver simualtion of the Hydrogen (H$_2$) molecule. The goal will be to see how well the algorithm performs depending on the choice of parameterized wavefunction, or *ansatz*.\n",
    "\n",
    "For this work, we will need to install two additional libraries, PySCF and Qiskit Nature, which provide utilities for constructing models of atoms and molecules for quantum chemistry simulaitons. Run the next cell to install these libraries."
   ]
  },
  {
   "cell_type": "markdown",
   "id": "4ef7bd66",
   "metadata": {},
   "source": [
    "## Part 1 - Coherence Times and Fidelity"
   ]
  },
  {
   "cell_type": "code",
   "execution_count": 3,
   "id": "4a2f6d6d",
   "metadata": {},
   "outputs": [],
   "source": [
    "from sympy.solvers import solve\n",
    "from sympy import Symbol\n",
    "import numpy as np"
   ]
  },
  {
   "cell_type": "code",
   "execution_count": 5,
   "id": "aa5a2180",
   "metadata": {},
   "outputs": [],
   "source": [
    "# Initial variable declarations\n",
    "m1_T1 = 800 * pow(10, -3)\n",
    "m1_T2 = 250 * pow(10, -3)\n",
    "m1_GT = 100 * pow(10, -6)\n",
    "m1_EPLG = 0.003\n",
    "\n",
    "m2_T1 = 150 * pow(10, -6)\n",
    "m2_T2 = 60 * pow(10, -6)\n",
    "m2_GT = 80 * pow(10, -9)\n",
    "m2_EPLG = 0.017"
   ]
  },
  {
   "cell_type": "markdown",
   "id": "2cb6bb06",
   "metadata": {},
   "source": [
    "#### Question 1"
   ]
  },
  {
   "cell_type": "code",
   "execution_count": 21,
   "id": "18353e92",
   "metadata": {},
   "outputs": [
    {
     "name": "stdout",
     "output_type": "stream",
     "text": [
      "Machine 1:\n",
      "T1:5545.177444479553\tT2:1732.8679513998602\n",
      "Machine 2:\n",
      "T1:1299.650963549895\tT2:519.8603854199581\n"
     ]
    }
   ],
   "source": [
    "x = Symbol('x')\n",
    "e = np.e\n",
    "m1_T1_pow = (-1 * m1_GT) / m1_T1\n",
    "m1_T1_fidelity = float(solve(pow(e, m1_T1_pow * x) - 0.5, x)[0])\n",
    "m1_T2_pow = (-1 * m1_GT) / m1_T2\n",
    "m1_T2_fidelity = float(solve(pow(e, m1_T2_pow * x) - 0.5, x)[0])\n",
    "\n",
    "m2_T1_pow = (-1 * m2_GT) / m2_T1\n",
    "m2_T1_fidelity = float(solve(pow(e, m2_T1_pow * x) - 0.5, x)[0])\n",
    "m2_T2_pow = (-1 * m2_GT) / m2_T2\n",
    "m2_T2_fidelity = float(solve(pow(e, m2_T2_pow * x) - 0.5, x)[0])\n",
    "m2_T2_fidelity\n",
    "\n",
    "print(f\"Machine 1:\\nT1: {m1_T1_fidelity}\\tT2: {m1_T2_fidelity}\")\n",
    "print(f\"Machine 2:\\nT1: {m2_T1_fidelity}\\tT2: {m2_T2_fidelity}\")"
   ]
  },
  {
   "cell_type": "markdown",
   "id": "aeadfb83",
   "metadata": {},
   "source": [
    "#### Question 2"
   ]
  },
  {
   "cell_type": "code",
   "execution_count": 22,
   "id": "78ea6a5e",
   "metadata": {},
   "outputs": [
    {
     "name": "stdout",
     "output_type": "stream",
     "text": [
      "Machine 1: 166.66666666666666\n",
      "Machine 2: 29.41176470588235\n"
     ]
    }
   ],
   "source": [
    "m1_2Q_fidelity = float(solve(m1_EPLG * x - 0.5, x)[0])\n",
    "m2_2Q_fidelity = float(solve(m2_EPLG * x - 0.5, x)[0])\n",
    "print(f\"Machine 1: {m1_2Q_fidelity}\")\n",
    "print(f\"Machine 2: {m2_2Q_fidelity}\")"
   ]
  },
  {
   "cell_type": "markdown",
   "id": "9a5eb89b",
   "metadata": {},
   "source": [
    "#### Question 3"
   ]
  },
  {
   "cell_type": "markdown",
   "id": "17e8fea0",
   "metadata": {},
   "source": [
    "Supposing that cost is no problem, machine 1 should be the obvious choice, since machine 1 has a higher amount of gate fidelity in both single qubit and 2 qubit gates. "
   ]
  },
  {
   "cell_type": "markdown",
   "id": "0a4c208d",
   "metadata": {},
   "source": [
    "#### Question 4"
   ]
  },
  {
   "cell_type": "markdown",
   "id": "ef7eecc1",
   "metadata": {},
   "source": [
    "Even if $T_{1}$ and $T_{2}$ are infinite, those are just coherence times, it doesn't mean the system is error free, since applying gates and measurements would still introduce noise to the system eventually. "
   ]
  },
  {
   "cell_type": "markdown",
   "id": "035bc3f4",
   "metadata": {},
   "source": [
    "## Part 2 - Programming Exercise"
   ]
  },
  {
   "cell_type": "code",
   "execution_count": null,
   "id": "906458cd-de8b-40c1-ba22-8569cd1f5126",
   "metadata": {},
   "outputs": [],
   "source": [
    "# Run this cell to install Qiskit Nature, which is needed for the hydrogen VQE simulation.\n",
    "!pip install qiskit_nature"
   ]
  },
  {
   "cell_type": "code",
   "execution_count": null,
   "id": "5380f556-7311-47da-a59c-43a6ea115830",
   "metadata": {},
   "outputs": [],
   "source": [
    "# OPTIONAL - If you are on Mac or Linux, you can install PySCF to generate the molecular Hamiltonians\n",
    "!pip install pyscf"
   ]
  },
  {
   "cell_type": "code",
   "execution_count": 2,
   "id": "f306c7f6-5355-4a97-a188-abf513e1c020",
   "metadata": {},
   "outputs": [],
   "source": [
    "import datetime as dt\n",
    "import numpy as np\n",
    "import qiskit as qs\n",
    "import qiskit_aer as aer\n",
    "from  qiskit_ibm_runtime import QiskitRuntimeService, EstimatorV2 as Estimator, Session, IBMRuntimeError\n",
    "import matplotlib.pyplot as plt\n",
    "\n",
    "from scipy.optimize import minimize\n",
    "from qiskit.circuit.library import TwoLocal, EfficientSU2\n",
    "from qiskit.transpiler import generate_preset_pass_manager\n",
    "from qiskit_nature.second_q.mappers import JordanWignerMapper\n",
    "from qiskit_nature.second_q.circuit.library import UCCSD, HartreeFock\n",
    "from qiskit_nature.second_q.operators import FermionicOp\n",
    "from qiskit_nature.units import DistanceUnit\n",
    "from qiskit_nature.second_q.drivers import PySCFDriver, ElectronicStructureDriver"
   ]
  },
  {
   "cell_type": "markdown",
   "id": "4ea37026-9879-4afa-a301-ee756e87a9d9",
   "metadata": {},
   "source": [
    "### Create a hardware backend and a noise model simulator\n",
    "The VQE algorithm can take up to a hour to run on the actual quantum machine. If you're having trouble getting through the algorithm, or if the machine has a long waiting time, you may use the noise model simulator by modifying the cell below.\n",
    "\n",
    "Set `use_simulator` to `True` or `False` depending on which backend you want to use, then run the next 3 cells."
   ]
  },
  {
   "cell_type": "code",
   "execution_count": 4,
   "id": "98e39044-5f6a-40e8-a97d-26a3164ffeed",
   "metadata": {},
   "outputs": [],
   "source": [
    "use_simulator = True"
   ]
  },
  {
   "cell_type": "code",
   "execution_count": 5,
   "id": "2926a974-bae2-412d-ab76-58a51e368f94",
   "metadata": {},
   "outputs": [],
   "source": [
    "# DO NOT MODIFY - Set up the hardware backend\n",
    "\n",
    "service = QiskitRuntimeService()\n",
    "hardware = service.backend('ibm_rensselaer')\n",
    "\n",
    "pm = generate_preset_pass_manager(backend=hardware, optimization_level=3)\n",
    "\n",
    "simulator = aer.AerSimulator.from_backend(hardware)\n",
    "\n",
    "if use_simulator:\n",
    "    backend = simulator\n",
    "\n",
    "else:\n",
    "    backend = hardware"
   ]
  },
  {
   "cell_type": "code",
   "execution_count": 6,
   "id": "013c1256-1d2f-4031-b5cd-a16943d68858",
   "metadata": {},
   "outputs": [],
   "source": [
    "# DO NOT MODIFY - This cell defines utility functions for timing and transpilation\n",
    "def get_timestamp():\n",
    "    \"\"\"\n",
    "    Returns the current UTC timestamp in ISO-8601 format.\n",
    "\n",
    "    Returns\n",
    "    -------\n",
    "    str\n",
    "    \"\"\"\n",
    "    return dt.datetime.now(dt.UTC).isoformat()\n",
    "\n",
    "\n",
    "def transpile_and_apply(ansatz, hamiltonian, backend, optimization_level=3, passmanager=None):\n",
    "    \"\"\"\n",
    "    Transpile the ansatz circuit and apply the Hamiltonian observable to the backend layout.\n",
    "    \"\"\"\n",
    "\n",
    "    if not passmanager:\n",
    "        passmanager = generate_preset_pass_manager(target=backend.target,\n",
    "                                                   optimization_level=optimization_level)\n",
    "    \n",
    "    isa_ansatz = passmanager.run(ansatz)\n",
    "    isa_hamiltonian = hamiltonian.apply_layout(isa_ansatz.layout)\n",
    "\n",
    "    return isa_ansatz, isa_hamiltonian"
   ]
  },
  {
   "cell_type": "markdown",
   "id": "c27bd415-6a62-4b90-ac45-7853abdb1374",
   "metadata": {},
   "source": [
    "## Simulation Setup\n",
    "We start by defining the hydrogen molecule system according to a particular physics model defined by `PySCF`. The function defined in the next cell creates a hydrogen molecule with a bond length between the atoms, which is defined as an optional default parameter.\n",
    "\n",
    "Once the atoms are defined, `PySCF` creates a `problem` instance from which we can extract the system Hamiltonian, which is the matrix operator that describes the physics of the molecule. This is what we will use to define the quantum measurement operator in a later step.\n",
    "\n",
    "**Important!** If you are on Windows, PySCF is not supported outside of Windows Subsystem for Linux. If you cannot run the next cell, run the one immediately after, which has the Hamiltonian hard-coded."
   ]
  },
  {
   "cell_type": "code",
   "execution_count": 7,
   "id": "139da6e4-dfc8-4e13-8658-a1ebce65e088",
   "metadata": {},
   "outputs": [],
   "source": [
    "def create_h2_molecule(bond_length=0.735):\n",
    "    \"\"\"\n",
    "    Creates a representation of the Hamiltonian representing the physics of the\n",
    "    hydrogen molecule. The bond length (in Angstroms) is provided as a\n",
    "    parameter.\n",
    "    \"\"\"\n",
    "\n",
    "    # Fix the first hydrogen atom at the origin.\n",
    "    atom1 = f\"H 0 0 {-bond_length/2}\"\n",
    "\n",
    "    # Set the Z-coordinate of the second atom using the bond length we provide\n",
    "    atom2 = f\"H 0 0 {bond_length/2}\"\n",
    "\n",
    "    # Join the strings in the right format to pass to the driver.\n",
    "    atom = \"; \".join([atom1, atom2])\n",
    "    \n",
    "    # Using the PySCF driver, we build the Hamiltonian that describes the\n",
    "    # physics of the hydrogen molecule.\n",
    "    driver = PySCFDriver(\n",
    "        atom=atom,\n",
    "        basis=\"sto3g\",\n",
    "        charge=0,\n",
    "        spin=0,\n",
    "        unit=DistanceUnit.ANGSTROM,\n",
    "    )\n",
    "\n",
    "    # After the Hamiltonian is constructed, we extract the Hamiltonian as a\n",
    "    # FermionicOp\n",
    "    problem = driver.run()\n",
    "    hamiltonian = problem.hamiltonian.second_q_op()\n",
    "\n",
    "    return problem, hamiltonian"
   ]
  },
  {
   "cell_type": "code",
   "execution_count": 8,
   "id": "3a289354-7a73-46fb-a4f9-8e91bdbab6df",
   "metadata": {},
   "outputs": [],
   "source": [
    "hamiltonian = FermionicOp({'+_0 -_0': -1.25633907300325,\n",
    "                           '+_1 -_1': -0.47189600728114184,\n",
    "                           '+_2 -_2': -1.25633907300325,\n",
    "                           '+_3 -_3': -0.47189600728114184,\n",
    "                           '+_0 +_0 -_0 -_0': 0.33785507740175813,\n",
    "                           '+_0 +_1 -_1 -_0': 0.3322908651276482,\n",
    "                           '+_0 +_2 -_2 -_0': 0.33785507740175813,\n",
    "                           '+_0 +_3 -_3 -_0': 0.3322908651276482,\n",
    "                           '+_0 +_0 -_1 -_1': 0.09046559989211572,\n",
    "                           '+_0 +_1 -_0 -_1': 0.09046559989211572,\n",
    "                           '+_0 +_2 -_3 -_1': 0.09046559989211572,\n",
    "                           '+_0 +_3 -_2 -_1': 0.09046559989211572,\n",
    "                           '+_1 +_0 -_1 -_0': 0.09046559989211572,\n",
    "                           '+_1 +_1 -_0 -_0': 0.09046559989211572,\n",
    "                           '+_1 +_2 -_3 -_0': 0.09046559989211572,\n",
    "                           '+_1 +_3 -_2 -_0': 0.09046559989211572,\n",
    "                           '+_1 +_0 -_0 -_1': 0.3322908651276482,\n",
    "                           '+_1 +_1 -_1 -_1': 0.34928686136600884, \n",
    "                           '+_1 +_2 -_2 -_1': 0.3322908651276482, \n",
    "                           '+_1 +_3 -_3 -_1': 0.34928686136600884, \n",
    "                           '+_2 +_0 -_0 -_2': 0.33785507740175813, \n",
    "                           '+_2 +_1 -_1 -_2': 0.3322908651276482, \n",
    "                           '+_2 +_2 -_2 -_2': 0.33785507740175813, \n",
    "                           '+_2 +_3 -_3 -_2': 0.3322908651276482, \n",
    "                           '+_2 +_0 -_1 -_3': 0.09046559989211572, \n",
    "                           '+_2 +_1 -_0 -_3': 0.09046559989211572, \n",
    "                           '+_2 +_2 -_3 -_3': 0.09046559989211572, \n",
    "                           '+_2 +_3 -_2 -_3': 0.09046559989211572, \n",
    "                           '+_3 +_0 -_1 -_2': 0.09046559989211572, \n",
    "                           '+_3 +_1 -_0 -_2': 0.09046559989211572, \n",
    "                           '+_3 +_2 -_3 -_2': 0.09046559989211572, \n",
    "                           '+_3 +_3 -_2 -_2': 0.09046559989211572, \n",
    "                           '+_3 +_0 -_0 -_3': 0.3322908651276482, \n",
    "                           '+_3 +_1 -_1 -_3': 0.34928686136600884, \n",
    "                           '+_3 +_2 -_2 -_3': 0.3322908651276482, \n",
    "                           '+_3 +_3 -_3 -_3': 0.34928686136600884}, \n",
    "                          num_spin_orbitals=4, )"
   ]
  },
  {
   "cell_type": "markdown",
   "id": "5514ae7e-2f57-4013-9b27-86042dbb1c5e",
   "metadata": {},
   "source": [
    "### Mapping the problem to qubits\n",
    "The function defined in the next cell takes the Hamiltonian model from the `PySCF` physics driver and maps it to a Pauli gate representation using the *Jordan-Wigner Transform*. This method converts any arbitrary Hamiltonian matrix into a combination of **X**, **Y**, and **Z** operations with scalar coefficients. This is what lets us run the problem on a quantum computer."
   ]
  },
  {
   "cell_type": "code",
   "execution_count": 9,
   "id": "d8ebd9ce-e584-434d-b28d-c6902bbc2565",
   "metadata": {},
   "outputs": [],
   "source": [
    "def map_to_qubits(hamiltonian):\n",
    "    # Create a SparsePauliOp using the Jordan-Wigner transform \n",
    "    mapper = JordanWignerMapper()\n",
    "    mapped_hamiltonian = mapper.map(hamiltonian)\n",
    "\n",
    "    return mapped_hamiltonian, mapper"
   ]
  },
  {
   "cell_type": "markdown",
   "id": "0290581a-ef3b-409a-8894-1c5de31f4eab",
   "metadata": {},
   "source": [
    "### Defining an Ansatz\n",
    "The ansatz of a problem is the assumed form of the quantum state that the Hamiltonian is operating on. It isn't necessarily a physical wave function, just an assumed one with parameters that we can vary.\n",
    "\n",
    "In the next cell, we define two ansätze. The first, Unitary Coupled Cluster Singles and Doubles (UCCSD), represents a parameterized wavefunction as a unitary transformation of a reference state using an expansion of single and double excitation operators. Intuitively, this ansatz captures electron correlations by allowing electrons to be promoted from occupied to unoccupied orbitals, and in the quantum simulation, each qubit represents an orbital rather than a particle.\n",
    "\n",
    "The second ansatz, TwoLocal, represents the wavefunction as a parameterized quantum circuit composed of alternating layers of single-qubit rotations and entangling two-qubit gates. Ths is meant to be more optimal for hardware efficiency, allowing customization of gate types and connectivity to match the capabilities of the quantum device while optimizing over adjustable parameters. In contract to UCCSD, it makes no assumptions of the underlying physics, and is entirely based on the layout of the hardware."
   ]
  },
  {
   "cell_type": "code",
   "execution_count": 10,
   "id": "70a6b993-8da9-4f31-bc0d-a4c10798195f",
   "metadata": {},
   "outputs": [],
   "source": [
    "def create_ansatze(mapped_hamiltonian, mapper):\n",
    "\n",
    "    num_spatial_orbitals = 2\n",
    "    num_particles = (1, 1)\n",
    "    \n",
    "    uccsd_ansatz = UCCSD(num_spatial_orbitals,\n",
    "                         num_particles,\n",
    "                         mapper,\n",
    "                         initial_state=HartreeFock(\n",
    "                             num_spatial_orbitals,\n",
    "                             num_particles,\n",
    "                             mapper,),)\n",
    "\n",
    "    twolocal_ansatz = TwoLocal(mapped_hamiltonian.num_qubits,        \n",
    "                           rotation_blocks=[\"rx\", \"ry\"],\n",
    "                           entanglement_blocks=[\"cz\"],\n",
    "                           entanglement=\"linear\",\n",
    "                           reps=2,\n",
    "                           initial_state=None,)\n",
    "\n",
    "    return uccsd_ansatz, twolocal_ansatz"
   ]
  },
  {
   "cell_type": "markdown",
   "id": "4dec0651-3930-4226-9853-83c98eb99db9",
   "metadata": {},
   "source": [
    "### Energy Function\n",
    "This is the core module that constructs and executes the quantum circuit, which evaluates Schrodinger's equation, $E\\psi = \\textbf{H}\\psi$ for the given set of parameters (in $\\psi$) and fixed Hamiltonian. The end result is an expectation value that represents the ground state energy of the Hamiltonian, which in this exercise, represents the ground state energy of the Hydrogen atom."
   ]
  },
  {
   "cell_type": "code",
   "execution_count": 11,
   "id": "37612691-2189-4c5f-9ccb-42e920e2883f",
   "metadata": {},
   "outputs": [],
   "source": [
    "def energy_function(params, ansatz, hamiltonian, estimator, session, metadata_dict):\n",
    "    \"\"\"\n",
    "    This cost function returns the potential energy of the bond between two\n",
    "    Hydrogen atoms using a qiskit estimator.\n",
    "\n",
    "    Parameters:\n",
    "        params (ndarray): Array of ansatz parameters\n",
    "        ansatz (QuantumCircuit): Parameterized ansatz circuit\n",
    "        hamiltonian (SparsePauliOp): Operator representation of Hamiltonian\n",
    "        estimator (EstimatorV2): Estimator primitive instance\n",
    "        cost_history_dict: Dictionary for storing intermediate results\n",
    "\n",
    "    Returns:\n",
    "        float: Energy estimate\n",
    "    \"\"\"\n",
    "    # Create the PUB for this parameter set\n",
    "    pub = (ansatz, [hamiltonian], [params])\n",
    "\n",
    "    # Submit the job to the session    \n",
    "    job = estimator.run(pubs=[pub])\n",
    "\n",
    "    # Grab the job ID so we can retrieve it later\n",
    "    job_id = job.job_id()\n",
    "    metadata_dict['job_ids'].append(job_id)\n",
    "\n",
    "    # Wait on the result\n",
    "    result = job.result()\n",
    "\n",
    "    # Get the expectation value and std. deviation\n",
    "    energy = result[0].data.evs[0]\n",
    "    err = result[0].data.stds[0]\n",
    "\n",
    "\n",
    "    # Keep track of the answers and statistics in the run\n",
    "    metadata_dict[\"iters\"] += 1\n",
    "    metadata_dict[\"params\"].append(params)\n",
    "    metadata_dict[\"energy\"].append((energy, err))\n",
    "\n",
    "    if metadata_dict[\"iters\"] >= metadata_dict[\"maxiter\"]:\n",
    "        session.close()\n",
    "    \n",
    "    print(f\"Iters. done: {metadata_dict['iters']} [Energy: {energy} +/- {err}]\")\n",
    "\n",
    "    return energy"
   ]
  },
  {
   "cell_type": "markdown",
   "id": "032a0494-0e0a-4c19-b843-5a3fb5d07a90",
   "metadata": {},
   "source": [
    "### VQE Algorithm\n",
    "The cells below define the full VQE algorithm for both ansatze, which use the Scipy `minimize` function to run the energy function in a loop until it converges to a minimum value. The minimum value corresponds to the algorithm's estimate of the ground state energy."
   ]
  },
  {
   "cell_type": "code",
   "execution_count": 12,
   "id": "ea811be4-ce5b-441e-b1d2-f92a5f7784f5",
   "metadata": {},
   "outputs": [],
   "source": [
    "def run_vqe_twolocal(backend, isa_twolocal, isa_hamiltonian_twolocal):\n",
    "\n",
    "    num_params_twolocal = isa_twolocal.num_parameters\n",
    "    x0_twolocal = np.zeros(num_params_twolocal)\n",
    "    \n",
    "    twolocal_dict = {\n",
    "        'session_id': None,\n",
    "        'iters': 0,\n",
    "        'backend': backend.name,\n",
    "        'maxiter': 200,\n",
    "        'params': [],\n",
    "        'energy': [],\n",
    "        'job_ids': [],\n",
    "        'job_info':[],\n",
    "        'start_time': None,\n",
    "        'end_time': None,\n",
    "        'completed': False\n",
    "    }\n",
    "    \n",
    "    with Session(backend=backend, max_time=3600) as session:\n",
    "    \n",
    "        # Create the estimator and assign the shot value\n",
    "        estimator = Estimator(mode=session)\n",
    "        estimator.options.default_precision = 1e-1\n",
    "        estimator.options.resilience_level = 1\n",
    "        estimator.options.default_shots = 8192\n",
    "    \n",
    "        try:\n",
    "            # Execute the minimization\n",
    "            res = minimize(\n",
    "                energy_function,\n",
    "                x0_twolocal,\n",
    "                args=(isa_twolocal, \n",
    "                      isa_hamiltonian_twolocal, \n",
    "                      estimator, \n",
    "                      session, \n",
    "                      twolocal_dict),\n",
    "                method='COBYLA',\n",
    "                tol=1e-1,\n",
    "            )\n",
    "    \n",
    "        except IBMRuntimeError:\n",
    "            print(\"Session closed after exceeding time limit. Stopping iteration.\")\n",
    "    \n",
    "    return twolocal_dict\n"
   ]
  },
  {
   "cell_type": "code",
   "execution_count": 13,
   "id": "5824b17b-a805-4299-9190-4ce869d398f4",
   "metadata": {},
   "outputs": [],
   "source": [
    "def run_vqe_uccsd(backend, isa_uccsd, isa_hamiltonian_uccsd):\n",
    "\n",
    "    num_params_uccsd = isa_uccsd.num_parameters\n",
    "    x0_uccsd = np.zeros(num_params_uccsd)\n",
    "    \n",
    "    uccsd_dict = {\n",
    "        'session_id': None,\n",
    "        'iters': 0,\n",
    "        'backend': backend.name,\n",
    "        'maxiter': 200,\n",
    "        'params': [],\n",
    "        'energy': [],\n",
    "        'job_ids': [],\n",
    "        'job_info':[],\n",
    "        'start_time': None,\n",
    "        'end_time': None,\n",
    "        'completed': False\n",
    "    }\n",
    "    \n",
    "    with Session(backend=backend, max_time=3600) as session:\n",
    "    \n",
    "        # Create the estimator and assign the shot value\n",
    "        estimator = Estimator(mode=session)\n",
    "        estimator.options.default_precision = 1e-1\n",
    "        estimator.options.resilience_level = 1\n",
    "        estimator.options.default_shots = 8192\n",
    "    \n",
    "        try:\n",
    "            # Execute the minimization\n",
    "            res = minimize(\n",
    "                energy_function,\n",
    "                x0_uccsd,\n",
    "                args=(isa_uccsd, \n",
    "                      isa_hamiltonian_uccsd, \n",
    "                      estimator, \n",
    "                      session, \n",
    "                      uccsd_dict),\n",
    "                method='COBYLA',\n",
    "                tol=1e-1,\n",
    "            )\n",
    "    \n",
    "        except IBMRuntimeError:\n",
    "            print(\"Session closed after exceeding time limit. Stopping iteration.\")\n",
    "    \n",
    "    return uccsd_dict"
   ]
  },
  {
   "cell_type": "markdown",
   "id": "68819c2b-a30c-4dcd-93ce-9bc1528d4cce",
   "metadata": {},
   "source": [
    "## Setup the Problem\n",
    "Now that we've defined all the functions, the next cell combines all of that into a problem we can run."
   ]
  },
  {
   "cell_type": "code",
   "execution_count": 14,
   "id": "aa043a09-361f-4aa7-b0d0-4a3339eee58c",
   "metadata": {},
   "outputs": [],
   "source": [
    "# Create the molecular model and Hamiltonian\n",
    "mapped_hamiltonian, mapper = map_to_qubits(hamiltonian)\n",
    "\n",
    "# Create the ansatze\n",
    "uccsd_ansatz, twolocal_ansatz = create_ansatze(mapped_hamiltonian, mapper)\n",
    "\n",
    "# Create the quantum circuits for each ansatz combination\n",
    "isa_uccsd, isa_hamiltonian_uccsd = transpile_and_apply(uccsd_ansatz,\n",
    "                                                       mapped_hamiltonian,\n",
    "                                                       backend=backend,\n",
    "                                                       optimization_level=3,\n",
    "                                                       passmanager=pm)\n",
    "\n",
    "isa_twolocal, isa_hamiltonian_twolocal = transpile_and_apply(twolocal_ansatz,\n",
    "                                                             mapped_hamiltonian,\n",
    "                                                             backend=backend,\n",
    "                                                             optimization_level=3,\n",
    "                                                             passmanager=pm)"
   ]
  },
  {
   "cell_type": "markdown",
   "id": "7fead62f-9459-4589-91f5-708cf3702af5",
   "metadata": {},
   "source": [
    "## Run the TwoLocal solution\n",
    "The next cell will execute the VQE algorithm using the TwoLocal ansatz. On quantum hardware, **this may take up to an hour to run**. On a simulator, it will take 5-10 minutes."
   ]
  },
  {
   "cell_type": "code",
   "execution_count": 15,
   "id": "31b7bee7-63b0-4f8e-a7b1-dacf5a92ee49",
   "metadata": {},
   "outputs": [
    {
     "name": "stderr",
     "output_type": "stream",
     "text": [
      "/Library/Frameworks/Python.framework/Versions/3.12/lib/python3.12/site-packages/qiskit_ibm_runtime/fake_provider/local_service.py:187: UserWarning: The resilience_level option has no effect in local testing mode.\n",
      "  warnings.warn(\"The resilience_level option has no effect in local testing mode.\")\n"
     ]
    },
    {
     "name": "stdout",
     "output_type": "stream",
     "text": [
      "Iters. done: 1 [Energy: -0.06521448885228834 +/- 0.008076383486996203]\n"
     ]
    },
    {
     "name": "stderr",
     "output_type": "stream",
     "text": [
      "/Library/Frameworks/Python.framework/Versions/3.12/lib/python3.12/site-packages/qiskit_ibm_runtime/fake_provider/local_service.py:187: UserWarning: The resilience_level option has no effect in local testing mode.\n",
      "  warnings.warn(\"The resilience_level option has no effect in local testing mode.\")\n"
     ]
    },
    {
     "name": "stdout",
     "output_type": "stream",
     "text": [
      "Iters. done: 2 [Energy: -0.32871254085701 +/- 0.011430995388059119]\n"
     ]
    },
    {
     "name": "stderr",
     "output_type": "stream",
     "text": [
      "/Library/Frameworks/Python.framework/Versions/3.12/lib/python3.12/site-packages/qiskit_ibm_runtime/fake_provider/local_service.py:187: UserWarning: The resilience_level option has no effect in local testing mode.\n",
      "  warnings.warn(\"The resilience_level option has no effect in local testing mode.\")\n"
     ]
    },
    {
     "name": "stdout",
     "output_type": "stream",
     "text": [
      "Iters. done: 3 [Energy: -0.39854011303091885 +/- 0.014914303966937817]\n"
     ]
    },
    {
     "name": "stderr",
     "output_type": "stream",
     "text": [
      "/Library/Frameworks/Python.framework/Versions/3.12/lib/python3.12/site-packages/qiskit_ibm_runtime/fake_provider/local_service.py:187: UserWarning: The resilience_level option has no effect in local testing mode.\n",
      "  warnings.warn(\"The resilience_level option has no effect in local testing mode.\")\n"
     ]
    },
    {
     "name": "stdout",
     "output_type": "stream",
     "text": [
      "Iters. done: 4 [Energy: -0.6170343893958272 +/- 0.01721077345495657]\n"
     ]
    },
    {
     "name": "stderr",
     "output_type": "stream",
     "text": [
      "/Library/Frameworks/Python.framework/Versions/3.12/lib/python3.12/site-packages/qiskit_ibm_runtime/fake_provider/local_service.py:187: UserWarning: The resilience_level option has no effect in local testing mode.\n",
      "  warnings.warn(\"The resilience_level option has no effect in local testing mode.\")\n"
     ]
    },
    {
     "name": "stdout",
     "output_type": "stream",
     "text": [
      "Iters. done: 5 [Energy: -0.5926933670885575 +/- 0.01921011095969564]\n"
     ]
    },
    {
     "name": "stderr",
     "output_type": "stream",
     "text": [
      "/Library/Frameworks/Python.framework/Versions/3.12/lib/python3.12/site-packages/qiskit_ibm_runtime/fake_provider/local_service.py:187: UserWarning: The resilience_level option has no effect in local testing mode.\n",
      "  warnings.warn(\"The resilience_level option has no effect in local testing mode.\")\n"
     ]
    },
    {
     "name": "stdout",
     "output_type": "stream",
     "text": [
      "Iters. done: 6 [Energy: -0.7248021847165627 +/- 0.017732580029028198]\n"
     ]
    },
    {
     "name": "stderr",
     "output_type": "stream",
     "text": [
      "/Library/Frameworks/Python.framework/Versions/3.12/lib/python3.12/site-packages/qiskit_ibm_runtime/fake_provider/local_service.py:187: UserWarning: The resilience_level option has no effect in local testing mode.\n",
      "  warnings.warn(\"The resilience_level option has no effect in local testing mode.\")\n"
     ]
    },
    {
     "name": "stdout",
     "output_type": "stream",
     "text": [
      "Iters. done: 7 [Energy: -0.7513095819585299 +/- 0.018244865191687692]\n"
     ]
    },
    {
     "name": "stderr",
     "output_type": "stream",
     "text": [
      "/Library/Frameworks/Python.framework/Versions/3.12/lib/python3.12/site-packages/qiskit_ibm_runtime/fake_provider/local_service.py:187: UserWarning: The resilience_level option has no effect in local testing mode.\n",
      "  warnings.warn(\"The resilience_level option has no effect in local testing mode.\")\n"
     ]
    },
    {
     "name": "stdout",
     "output_type": "stream",
     "text": [
      "Iters. done: 8 [Energy: -0.8450000729920168 +/- 0.018632232857097933]\n"
     ]
    },
    {
     "name": "stderr",
     "output_type": "stream",
     "text": [
      "/Library/Frameworks/Python.framework/Versions/3.12/lib/python3.12/site-packages/qiskit_ibm_runtime/fake_provider/local_service.py:187: UserWarning: The resilience_level option has no effect in local testing mode.\n",
      "  warnings.warn(\"The resilience_level option has no effect in local testing mode.\")\n"
     ]
    },
    {
     "name": "stdout",
     "output_type": "stream",
     "text": [
      "Iters. done: 9 [Energy: -0.778165928626902 +/- 0.02017479408378477]\n"
     ]
    },
    {
     "name": "stderr",
     "output_type": "stream",
     "text": [
      "/Library/Frameworks/Python.framework/Versions/3.12/lib/python3.12/site-packages/qiskit_ibm_runtime/fake_provider/local_service.py:187: UserWarning: The resilience_level option has no effect in local testing mode.\n",
      "  warnings.warn(\"The resilience_level option has no effect in local testing mode.\")\n"
     ]
    },
    {
     "name": "stdout",
     "output_type": "stream",
     "text": [
      "Iters. done: 10 [Energy: -1.0433407079233843 +/- 0.01843373000563237]\n"
     ]
    },
    {
     "name": "stderr",
     "output_type": "stream",
     "text": [
      "/Library/Frameworks/Python.framework/Versions/3.12/lib/python3.12/site-packages/qiskit_ibm_runtime/fake_provider/local_service.py:187: UserWarning: The resilience_level option has no effect in local testing mode.\n",
      "  warnings.warn(\"The resilience_level option has no effect in local testing mode.\")\n"
     ]
    },
    {
     "name": "stdout",
     "output_type": "stream",
     "text": [
      "Iters. done: 11 [Energy: -1.0414566001319718 +/- 0.018817998584669118]\n"
     ]
    },
    {
     "name": "stderr",
     "output_type": "stream",
     "text": [
      "/Library/Frameworks/Python.framework/Versions/3.12/lib/python3.12/site-packages/qiskit_ibm_runtime/fake_provider/local_service.py:187: UserWarning: The resilience_level option has no effect in local testing mode.\n",
      "  warnings.warn(\"The resilience_level option has no effect in local testing mode.\")\n"
     ]
    },
    {
     "name": "stdout",
     "output_type": "stream",
     "text": [
      "Iters. done: 12 [Energy: -1.1875166405331246 +/- 0.017984005528309626]\n"
     ]
    },
    {
     "name": "stderr",
     "output_type": "stream",
     "text": [
      "/Library/Frameworks/Python.framework/Versions/3.12/lib/python3.12/site-packages/qiskit_ibm_runtime/fake_provider/local_service.py:187: UserWarning: The resilience_level option has no effect in local testing mode.\n",
      "  warnings.warn(\"The resilience_level option has no effect in local testing mode.\")\n"
     ]
    },
    {
     "name": "stdout",
     "output_type": "stream",
     "text": [
      "Iters. done: 13 [Energy: -1.0515121118881874 +/- 0.01945053781821391]\n"
     ]
    },
    {
     "name": "stderr",
     "output_type": "stream",
     "text": [
      "/Library/Frameworks/Python.framework/Versions/3.12/lib/python3.12/site-packages/qiskit_ibm_runtime/fake_provider/local_service.py:187: UserWarning: The resilience_level option has no effect in local testing mode.\n",
      "  warnings.warn(\"The resilience_level option has no effect in local testing mode.\")\n"
     ]
    },
    {
     "name": "stdout",
     "output_type": "stream",
     "text": [
      "Iters. done: 14 [Energy: -1.2194775960745132 +/- 0.017862864008430658]\n"
     ]
    },
    {
     "name": "stderr",
     "output_type": "stream",
     "text": [
      "/Library/Frameworks/Python.framework/Versions/3.12/lib/python3.12/site-packages/qiskit_ibm_runtime/fake_provider/local_service.py:187: UserWarning: The resilience_level option has no effect in local testing mode.\n",
      "  warnings.warn(\"The resilience_level option has no effect in local testing mode.\")\n"
     ]
    },
    {
     "name": "stdout",
     "output_type": "stream",
     "text": [
      "Iters. done: 15 [Energy: -1.1288425969532283 +/- 0.018534931090871693]\n"
     ]
    },
    {
     "name": "stderr",
     "output_type": "stream",
     "text": [
      "/Library/Frameworks/Python.framework/Versions/3.12/lib/python3.12/site-packages/qiskit_ibm_runtime/fake_provider/local_service.py:187: UserWarning: The resilience_level option has no effect in local testing mode.\n",
      "  warnings.warn(\"The resilience_level option has no effect in local testing mode.\")\n"
     ]
    },
    {
     "name": "stdout",
     "output_type": "stream",
     "text": [
      "Iters. done: 16 [Energy: -1.2438210641377692 +/- 0.01771462355216227]\n"
     ]
    },
    {
     "name": "stderr",
     "output_type": "stream",
     "text": [
      "/Library/Frameworks/Python.framework/Versions/3.12/lib/python3.12/site-packages/qiskit_ibm_runtime/fake_provider/local_service.py:187: UserWarning: The resilience_level option has no effect in local testing mode.\n",
      "  warnings.warn(\"The resilience_level option has no effect in local testing mode.\")\n"
     ]
    },
    {
     "name": "stdout",
     "output_type": "stream",
     "text": [
      "Iters. done: 17 [Energy: -1.1435789378137229 +/- 0.01921083172160541]\n"
     ]
    },
    {
     "name": "stderr",
     "output_type": "stream",
     "text": [
      "/Library/Frameworks/Python.framework/Versions/3.12/lib/python3.12/site-packages/qiskit_ibm_runtime/fake_provider/local_service.py:187: UserWarning: The resilience_level option has no effect in local testing mode.\n",
      "  warnings.warn(\"The resilience_level option has no effect in local testing mode.\")\n"
     ]
    },
    {
     "name": "stdout",
     "output_type": "stream",
     "text": [
      "Iters. done: 18 [Energy: -1.367457715327757 +/- 0.017352118342333963]\n"
     ]
    },
    {
     "name": "stderr",
     "output_type": "stream",
     "text": [
      "/Library/Frameworks/Python.framework/Versions/3.12/lib/python3.12/site-packages/qiskit_ibm_runtime/fake_provider/local_service.py:187: UserWarning: The resilience_level option has no effect in local testing mode.\n",
      "  warnings.warn(\"The resilience_level option has no effect in local testing mode.\")\n"
     ]
    },
    {
     "name": "stdout",
     "output_type": "stream",
     "text": [
      "Iters. done: 19 [Energy: -1.284838880451483 +/- 0.017920720568339456]\n"
     ]
    },
    {
     "name": "stderr",
     "output_type": "stream",
     "text": [
      "/Library/Frameworks/Python.framework/Versions/3.12/lib/python3.12/site-packages/qiskit_ibm_runtime/fake_provider/local_service.py:187: UserWarning: The resilience_level option has no effect in local testing mode.\n",
      "  warnings.warn(\"The resilience_level option has no effect in local testing mode.\")\n"
     ]
    },
    {
     "name": "stdout",
     "output_type": "stream",
     "text": [
      "Iters. done: 20 [Energy: -1.4554881173820544 +/- 0.01675558096523141]\n"
     ]
    },
    {
     "name": "stderr",
     "output_type": "stream",
     "text": [
      "/Library/Frameworks/Python.framework/Versions/3.12/lib/python3.12/site-packages/qiskit_ibm_runtime/fake_provider/local_service.py:187: UserWarning: The resilience_level option has no effect in local testing mode.\n",
      "  warnings.warn(\"The resilience_level option has no effect in local testing mode.\")\n"
     ]
    },
    {
     "name": "stdout",
     "output_type": "stream",
     "text": [
      "Iters. done: 21 [Energy: -1.2784266976532848 +/- 0.018574171084215888]\n"
     ]
    },
    {
     "name": "stderr",
     "output_type": "stream",
     "text": [
      "/Library/Frameworks/Python.framework/Versions/3.12/lib/python3.12/site-packages/qiskit_ibm_runtime/fake_provider/local_service.py:187: UserWarning: The resilience_level option has no effect in local testing mode.\n",
      "  warnings.warn(\"The resilience_level option has no effect in local testing mode.\")\n"
     ]
    },
    {
     "name": "stdout",
     "output_type": "stream",
     "text": [
      "Iters. done: 22 [Energy: -1.316990291420446 +/- 0.017797908923828272]\n"
     ]
    },
    {
     "name": "stderr",
     "output_type": "stream",
     "text": [
      "/Library/Frameworks/Python.framework/Versions/3.12/lib/python3.12/site-packages/qiskit_ibm_runtime/fake_provider/local_service.py:187: UserWarning: The resilience_level option has no effect in local testing mode.\n",
      "  warnings.warn(\"The resilience_level option has no effect in local testing mode.\")\n"
     ]
    },
    {
     "name": "stdout",
     "output_type": "stream",
     "text": [
      "Iters. done: 23 [Energy: -1.4348352189818387 +/- 0.016865182007238518]\n"
     ]
    },
    {
     "name": "stderr",
     "output_type": "stream",
     "text": [
      "/Library/Frameworks/Python.framework/Versions/3.12/lib/python3.12/site-packages/qiskit_ibm_runtime/fake_provider/local_service.py:187: UserWarning: The resilience_level option has no effect in local testing mode.\n",
      "  warnings.warn(\"The resilience_level option has no effect in local testing mode.\")\n"
     ]
    },
    {
     "name": "stdout",
     "output_type": "stream",
     "text": [
      "Iters. done: 24 [Energy: -1.3153426397146126 +/- 0.017928501234142375]\n"
     ]
    },
    {
     "name": "stderr",
     "output_type": "stream",
     "text": [
      "/Library/Frameworks/Python.framework/Versions/3.12/lib/python3.12/site-packages/qiskit_ibm_runtime/fake_provider/local_service.py:187: UserWarning: The resilience_level option has no effect in local testing mode.\n",
      "  warnings.warn(\"The resilience_level option has no effect in local testing mode.\")\n"
     ]
    },
    {
     "name": "stdout",
     "output_type": "stream",
     "text": [
      "Iters. done: 25 [Energy: -1.3122270985419082 +/- 0.018619955834004075]\n"
     ]
    },
    {
     "name": "stderr",
     "output_type": "stream",
     "text": [
      "/Library/Frameworks/Python.framework/Versions/3.12/lib/python3.12/site-packages/qiskit_ibm_runtime/fake_provider/local_service.py:187: UserWarning: The resilience_level option has no effect in local testing mode.\n",
      "  warnings.warn(\"The resilience_level option has no effect in local testing mode.\")\n"
     ]
    },
    {
     "name": "stdout",
     "output_type": "stream",
     "text": [
      "Iters. done: 26 [Energy: -1.322005900969287 +/- 0.018743373531058715]\n"
     ]
    },
    {
     "name": "stderr",
     "output_type": "stream",
     "text": [
      "/Library/Frameworks/Python.framework/Versions/3.12/lib/python3.12/site-packages/qiskit_ibm_runtime/fake_provider/local_service.py:187: UserWarning: The resilience_level option has no effect in local testing mode.\n",
      "  warnings.warn(\"The resilience_level option has no effect in local testing mode.\")\n"
     ]
    },
    {
     "name": "stdout",
     "output_type": "stream",
     "text": [
      "Iters. done: 27 [Energy: -1.3311990578915534 +/- 0.01776625035083055]\n"
     ]
    },
    {
     "name": "stderr",
     "output_type": "stream",
     "text": [
      "/Library/Frameworks/Python.framework/Versions/3.12/lib/python3.12/site-packages/qiskit_ibm_runtime/fake_provider/local_service.py:187: UserWarning: The resilience_level option has no effect in local testing mode.\n",
      "  warnings.warn(\"The resilience_level option has no effect in local testing mode.\")\n"
     ]
    },
    {
     "name": "stdout",
     "output_type": "stream",
     "text": [
      "Iters. done: 28 [Energy: -1.4429300962916958 +/- 0.0170274437285354]\n"
     ]
    },
    {
     "name": "stderr",
     "output_type": "stream",
     "text": [
      "/Library/Frameworks/Python.framework/Versions/3.12/lib/python3.12/site-packages/qiskit_ibm_runtime/fake_provider/local_service.py:187: UserWarning: The resilience_level option has no effect in local testing mode.\n",
      "  warnings.warn(\"The resilience_level option has no effect in local testing mode.\")\n"
     ]
    },
    {
     "name": "stdout",
     "output_type": "stream",
     "text": [
      "Iters. done: 29 [Energy: -1.4235170590675505 +/- 0.017723351923731433]\n"
     ]
    },
    {
     "name": "stderr",
     "output_type": "stream",
     "text": [
      "/Library/Frameworks/Python.framework/Versions/3.12/lib/python3.12/site-packages/qiskit_ibm_runtime/fake_provider/local_service.py:187: UserWarning: The resilience_level option has no effect in local testing mode.\n",
      "  warnings.warn(\"The resilience_level option has no effect in local testing mode.\")\n"
     ]
    },
    {
     "name": "stdout",
     "output_type": "stream",
     "text": [
      "Iters. done: 30 [Energy: -1.399063362880367 +/- 0.017370183392996123]\n"
     ]
    },
    {
     "name": "stderr",
     "output_type": "stream",
     "text": [
      "/Library/Frameworks/Python.framework/Versions/3.12/lib/python3.12/site-packages/qiskit_ibm_runtime/fake_provider/local_service.py:187: UserWarning: The resilience_level option has no effect in local testing mode.\n",
      "  warnings.warn(\"The resilience_level option has no effect in local testing mode.\")\n"
     ]
    },
    {
     "name": "stdout",
     "output_type": "stream",
     "text": [
      "Iters. done: 31 [Energy: -1.3414852130727617 +/- 0.017718355296577733]\n"
     ]
    },
    {
     "name": "stderr",
     "output_type": "stream",
     "text": [
      "/Library/Frameworks/Python.framework/Versions/3.12/lib/python3.12/site-packages/qiskit_ibm_runtime/fake_provider/local_service.py:187: UserWarning: The resilience_level option has no effect in local testing mode.\n",
      "  warnings.warn(\"The resilience_level option has no effect in local testing mode.\")\n"
     ]
    },
    {
     "name": "stdout",
     "output_type": "stream",
     "text": [
      "Iters. done: 32 [Energy: -1.5297098479220412 +/- 0.01590617075412901]\n"
     ]
    },
    {
     "name": "stderr",
     "output_type": "stream",
     "text": [
      "/Library/Frameworks/Python.framework/Versions/3.12/lib/python3.12/site-packages/qiskit_ibm_runtime/fake_provider/local_service.py:187: UserWarning: The resilience_level option has no effect in local testing mode.\n",
      "  warnings.warn(\"The resilience_level option has no effect in local testing mode.\")\n"
     ]
    },
    {
     "name": "stdout",
     "output_type": "stream",
     "text": [
      "Iters. done: 33 [Energy: -1.488494701683013 +/- 0.016921134679943148]\n"
     ]
    },
    {
     "name": "stderr",
     "output_type": "stream",
     "text": [
      "/Library/Frameworks/Python.framework/Versions/3.12/lib/python3.12/site-packages/qiskit_ibm_runtime/fake_provider/local_service.py:187: UserWarning: The resilience_level option has no effect in local testing mode.\n",
      "  warnings.warn(\"The resilience_level option has no effect in local testing mode.\")\n"
     ]
    },
    {
     "name": "stdout",
     "output_type": "stream",
     "text": [
      "Iters. done: 34 [Energy: -1.5366137886681068 +/- 0.016355270265079134]\n"
     ]
    },
    {
     "name": "stderr",
     "output_type": "stream",
     "text": [
      "/Library/Frameworks/Python.framework/Versions/3.12/lib/python3.12/site-packages/qiskit_ibm_runtime/fake_provider/local_service.py:187: UserWarning: The resilience_level option has no effect in local testing mode.\n",
      "  warnings.warn(\"The resilience_level option has no effect in local testing mode.\")\n"
     ]
    },
    {
     "name": "stdout",
     "output_type": "stream",
     "text": [
      "Iters. done: 35 [Energy: -1.584638386125643 +/- 0.016282894947683577]\n"
     ]
    },
    {
     "name": "stderr",
     "output_type": "stream",
     "text": [
      "/Library/Frameworks/Python.framework/Versions/3.12/lib/python3.12/site-packages/qiskit_ibm_runtime/fake_provider/local_service.py:187: UserWarning: The resilience_level option has no effect in local testing mode.\n",
      "  warnings.warn(\"The resilience_level option has no effect in local testing mode.\")\n"
     ]
    },
    {
     "name": "stdout",
     "output_type": "stream",
     "text": [
      "Iters. done: 36 [Energy: -1.577056760081671 +/- 0.015835575249151284]\n"
     ]
    },
    {
     "name": "stderr",
     "output_type": "stream",
     "text": [
      "/Library/Frameworks/Python.framework/Versions/3.12/lib/python3.12/site-packages/qiskit_ibm_runtime/fake_provider/local_service.py:187: UserWarning: The resilience_level option has no effect in local testing mode.\n",
      "  warnings.warn(\"The resilience_level option has no effect in local testing mode.\")\n"
     ]
    },
    {
     "name": "stdout",
     "output_type": "stream",
     "text": [
      "Iters. done: 37 [Energy: -1.5723244604552105 +/- 0.01684619827680657]\n"
     ]
    },
    {
     "name": "stderr",
     "output_type": "stream",
     "text": [
      "/Library/Frameworks/Python.framework/Versions/3.12/lib/python3.12/site-packages/qiskit_ibm_runtime/fake_provider/local_service.py:187: UserWarning: The resilience_level option has no effect in local testing mode.\n",
      "  warnings.warn(\"The resilience_level option has no effect in local testing mode.\")\n"
     ]
    },
    {
     "name": "stdout",
     "output_type": "stream",
     "text": [
      "Iters. done: 38 [Energy: -1.5120554914424604 +/- 0.016671432678024456]\n"
     ]
    },
    {
     "name": "stderr",
     "output_type": "stream",
     "text": [
      "/Library/Frameworks/Python.framework/Versions/3.12/lib/python3.12/site-packages/qiskit_ibm_runtime/fake_provider/local_service.py:187: UserWarning: The resilience_level option has no effect in local testing mode.\n",
      "  warnings.warn(\"The resilience_level option has no effect in local testing mode.\")\n"
     ]
    },
    {
     "name": "stdout",
     "output_type": "stream",
     "text": [
      "Iters. done: 39 [Energy: -1.568452268749112 +/- 0.016684141786638438]\n"
     ]
    },
    {
     "name": "stderr",
     "output_type": "stream",
     "text": [
      "/Library/Frameworks/Python.framework/Versions/3.12/lib/python3.12/site-packages/qiskit_ibm_runtime/fake_provider/local_service.py:187: UserWarning: The resilience_level option has no effect in local testing mode.\n",
      "  warnings.warn(\"The resilience_level option has no effect in local testing mode.\")\n"
     ]
    },
    {
     "name": "stdout",
     "output_type": "stream",
     "text": [
      "Iters. done: 40 [Energy: -1.4396877193046171 +/- 0.01789114256908082]\n"
     ]
    },
    {
     "name": "stderr",
     "output_type": "stream",
     "text": [
      "/Library/Frameworks/Python.framework/Versions/3.12/lib/python3.12/site-packages/qiskit_ibm_runtime/fake_provider/local_service.py:187: UserWarning: The resilience_level option has no effect in local testing mode.\n",
      "  warnings.warn(\"The resilience_level option has no effect in local testing mode.\")\n"
     ]
    },
    {
     "name": "stdout",
     "output_type": "stream",
     "text": [
      "Iters. done: 41 [Energy: -1.5565965543527007 +/- 0.01690462389451846]\n"
     ]
    },
    {
     "name": "stderr",
     "output_type": "stream",
     "text": [
      "/Library/Frameworks/Python.framework/Versions/3.12/lib/python3.12/site-packages/qiskit_ibm_runtime/fake_provider/local_service.py:187: UserWarning: The resilience_level option has no effect in local testing mode.\n",
      "  warnings.warn(\"The resilience_level option has no effect in local testing mode.\")\n"
     ]
    },
    {
     "name": "stdout",
     "output_type": "stream",
     "text": [
      "Iters. done: 42 [Energy: -1.3809774441596772 +/- 0.018803768119622213]\n"
     ]
    },
    {
     "name": "stderr",
     "output_type": "stream",
     "text": [
      "/Library/Frameworks/Python.framework/Versions/3.12/lib/python3.12/site-packages/qiskit_ibm_runtime/fake_provider/local_service.py:187: UserWarning: The resilience_level option has no effect in local testing mode.\n",
      "  warnings.warn(\"The resilience_level option has no effect in local testing mode.\")\n"
     ]
    },
    {
     "name": "stdout",
     "output_type": "stream",
     "text": [
      "Iters. done: 43 [Energy: -1.5130125812684907 +/- 0.017222797739372724]\n"
     ]
    },
    {
     "name": "stderr",
     "output_type": "stream",
     "text": [
      "/Library/Frameworks/Python.framework/Versions/3.12/lib/python3.12/site-packages/qiskit_ibm_runtime/fake_provider/local_service.py:187: UserWarning: The resilience_level option has no effect in local testing mode.\n",
      "  warnings.warn(\"The resilience_level option has no effect in local testing mode.\")\n"
     ]
    },
    {
     "name": "stdout",
     "output_type": "stream",
     "text": [
      "Iters. done: 44 [Energy: -1.553693023588334 +/- 0.016172180193365304]\n"
     ]
    },
    {
     "name": "stderr",
     "output_type": "stream",
     "text": [
      "/Library/Frameworks/Python.framework/Versions/3.12/lib/python3.12/site-packages/qiskit_ibm_runtime/fake_provider/local_service.py:187: UserWarning: The resilience_level option has no effect in local testing mode.\n",
      "  warnings.warn(\"The resilience_level option has no effect in local testing mode.\")\n"
     ]
    },
    {
     "name": "stdout",
     "output_type": "stream",
     "text": [
      "Iters. done: 45 [Energy: -1.5668341930635452 +/- 0.016689041127260218]\n"
     ]
    },
    {
     "name": "stderr",
     "output_type": "stream",
     "text": [
      "/Library/Frameworks/Python.framework/Versions/3.12/lib/python3.12/site-packages/qiskit_ibm_runtime/fake_provider/local_service.py:187: UserWarning: The resilience_level option has no effect in local testing mode.\n",
      "  warnings.warn(\"The resilience_level option has no effect in local testing mode.\")\n"
     ]
    },
    {
     "name": "stdout",
     "output_type": "stream",
     "text": [
      "Iters. done: 46 [Energy: -1.5702871745640639 +/- 0.01625002531829391]\n"
     ]
    },
    {
     "name": "stderr",
     "output_type": "stream",
     "text": [
      "/Library/Frameworks/Python.framework/Versions/3.12/lib/python3.12/site-packages/qiskit_ibm_runtime/fake_provider/local_service.py:187: UserWarning: The resilience_level option has no effect in local testing mode.\n",
      "  warnings.warn(\"The resilience_level option has no effect in local testing mode.\")\n"
     ]
    },
    {
     "name": "stdout",
     "output_type": "stream",
     "text": [
      "Iters. done: 47 [Energy: -1.551414970411931 +/- 0.016759018521987093]\n"
     ]
    },
    {
     "name": "stderr",
     "output_type": "stream",
     "text": [
      "/Library/Frameworks/Python.framework/Versions/3.12/lib/python3.12/site-packages/qiskit_ibm_runtime/fake_provider/local_service.py:187: UserWarning: The resilience_level option has no effect in local testing mode.\n",
      "  warnings.warn(\"The resilience_level option has no effect in local testing mode.\")\n"
     ]
    },
    {
     "name": "stdout",
     "output_type": "stream",
     "text": [
      "Iters. done: 48 [Energy: -1.5835855702219077 +/- 0.016233074435883118]\n"
     ]
    },
    {
     "name": "stderr",
     "output_type": "stream",
     "text": [
      "/Library/Frameworks/Python.framework/Versions/3.12/lib/python3.12/site-packages/qiskit_ibm_runtime/fake_provider/local_service.py:187: UserWarning: The resilience_level option has no effect in local testing mode.\n",
      "  warnings.warn(\"The resilience_level option has no effect in local testing mode.\")\n"
     ]
    },
    {
     "name": "stdout",
     "output_type": "stream",
     "text": [
      "Iters. done: 49 [Energy: -1.5813390435759462 +/- 0.016500774805615768]\n"
     ]
    },
    {
     "name": "stderr",
     "output_type": "stream",
     "text": [
      "/Library/Frameworks/Python.framework/Versions/3.12/lib/python3.12/site-packages/qiskit_ibm_runtime/fake_provider/local_service.py:187: UserWarning: The resilience_level option has no effect in local testing mode.\n",
      "  warnings.warn(\"The resilience_level option has no effect in local testing mode.\")\n"
     ]
    },
    {
     "name": "stdout",
     "output_type": "stream",
     "text": [
      "Iters. done: 50 [Energy: -1.5697678010670721 +/- 0.016636098172181767]\n"
     ]
    },
    {
     "name": "stderr",
     "output_type": "stream",
     "text": [
      "/Library/Frameworks/Python.framework/Versions/3.12/lib/python3.12/site-packages/qiskit_ibm_runtime/fake_provider/local_service.py:187: UserWarning: The resilience_level option has no effect in local testing mode.\n",
      "  warnings.warn(\"The resilience_level option has no effect in local testing mode.\")\n"
     ]
    },
    {
     "name": "stdout",
     "output_type": "stream",
     "text": [
      "Iters. done: 51 [Energy: -1.544321724976241 +/- 0.016731365780219776]\n"
     ]
    },
    {
     "name": "stderr",
     "output_type": "stream",
     "text": [
      "/Library/Frameworks/Python.framework/Versions/3.12/lib/python3.12/site-packages/qiskit_ibm_runtime/fake_provider/local_service.py:187: UserWarning: The resilience_level option has no effect in local testing mode.\n",
      "  warnings.warn(\"The resilience_level option has no effect in local testing mode.\")\n"
     ]
    },
    {
     "name": "stdout",
     "output_type": "stream",
     "text": [
      "Iters. done: 52 [Energy: -1.573002391031561 +/- 0.01647503183370317]\n"
     ]
    },
    {
     "name": "stderr",
     "output_type": "stream",
     "text": [
      "/Library/Frameworks/Python.framework/Versions/3.12/lib/python3.12/site-packages/qiskit_ibm_runtime/fake_provider/local_service.py:187: UserWarning: The resilience_level option has no effect in local testing mode.\n",
      "  warnings.warn(\"The resilience_level option has no effect in local testing mode.\")\n"
     ]
    },
    {
     "name": "stdout",
     "output_type": "stream",
     "text": [
      "Iters. done: 53 [Energy: -1.5246114699722786 +/- 0.017074256216112294]\n"
     ]
    },
    {
     "name": "stderr",
     "output_type": "stream",
     "text": [
      "/Library/Frameworks/Python.framework/Versions/3.12/lib/python3.12/site-packages/qiskit_ibm_runtime/fake_provider/local_service.py:187: UserWarning: The resilience_level option has no effect in local testing mode.\n",
      "  warnings.warn(\"The resilience_level option has no effect in local testing mode.\")\n"
     ]
    },
    {
     "name": "stdout",
     "output_type": "stream",
     "text": [
      "Iters. done: 54 [Energy: -1.568606590005845 +/- 0.01670713549344946]\n"
     ]
    },
    {
     "name": "stderr",
     "output_type": "stream",
     "text": [
      "/Library/Frameworks/Python.framework/Versions/3.12/lib/python3.12/site-packages/qiskit_ibm_runtime/fake_provider/local_service.py:187: UserWarning: The resilience_level option has no effect in local testing mode.\n",
      "  warnings.warn(\"The resilience_level option has no effect in local testing mode.\")\n"
     ]
    },
    {
     "name": "stdout",
     "output_type": "stream",
     "text": [
      "Iters. done: 55 [Energy: -1.4674441819156991 +/- 0.017990835833118075]\n"
     ]
    },
    {
     "name": "stderr",
     "output_type": "stream",
     "text": [
      "/Library/Frameworks/Python.framework/Versions/3.12/lib/python3.12/site-packages/qiskit_ibm_runtime/fake_provider/local_service.py:187: UserWarning: The resilience_level option has no effect in local testing mode.\n",
      "  warnings.warn(\"The resilience_level option has no effect in local testing mode.\")\n"
     ]
    },
    {
     "name": "stdout",
     "output_type": "stream",
     "text": [
      "Iters. done: 56 [Energy: -1.5793840063826847 +/- 0.016408598689686176]\n"
     ]
    },
    {
     "name": "stderr",
     "output_type": "stream",
     "text": [
      "/Library/Frameworks/Python.framework/Versions/3.12/lib/python3.12/site-packages/qiskit_ibm_runtime/fake_provider/local_service.py:187: UserWarning: The resilience_level option has no effect in local testing mode.\n",
      "  warnings.warn(\"The resilience_level option has no effect in local testing mode.\")\n"
     ]
    },
    {
     "name": "stdout",
     "output_type": "stream",
     "text": [
      "Iters. done: 57 [Energy: -1.5782527794968484 +/- 0.01638531304290658]\n"
     ]
    },
    {
     "name": "stderr",
     "output_type": "stream",
     "text": [
      "/Library/Frameworks/Python.framework/Versions/3.12/lib/python3.12/site-packages/qiskit_ibm_runtime/fake_provider/local_service.py:187: UserWarning: The resilience_level option has no effect in local testing mode.\n",
      "  warnings.warn(\"The resilience_level option has no effect in local testing mode.\")\n"
     ]
    },
    {
     "name": "stdout",
     "output_type": "stream",
     "text": [
      "Iters. done: 58 [Energy: -1.5745561694991277 +/- 0.016588445180976887]\n"
     ]
    },
    {
     "name": "stderr",
     "output_type": "stream",
     "text": [
      "/Library/Frameworks/Python.framework/Versions/3.12/lib/python3.12/site-packages/qiskit_ibm_runtime/fake_provider/local_service.py:187: UserWarning: The resilience_level option has no effect in local testing mode.\n",
      "  warnings.warn(\"The resilience_level option has no effect in local testing mode.\")\n"
     ]
    },
    {
     "name": "stdout",
     "output_type": "stream",
     "text": [
      "Iters. done: 59 [Energy: -1.6292358665499271 +/- 0.015058045800306633]\n"
     ]
    },
    {
     "name": "stderr",
     "output_type": "stream",
     "text": [
      "/Library/Frameworks/Python.framework/Versions/3.12/lib/python3.12/site-packages/qiskit_ibm_runtime/fake_provider/local_service.py:187: UserWarning: The resilience_level option has no effect in local testing mode.\n",
      "  warnings.warn(\"The resilience_level option has no effect in local testing mode.\")\n"
     ]
    },
    {
     "name": "stdout",
     "output_type": "stream",
     "text": [
      "Iters. done: 60 [Energy: -1.6479492863226757 +/- 0.0147627405081937]\n"
     ]
    },
    {
     "name": "stderr",
     "output_type": "stream",
     "text": [
      "/Library/Frameworks/Python.framework/Versions/3.12/lib/python3.12/site-packages/qiskit_ibm_runtime/fake_provider/local_service.py:187: UserWarning: The resilience_level option has no effect in local testing mode.\n",
      "  warnings.warn(\"The resilience_level option has no effect in local testing mode.\")\n"
     ]
    },
    {
     "name": "stdout",
     "output_type": "stream",
     "text": [
      "Iters. done: 61 [Energy: -1.667592312416946 +/- 0.014253725262352647]\n"
     ]
    },
    {
     "name": "stderr",
     "output_type": "stream",
     "text": [
      "/Library/Frameworks/Python.framework/Versions/3.12/lib/python3.12/site-packages/qiskit_ibm_runtime/fake_provider/local_service.py:187: UserWarning: The resilience_level option has no effect in local testing mode.\n",
      "  warnings.warn(\"The resilience_level option has no effect in local testing mode.\")\n"
     ]
    },
    {
     "name": "stdout",
     "output_type": "stream",
     "text": [
      "Iters. done: 62 [Energy: -1.6792747054309867 +/- 0.013638262991962687]\n"
     ]
    },
    {
     "name": "stderr",
     "output_type": "stream",
     "text": [
      "/Library/Frameworks/Python.framework/Versions/3.12/lib/python3.12/site-packages/qiskit_ibm_runtime/fake_provider/local_service.py:187: UserWarning: The resilience_level option has no effect in local testing mode.\n",
      "  warnings.warn(\"The resilience_level option has no effect in local testing mode.\")\n"
     ]
    },
    {
     "name": "stdout",
     "output_type": "stream",
     "text": [
      "Iters. done: 63 [Energy: -1.6777086570381121 +/- 0.013749725882728185]\n"
     ]
    },
    {
     "name": "stderr",
     "output_type": "stream",
     "text": [
      "/Library/Frameworks/Python.framework/Versions/3.12/lib/python3.12/site-packages/qiskit_ibm_runtime/fake_provider/local_service.py:187: UserWarning: The resilience_level option has no effect in local testing mode.\n",
      "  warnings.warn(\"The resilience_level option has no effect in local testing mode.\")\n"
     ]
    },
    {
     "name": "stdout",
     "output_type": "stream",
     "text": [
      "Iters. done: 64 [Energy: -1.6992831935026096 +/- 0.013002501704449144]\n"
     ]
    },
    {
     "name": "stderr",
     "output_type": "stream",
     "text": [
      "/Library/Frameworks/Python.framework/Versions/3.12/lib/python3.12/site-packages/qiskit_ibm_runtime/fake_provider/local_service.py:187: UserWarning: The resilience_level option has no effect in local testing mode.\n",
      "  warnings.warn(\"The resilience_level option has no effect in local testing mode.\")\n"
     ]
    },
    {
     "name": "stdout",
     "output_type": "stream",
     "text": [
      "Iters. done: 65 [Energy: -1.6925214532220754 +/- 0.013316700363844186]\n"
     ]
    },
    {
     "name": "stderr",
     "output_type": "stream",
     "text": [
      "/Library/Frameworks/Python.framework/Versions/3.12/lib/python3.12/site-packages/qiskit_ibm_runtime/fake_provider/local_service.py:187: UserWarning: The resilience_level option has no effect in local testing mode.\n",
      "  warnings.warn(\"The resilience_level option has no effect in local testing mode.\")\n"
     ]
    },
    {
     "name": "stdout",
     "output_type": "stream",
     "text": [
      "Iters. done: 66 [Energy: -1.6693540303718046 +/- 0.01374130307548832]\n"
     ]
    },
    {
     "name": "stderr",
     "output_type": "stream",
     "text": [
      "/Library/Frameworks/Python.framework/Versions/3.12/lib/python3.12/site-packages/qiskit_ibm_runtime/fake_provider/local_service.py:187: UserWarning: The resilience_level option has no effect in local testing mode.\n",
      "  warnings.warn(\"The resilience_level option has no effect in local testing mode.\")\n"
     ]
    },
    {
     "name": "stdout",
     "output_type": "stream",
     "text": [
      "Iters. done: 67 [Energy: -1.6917234408085662 +/- 0.013189223924952469]\n"
     ]
    },
    {
     "name": "stderr",
     "output_type": "stream",
     "text": [
      "/Library/Frameworks/Python.framework/Versions/3.12/lib/python3.12/site-packages/qiskit_ibm_runtime/fake_provider/local_service.py:187: UserWarning: The resilience_level option has no effect in local testing mode.\n",
      "  warnings.warn(\"The resilience_level option has no effect in local testing mode.\")\n"
     ]
    },
    {
     "name": "stdout",
     "output_type": "stream",
     "text": [
      "Iters. done: 68 [Energy: -1.6776671066550768 +/- 0.01345528120806211]\n"
     ]
    },
    {
     "name": "stderr",
     "output_type": "stream",
     "text": [
      "/Library/Frameworks/Python.framework/Versions/3.12/lib/python3.12/site-packages/qiskit_ibm_runtime/fake_provider/local_service.py:187: UserWarning: The resilience_level option has no effect in local testing mode.\n",
      "  warnings.warn(\"The resilience_level option has no effect in local testing mode.\")\n"
     ]
    },
    {
     "name": "stdout",
     "output_type": "stream",
     "text": [
      "Iters. done: 69 [Energy: -1.7080467981940708 +/- 0.012669495805030075]\n"
     ]
    },
    {
     "name": "stderr",
     "output_type": "stream",
     "text": [
      "/Library/Frameworks/Python.framework/Versions/3.12/lib/python3.12/site-packages/qiskit_ibm_runtime/fake_provider/local_service.py:187: UserWarning: The resilience_level option has no effect in local testing mode.\n",
      "  warnings.warn(\"The resilience_level option has no effect in local testing mode.\")\n"
     ]
    },
    {
     "name": "stdout",
     "output_type": "stream",
     "text": [
      "Iters. done: 70 [Energy: -1.7273835195166767 +/- 0.011995545950987157]\n"
     ]
    },
    {
     "name": "stderr",
     "output_type": "stream",
     "text": [
      "/Library/Frameworks/Python.framework/Versions/3.12/lib/python3.12/site-packages/qiskit_ibm_runtime/fake_provider/local_service.py:187: UserWarning: The resilience_level option has no effect in local testing mode.\n",
      "  warnings.warn(\"The resilience_level option has no effect in local testing mode.\")\n"
     ]
    },
    {
     "name": "stdout",
     "output_type": "stream",
     "text": [
      "Iters. done: 71 [Energy: -1.7265320686702368 +/- 0.011945519353998978]\n"
     ]
    },
    {
     "name": "stderr",
     "output_type": "stream",
     "text": [
      "/Library/Frameworks/Python.framework/Versions/3.12/lib/python3.12/site-packages/qiskit_ibm_runtime/fake_provider/local_service.py:187: UserWarning: The resilience_level option has no effect in local testing mode.\n",
      "  warnings.warn(\"The resilience_level option has no effect in local testing mode.\")\n"
     ]
    },
    {
     "name": "stdout",
     "output_type": "stream",
     "text": [
      "Iters. done: 72 [Energy: -1.7195401440073539 +/- 0.012353168734146214]\n"
     ]
    },
    {
     "name": "stderr",
     "output_type": "stream",
     "text": [
      "/Library/Frameworks/Python.framework/Versions/3.12/lib/python3.12/site-packages/qiskit_ibm_runtime/fake_provider/local_service.py:187: UserWarning: The resilience_level option has no effect in local testing mode.\n",
      "  warnings.warn(\"The resilience_level option has no effect in local testing mode.\")\n"
     ]
    },
    {
     "name": "stdout",
     "output_type": "stream",
     "text": [
      "Iters. done: 73 [Energy: -1.7393237455711128 +/- 0.0114180376898884]\n"
     ]
    },
    {
     "name": "stderr",
     "output_type": "stream",
     "text": [
      "/Library/Frameworks/Python.framework/Versions/3.12/lib/python3.12/site-packages/qiskit_ibm_runtime/fake_provider/local_service.py:187: UserWarning: The resilience_level option has no effect in local testing mode.\n",
      "  warnings.warn(\"The resilience_level option has no effect in local testing mode.\")\n"
     ]
    },
    {
     "name": "stdout",
     "output_type": "stream",
     "text": [
      "Iters. done: 74 [Energy: -1.7381358803481004 +/- 0.01141695374088968]\n"
     ]
    },
    {
     "name": "stderr",
     "output_type": "stream",
     "text": [
      "/Library/Frameworks/Python.framework/Versions/3.12/lib/python3.12/site-packages/qiskit_ibm_runtime/fake_provider/local_service.py:187: UserWarning: The resilience_level option has no effect in local testing mode.\n",
      "  warnings.warn(\"The resilience_level option has no effect in local testing mode.\")\n"
     ]
    },
    {
     "name": "stdout",
     "output_type": "stream",
     "text": [
      "Iters. done: 75 [Energy: -1.7360538418293714 +/- 0.011722236251472867]\n"
     ]
    },
    {
     "name": "stderr",
     "output_type": "stream",
     "text": [
      "/Library/Frameworks/Python.framework/Versions/3.12/lib/python3.12/site-packages/qiskit_ibm_runtime/fake_provider/local_service.py:187: UserWarning: The resilience_level option has no effect in local testing mode.\n",
      "  warnings.warn(\"The resilience_level option has no effect in local testing mode.\")\n"
     ]
    },
    {
     "name": "stdout",
     "output_type": "stream",
     "text": [
      "Iters. done: 76 [Energy: -1.7296199573873434 +/- 0.011902015886653058]\n"
     ]
    },
    {
     "name": "stderr",
     "output_type": "stream",
     "text": [
      "/Library/Frameworks/Python.framework/Versions/3.12/lib/python3.12/site-packages/qiskit_ibm_runtime/fake_provider/local_service.py:187: UserWarning: The resilience_level option has no effect in local testing mode.\n",
      "  warnings.warn(\"The resilience_level option has no effect in local testing mode.\")\n"
     ]
    },
    {
     "name": "stdout",
     "output_type": "stream",
     "text": [
      "Iters. done: 77 [Energy: -1.7247137879032326 +/- 0.011947565487583856]\n"
     ]
    },
    {
     "name": "stderr",
     "output_type": "stream",
     "text": [
      "/Library/Frameworks/Python.framework/Versions/3.12/lib/python3.12/site-packages/qiskit_ibm_runtime/fake_provider/local_service.py:187: UserWarning: The resilience_level option has no effect in local testing mode.\n",
      "  warnings.warn(\"The resilience_level option has no effect in local testing mode.\")\n"
     ]
    },
    {
     "name": "stdout",
     "output_type": "stream",
     "text": [
      "Iters. done: 78 [Energy: -1.7336711745327287 +/- 0.011748815151040813]\n"
     ]
    },
    {
     "name": "stderr",
     "output_type": "stream",
     "text": [
      "/Library/Frameworks/Python.framework/Versions/3.12/lib/python3.12/site-packages/qiskit_ibm_runtime/fake_provider/local_service.py:187: UserWarning: The resilience_level option has no effect in local testing mode.\n",
      "  warnings.warn(\"The resilience_level option has no effect in local testing mode.\")\n"
     ]
    },
    {
     "name": "stdout",
     "output_type": "stream",
     "text": [
      "Iters. done: 79 [Energy: -1.7313499974809774 +/- 0.011435502790807938]\n"
     ]
    },
    {
     "name": "stderr",
     "output_type": "stream",
     "text": [
      "/Library/Frameworks/Python.framework/Versions/3.12/lib/python3.12/site-packages/qiskit_ibm_runtime/fake_provider/local_service.py:187: UserWarning: The resilience_level option has no effect in local testing mode.\n",
      "  warnings.warn(\"The resilience_level option has no effect in local testing mode.\")\n"
     ]
    },
    {
     "name": "stdout",
     "output_type": "stream",
     "text": [
      "Iters. done: 80 [Energy: -1.73750276855294 +/- 0.01150834884751562]\n"
     ]
    },
    {
     "name": "stderr",
     "output_type": "stream",
     "text": [
      "/Library/Frameworks/Python.framework/Versions/3.12/lib/python3.12/site-packages/qiskit_ibm_runtime/fake_provider/local_service.py:187: UserWarning: The resilience_level option has no effect in local testing mode.\n",
      "  warnings.warn(\"The resilience_level option has no effect in local testing mode.\")\n"
     ]
    },
    {
     "name": "stdout",
     "output_type": "stream",
     "text": [
      "Iters. done: 81 [Energy: -1.7343018565348474 +/- 0.011488688519849211]\n"
     ]
    },
    {
     "name": "stderr",
     "output_type": "stream",
     "text": [
      "/Library/Frameworks/Python.framework/Versions/3.12/lib/python3.12/site-packages/qiskit_ibm_runtime/fake_provider/local_service.py:187: UserWarning: The resilience_level option has no effect in local testing mode.\n",
      "  warnings.warn(\"The resilience_level option has no effect in local testing mode.\")\n"
     ]
    },
    {
     "name": "stdout",
     "output_type": "stream",
     "text": [
      "Iters. done: 82 [Energy: -1.7307555650122461 +/- 0.01168922566422923]\n"
     ]
    },
    {
     "name": "stderr",
     "output_type": "stream",
     "text": [
      "/Library/Frameworks/Python.framework/Versions/3.12/lib/python3.12/site-packages/qiskit_ibm_runtime/fake_provider/local_service.py:187: UserWarning: The resilience_level option has no effect in local testing mode.\n",
      "  warnings.warn(\"The resilience_level option has no effect in local testing mode.\")\n"
     ]
    },
    {
     "name": "stdout",
     "output_type": "stream",
     "text": [
      "Iters. done: 83 [Energy: -1.7481162060566513 +/- 0.011106294686709565]\n"
     ]
    },
    {
     "name": "stderr",
     "output_type": "stream",
     "text": [
      "/Library/Frameworks/Python.framework/Versions/3.12/lib/python3.12/site-packages/qiskit_ibm_runtime/fake_provider/local_service.py:187: UserWarning: The resilience_level option has no effect in local testing mode.\n",
      "  warnings.warn(\"The resilience_level option has no effect in local testing mode.\")\n"
     ]
    },
    {
     "name": "stdout",
     "output_type": "stream",
     "text": [
      "Iters. done: 84 [Energy: -1.7449654042836102 +/- 0.011352490478252406]\n"
     ]
    },
    {
     "name": "stderr",
     "output_type": "stream",
     "text": [
      "/Library/Frameworks/Python.framework/Versions/3.12/lib/python3.12/site-packages/qiskit_ibm_runtime/fake_provider/local_service.py:187: UserWarning: The resilience_level option has no effect in local testing mode.\n",
      "  warnings.warn(\"The resilience_level option has no effect in local testing mode.\")\n"
     ]
    },
    {
     "name": "stdout",
     "output_type": "stream",
     "text": [
      "Iters. done: 85 [Energy: -1.7573958313745897 +/- 0.01071929746049047]\n"
     ]
    },
    {
     "name": "stderr",
     "output_type": "stream",
     "text": [
      "/Library/Frameworks/Python.framework/Versions/3.12/lib/python3.12/site-packages/qiskit_ibm_runtime/fake_provider/local_service.py:187: UserWarning: The resilience_level option has no effect in local testing mode.\n",
      "  warnings.warn(\"The resilience_level option has no effect in local testing mode.\")\n"
     ]
    },
    {
     "name": "stdout",
     "output_type": "stream",
     "text": [
      "Iters. done: 86 [Energy: -1.7581706564626585 +/- 0.010571506705342999]\n"
     ]
    },
    {
     "name": "stderr",
     "output_type": "stream",
     "text": [
      "/Library/Frameworks/Python.framework/Versions/3.12/lib/python3.12/site-packages/qiskit_ibm_runtime/fake_provider/local_service.py:187: UserWarning: The resilience_level option has no effect in local testing mode.\n",
      "  warnings.warn(\"The resilience_level option has no effect in local testing mode.\")\n"
     ]
    },
    {
     "name": "stdout",
     "output_type": "stream",
     "text": [
      "Iters. done: 87 [Energy: -1.7395895433912976 +/- 0.010765280132773435]\n"
     ]
    },
    {
     "name": "stderr",
     "output_type": "stream",
     "text": [
      "/Library/Frameworks/Python.framework/Versions/3.12/lib/python3.12/site-packages/qiskit_ibm_runtime/fake_provider/local_service.py:187: UserWarning: The resilience_level option has no effect in local testing mode.\n",
      "  warnings.warn(\"The resilience_level option has no effect in local testing mode.\")\n"
     ]
    },
    {
     "name": "stdout",
     "output_type": "stream",
     "text": [
      "Iters. done: 88 [Energy: -1.7522851208844807 +/- 0.010809624387943645]\n"
     ]
    },
    {
     "name": "stderr",
     "output_type": "stream",
     "text": [
      "/Library/Frameworks/Python.framework/Versions/3.12/lib/python3.12/site-packages/qiskit_ibm_runtime/fake_provider/local_service.py:187: UserWarning: The resilience_level option has no effect in local testing mode.\n",
      "  warnings.warn(\"The resilience_level option has no effect in local testing mode.\")\n"
     ]
    },
    {
     "name": "stdout",
     "output_type": "stream",
     "text": [
      "Iters. done: 89 [Energy: -1.7567674568583325 +/- 0.010567787788163835]\n"
     ]
    },
    {
     "name": "stderr",
     "output_type": "stream",
     "text": [
      "/Library/Frameworks/Python.framework/Versions/3.12/lib/python3.12/site-packages/qiskit_ibm_runtime/fake_provider/local_service.py:187: UserWarning: The resilience_level option has no effect in local testing mode.\n",
      "  warnings.warn(\"The resilience_level option has no effect in local testing mode.\")\n"
     ]
    },
    {
     "name": "stdout",
     "output_type": "stream",
     "text": [
      "Iters. done: 90 [Energy: -1.756852367395254 +/- 0.010481413762605031]\n"
     ]
    },
    {
     "name": "stderr",
     "output_type": "stream",
     "text": [
      "/Library/Frameworks/Python.framework/Versions/3.12/lib/python3.12/site-packages/qiskit_ibm_runtime/fake_provider/local_service.py:187: UserWarning: The resilience_level option has no effect in local testing mode.\n",
      "  warnings.warn(\"The resilience_level option has no effect in local testing mode.\")\n"
     ]
    },
    {
     "name": "stdout",
     "output_type": "stream",
     "text": [
      "Iters. done: 91 [Energy: -1.762777702148765 +/- 0.010297370936885984]\n"
     ]
    },
    {
     "name": "stderr",
     "output_type": "stream",
     "text": [
      "/Library/Frameworks/Python.framework/Versions/3.12/lib/python3.12/site-packages/qiskit_ibm_runtime/fake_provider/local_service.py:187: UserWarning: The resilience_level option has no effect in local testing mode.\n",
      "  warnings.warn(\"The resilience_level option has no effect in local testing mode.\")\n"
     ]
    },
    {
     "name": "stdout",
     "output_type": "stream",
     "text": [
      "Iters. done: 92 [Energy: -1.7616912017215265 +/- 0.010319454534603792]\n"
     ]
    },
    {
     "name": "stderr",
     "output_type": "stream",
     "text": [
      "/Library/Frameworks/Python.framework/Versions/3.12/lib/python3.12/site-packages/qiskit_ibm_runtime/fake_provider/local_service.py:187: UserWarning: The resilience_level option has no effect in local testing mode.\n",
      "  warnings.warn(\"The resilience_level option has no effect in local testing mode.\")\n"
     ]
    },
    {
     "name": "stdout",
     "output_type": "stream",
     "text": [
      "Iters. done: 93 [Energy: -1.7577724732499982 +/- 0.010421380644721727]\n"
     ]
    },
    {
     "name": "stderr",
     "output_type": "stream",
     "text": [
      "/Library/Frameworks/Python.framework/Versions/3.12/lib/python3.12/site-packages/qiskit_ibm_runtime/fake_provider/local_service.py:187: UserWarning: The resilience_level option has no effect in local testing mode.\n",
      "  warnings.warn(\"The resilience_level option has no effect in local testing mode.\")\n"
     ]
    },
    {
     "name": "stdout",
     "output_type": "stream",
     "text": [
      "Iters. done: 94 [Energy: -1.7622334880916162 +/- 0.010164512575659477]\n"
     ]
    },
    {
     "name": "stderr",
     "output_type": "stream",
     "text": [
      "/Library/Frameworks/Python.framework/Versions/3.12/lib/python3.12/site-packages/qiskit_ibm_runtime/fake_provider/local_service.py:187: UserWarning: The resilience_level option has no effect in local testing mode.\n",
      "  warnings.warn(\"The resilience_level option has no effect in local testing mode.\")\n"
     ]
    },
    {
     "name": "stdout",
     "output_type": "stream",
     "text": [
      "Iters. done: 95 [Energy: -1.7517045362780674 +/- 0.010735173352114616]\n"
     ]
    },
    {
     "name": "stderr",
     "output_type": "stream",
     "text": [
      "/Library/Frameworks/Python.framework/Versions/3.12/lib/python3.12/site-packages/qiskit_ibm_runtime/fake_provider/local_service.py:187: UserWarning: The resilience_level option has no effect in local testing mode.\n",
      "  warnings.warn(\"The resilience_level option has no effect in local testing mode.\")\n"
     ]
    },
    {
     "name": "stdout",
     "output_type": "stream",
     "text": [
      "Iters. done: 96 [Energy: -1.7549002225668162 +/- 0.010609723511933159]\n"
     ]
    },
    {
     "name": "stderr",
     "output_type": "stream",
     "text": [
      "/Library/Frameworks/Python.framework/Versions/3.12/lib/python3.12/site-packages/qiskit_ibm_runtime/fake_provider/local_service.py:187: UserWarning: The resilience_level option has no effect in local testing mode.\n",
      "  warnings.warn(\"The resilience_level option has no effect in local testing mode.\")\n"
     ]
    },
    {
     "name": "stdout",
     "output_type": "stream",
     "text": [
      "Iters. done: 97 [Energy: -1.7531030055121202 +/- 0.010803300786081299]\n"
     ]
    },
    {
     "name": "stderr",
     "output_type": "stream",
     "text": [
      "/Library/Frameworks/Python.framework/Versions/3.12/lib/python3.12/site-packages/qiskit_ibm_runtime/fake_provider/local_service.py:187: UserWarning: The resilience_level option has no effect in local testing mode.\n",
      "  warnings.warn(\"The resilience_level option has no effect in local testing mode.\")\n"
     ]
    },
    {
     "name": "stdout",
     "output_type": "stream",
     "text": [
      "Iters. done: 98 [Energy: -1.754851099408037 +/- 0.010512270709397361]\n"
     ]
    },
    {
     "name": "stderr",
     "output_type": "stream",
     "text": [
      "/Library/Frameworks/Python.framework/Versions/3.12/lib/python3.12/site-packages/qiskit_ibm_runtime/fake_provider/local_service.py:187: UserWarning: The resilience_level option has no effect in local testing mode.\n",
      "  warnings.warn(\"The resilience_level option has no effect in local testing mode.\")\n"
     ]
    },
    {
     "name": "stdout",
     "output_type": "stream",
     "text": [
      "Iters. done: 99 [Energy: -1.7417435407845052 +/- 0.011119021902711572]\n"
     ]
    },
    {
     "name": "stderr",
     "output_type": "stream",
     "text": [
      "/Library/Frameworks/Python.framework/Versions/3.12/lib/python3.12/site-packages/qiskit_ibm_runtime/fake_provider/local_service.py:187: UserWarning: The resilience_level option has no effect in local testing mode.\n",
      "  warnings.warn(\"The resilience_level option has no effect in local testing mode.\")\n"
     ]
    },
    {
     "name": "stdout",
     "output_type": "stream",
     "text": [
      "Iters. done: 100 [Energy: -1.7511628203511562 +/- 0.010600244699445498]\n"
     ]
    },
    {
     "name": "stderr",
     "output_type": "stream",
     "text": [
      "/Library/Frameworks/Python.framework/Versions/3.12/lib/python3.12/site-packages/qiskit_ibm_runtime/fake_provider/local_service.py:187: UserWarning: The resilience_level option has no effect in local testing mode.\n",
      "  warnings.warn(\"The resilience_level option has no effect in local testing mode.\")\n"
     ]
    },
    {
     "name": "stdout",
     "output_type": "stream",
     "text": [
      "Iters. done: 101 [Energy: -1.767921491951178 +/- 0.00984816206331463]\n"
     ]
    },
    {
     "name": "stderr",
     "output_type": "stream",
     "text": [
      "/Library/Frameworks/Python.framework/Versions/3.12/lib/python3.12/site-packages/qiskit_ibm_runtime/fake_provider/local_service.py:187: UserWarning: The resilience_level option has no effect in local testing mode.\n",
      "  warnings.warn(\"The resilience_level option has no effect in local testing mode.\")\n"
     ]
    },
    {
     "name": "stdout",
     "output_type": "stream",
     "text": [
      "Iters. done: 102 [Energy: -1.7730677349845345 +/- 0.009614107891888908]\n"
     ]
    },
    {
     "name": "stderr",
     "output_type": "stream",
     "text": [
      "/Library/Frameworks/Python.framework/Versions/3.12/lib/python3.12/site-packages/qiskit_ibm_runtime/fake_provider/local_service.py:187: UserWarning: The resilience_level option has no effect in local testing mode.\n",
      "  warnings.warn(\"The resilience_level option has no effect in local testing mode.\")\n"
     ]
    },
    {
     "name": "stdout",
     "output_type": "stream",
     "text": [
      "Iters. done: 103 [Energy: -1.7351371997738267 +/- 0.011249829403120337]\n"
     ]
    },
    {
     "name": "stderr",
     "output_type": "stream",
     "text": [
      "/Library/Frameworks/Python.framework/Versions/3.12/lib/python3.12/site-packages/qiskit_ibm_runtime/fake_provider/local_service.py:187: UserWarning: The resilience_level option has no effect in local testing mode.\n",
      "  warnings.warn(\"The resilience_level option has no effect in local testing mode.\")\n"
     ]
    },
    {
     "name": "stdout",
     "output_type": "stream",
     "text": [
      "Iters. done: 104 [Energy: -1.7681605883745193 +/- 0.00985898213369972]\n"
     ]
    },
    {
     "name": "stderr",
     "output_type": "stream",
     "text": [
      "/Library/Frameworks/Python.framework/Versions/3.12/lib/python3.12/site-packages/qiskit_ibm_runtime/fake_provider/local_service.py:187: UserWarning: The resilience_level option has no effect in local testing mode.\n",
      "  warnings.warn(\"The resilience_level option has no effect in local testing mode.\")\n"
     ]
    },
    {
     "name": "stdout",
     "output_type": "stream",
     "text": [
      "Iters. done: 105 [Energy: -1.7694280050161997 +/- 0.009877945943245675]\n"
     ]
    },
    {
     "name": "stderr",
     "output_type": "stream",
     "text": [
      "/Library/Frameworks/Python.framework/Versions/3.12/lib/python3.12/site-packages/qiskit_ibm_runtime/fake_provider/local_service.py:187: UserWarning: The resilience_level option has no effect in local testing mode.\n",
      "  warnings.warn(\"The resilience_level option has no effect in local testing mode.\")\n"
     ]
    },
    {
     "name": "stdout",
     "output_type": "stream",
     "text": [
      "Iters. done: 106 [Energy: -1.7740933577345315 +/- 0.009671211075913745]\n"
     ]
    },
    {
     "name": "stderr",
     "output_type": "stream",
     "text": [
      "/Library/Frameworks/Python.framework/Versions/3.12/lib/python3.12/site-packages/qiskit_ibm_runtime/fake_provider/local_service.py:187: UserWarning: The resilience_level option has no effect in local testing mode.\n",
      "  warnings.warn(\"The resilience_level option has no effect in local testing mode.\")\n"
     ]
    },
    {
     "name": "stdout",
     "output_type": "stream",
     "text": [
      "Iters. done: 107 [Energy: -1.7593088957147425 +/- 0.010412359526621198]\n"
     ]
    },
    {
     "name": "stderr",
     "output_type": "stream",
     "text": [
      "/Library/Frameworks/Python.framework/Versions/3.12/lib/python3.12/site-packages/qiskit_ibm_runtime/fake_provider/local_service.py:187: UserWarning: The resilience_level option has no effect in local testing mode.\n",
      "  warnings.warn(\"The resilience_level option has no effect in local testing mode.\")\n"
     ]
    },
    {
     "name": "stdout",
     "output_type": "stream",
     "text": [
      "Iters. done: 108 [Energy: -1.7746666146972534 +/- 0.009683800092259415]\n"
     ]
    },
    {
     "name": "stderr",
     "output_type": "stream",
     "text": [
      "/Library/Frameworks/Python.framework/Versions/3.12/lib/python3.12/site-packages/qiskit_ibm_runtime/fake_provider/local_service.py:187: UserWarning: The resilience_level option has no effect in local testing mode.\n",
      "  warnings.warn(\"The resilience_level option has no effect in local testing mode.\")\n"
     ]
    },
    {
     "name": "stdout",
     "output_type": "stream",
     "text": [
      "Iters. done: 109 [Energy: -1.7702026311697443 +/- 0.009622019333304341]\n"
     ]
    },
    {
     "name": "stderr",
     "output_type": "stream",
     "text": [
      "/Library/Frameworks/Python.framework/Versions/3.12/lib/python3.12/site-packages/qiskit_ibm_runtime/fake_provider/local_service.py:187: UserWarning: The resilience_level option has no effect in local testing mode.\n",
      "  warnings.warn(\"The resilience_level option has no effect in local testing mode.\")\n"
     ]
    },
    {
     "name": "stdout",
     "output_type": "stream",
     "text": [
      "Iters. done: 110 [Energy: -1.766638133347596 +/- 0.009982897735912773]\n"
     ]
    },
    {
     "name": "stderr",
     "output_type": "stream",
     "text": [
      "/Library/Frameworks/Python.framework/Versions/3.12/lib/python3.12/site-packages/qiskit_ibm_runtime/fake_provider/local_service.py:187: UserWarning: The resilience_level option has no effect in local testing mode.\n",
      "  warnings.warn(\"The resilience_level option has no effect in local testing mode.\")\n"
     ]
    },
    {
     "name": "stdout",
     "output_type": "stream",
     "text": [
      "Iters. done: 111 [Energy: -1.7724035721909464 +/- 0.009530237003338318]\n"
     ]
    },
    {
     "name": "stderr",
     "output_type": "stream",
     "text": [
      "/Library/Frameworks/Python.framework/Versions/3.12/lib/python3.12/site-packages/qiskit_ibm_runtime/fake_provider/local_service.py:187: UserWarning: The resilience_level option has no effect in local testing mode.\n",
      "  warnings.warn(\"The resilience_level option has no effect in local testing mode.\")\n"
     ]
    },
    {
     "name": "stdout",
     "output_type": "stream",
     "text": [
      "Iters. done: 112 [Energy: -1.7711048644477851 +/- 0.009642278148421427]\n"
     ]
    },
    {
     "name": "stderr",
     "output_type": "stream",
     "text": [
      "/Library/Frameworks/Python.framework/Versions/3.12/lib/python3.12/site-packages/qiskit_ibm_runtime/fake_provider/local_service.py:187: UserWarning: The resilience_level option has no effect in local testing mode.\n",
      "  warnings.warn(\"The resilience_level option has no effect in local testing mode.\")\n"
     ]
    },
    {
     "name": "stdout",
     "output_type": "stream",
     "text": [
      "Iters. done: 113 [Energy: -1.7687824593135133 +/- 0.009957873089360858]\n"
     ]
    },
    {
     "name": "stderr",
     "output_type": "stream",
     "text": [
      "/Library/Frameworks/Python.framework/Versions/3.12/lib/python3.12/site-packages/qiskit_ibm_runtime/fake_provider/local_service.py:187: UserWarning: The resilience_level option has no effect in local testing mode.\n",
      "  warnings.warn(\"The resilience_level option has no effect in local testing mode.\")\n"
     ]
    },
    {
     "name": "stdout",
     "output_type": "stream",
     "text": [
      "Iters. done: 114 [Energy: -1.7702747916090595 +/- 0.009827456940884454]\n"
     ]
    },
    {
     "name": "stderr",
     "output_type": "stream",
     "text": [
      "/Library/Frameworks/Python.framework/Versions/3.12/lib/python3.12/site-packages/qiskit_ibm_runtime/fake_provider/local_service.py:187: UserWarning: The resilience_level option has no effect in local testing mode.\n",
      "  warnings.warn(\"The resilience_level option has no effect in local testing mode.\")\n"
     ]
    },
    {
     "name": "stdout",
     "output_type": "stream",
     "text": [
      "Iters. done: 115 [Energy: -1.7649677679642788 +/- 0.010106241095103389]\n"
     ]
    },
    {
     "name": "stderr",
     "output_type": "stream",
     "text": [
      "/Library/Frameworks/Python.framework/Versions/3.12/lib/python3.12/site-packages/qiskit_ibm_runtime/fake_provider/local_service.py:187: UserWarning: The resilience_level option has no effect in local testing mode.\n",
      "  warnings.warn(\"The resilience_level option has no effect in local testing mode.\")\n"
     ]
    },
    {
     "name": "stdout",
     "output_type": "stream",
     "text": [
      "Iters. done: 116 [Energy: -1.7748293110438202 +/- 0.0097218749562066]\n"
     ]
    },
    {
     "name": "stderr",
     "output_type": "stream",
     "text": [
      "/Library/Frameworks/Python.framework/Versions/3.12/lib/python3.12/site-packages/qiskit_ibm_runtime/fake_provider/local_service.py:187: UserWarning: The resilience_level option has no effect in local testing mode.\n",
      "  warnings.warn(\"The resilience_level option has no effect in local testing mode.\")\n"
     ]
    },
    {
     "name": "stdout",
     "output_type": "stream",
     "text": [
      "Iters. done: 117 [Energy: -1.7675631925697655 +/- 0.010006636579979751]\n"
     ]
    },
    {
     "name": "stderr",
     "output_type": "stream",
     "text": [
      "/Library/Frameworks/Python.framework/Versions/3.12/lib/python3.12/site-packages/qiskit_ibm_runtime/fake_provider/local_service.py:187: UserWarning: The resilience_level option has no effect in local testing mode.\n",
      "  warnings.warn(\"The resilience_level option has no effect in local testing mode.\")\n"
     ]
    },
    {
     "name": "stdout",
     "output_type": "stream",
     "text": [
      "Iters. done: 118 [Energy: -1.7684804212267362 +/- 0.00989729156572165]\n"
     ]
    },
    {
     "name": "stderr",
     "output_type": "stream",
     "text": [
      "/Library/Frameworks/Python.framework/Versions/3.12/lib/python3.12/site-packages/qiskit_ibm_runtime/fake_provider/local_service.py:187: UserWarning: The resilience_level option has no effect in local testing mode.\n",
      "  warnings.warn(\"The resilience_level option has no effect in local testing mode.\")\n"
     ]
    },
    {
     "name": "stdout",
     "output_type": "stream",
     "text": [
      "Iters. done: 119 [Energy: -1.7707377421675345 +/- 0.009780247535261816]\n"
     ]
    },
    {
     "name": "stderr",
     "output_type": "stream",
     "text": [
      "/Library/Frameworks/Python.framework/Versions/3.12/lib/python3.12/site-packages/qiskit_ibm_runtime/fake_provider/local_service.py:187: UserWarning: The resilience_level option has no effect in local testing mode.\n",
      "  warnings.warn(\"The resilience_level option has no effect in local testing mode.\")\n"
     ]
    },
    {
     "name": "stdout",
     "output_type": "stream",
     "text": [
      "Iters. done: 120 [Energy: -1.7716257817069578 +/- 0.009905416731598527]\n"
     ]
    },
    {
     "name": "stderr",
     "output_type": "stream",
     "text": [
      "/Library/Frameworks/Python.framework/Versions/3.12/lib/python3.12/site-packages/qiskit_ibm_runtime/fake_provider/local_service.py:187: UserWarning: The resilience_level option has no effect in local testing mode.\n",
      "  warnings.warn(\"The resilience_level option has no effect in local testing mode.\")\n"
     ]
    },
    {
     "name": "stdout",
     "output_type": "stream",
     "text": [
      "Iters. done: 121 [Energy: -1.7644834858818859 +/- 0.010215083609957988]\n"
     ]
    },
    {
     "name": "stderr",
     "output_type": "stream",
     "text": [
      "/Library/Frameworks/Python.framework/Versions/3.12/lib/python3.12/site-packages/qiskit_ibm_runtime/fake_provider/local_service.py:187: UserWarning: The resilience_level option has no effect in local testing mode.\n",
      "  warnings.warn(\"The resilience_level option has no effect in local testing mode.\")\n"
     ]
    },
    {
     "name": "stdout",
     "output_type": "stream",
     "text": [
      "Iters. done: 122 [Energy: -1.7732030722820593 +/- 0.00969762417597536]\n"
     ]
    },
    {
     "name": "stderr",
     "output_type": "stream",
     "text": [
      "/Library/Frameworks/Python.framework/Versions/3.12/lib/python3.12/site-packages/qiskit_ibm_runtime/fake_provider/local_service.py:187: UserWarning: The resilience_level option has no effect in local testing mode.\n",
      "  warnings.warn(\"The resilience_level option has no effect in local testing mode.\")\n"
     ]
    },
    {
     "name": "stdout",
     "output_type": "stream",
     "text": [
      "Iters. done: 123 [Energy: -1.770606748949846 +/- 0.009849100722393433]\n"
     ]
    },
    {
     "name": "stderr",
     "output_type": "stream",
     "text": [
      "/Library/Frameworks/Python.framework/Versions/3.12/lib/python3.12/site-packages/qiskit_ibm_runtime/fake_provider/local_service.py:187: UserWarning: The resilience_level option has no effect in local testing mode.\n",
      "  warnings.warn(\"The resilience_level option has no effect in local testing mode.\")\n"
     ]
    },
    {
     "name": "stdout",
     "output_type": "stream",
     "text": [
      "Iters. done: 124 [Energy: -1.7723680746494397 +/- 0.009722098192767889]\n"
     ]
    },
    {
     "name": "stderr",
     "output_type": "stream",
     "text": [
      "/Library/Frameworks/Python.framework/Versions/3.12/lib/python3.12/site-packages/qiskit_ibm_runtime/fake_provider/local_service.py:187: UserWarning: The resilience_level option has no effect in local testing mode.\n",
      "  warnings.warn(\"The resilience_level option has no effect in local testing mode.\")\n"
     ]
    },
    {
     "name": "stdout",
     "output_type": "stream",
     "text": [
      "Iters. done: 125 [Energy: -1.7680068476166126 +/- 0.010068356662803422]\n"
     ]
    },
    {
     "name": "stderr",
     "output_type": "stream",
     "text": [
      "/Library/Frameworks/Python.framework/Versions/3.12/lib/python3.12/site-packages/qiskit_ibm_runtime/fake_provider/local_service.py:187: UserWarning: The resilience_level option has no effect in local testing mode.\n",
      "  warnings.warn(\"The resilience_level option has no effect in local testing mode.\")\n"
     ]
    },
    {
     "name": "stdout",
     "output_type": "stream",
     "text": [
      "Iters. done: 126 [Energy: -1.77555584989 +/- 0.009485067414776449]\n"
     ]
    },
    {
     "name": "stderr",
     "output_type": "stream",
     "text": [
      "/Library/Frameworks/Python.framework/Versions/3.12/lib/python3.12/site-packages/qiskit_ibm_runtime/fake_provider/local_service.py:187: UserWarning: The resilience_level option has no effect in local testing mode.\n",
      "  warnings.warn(\"The resilience_level option has no effect in local testing mode.\")\n"
     ]
    },
    {
     "name": "stdout",
     "output_type": "stream",
     "text": [
      "Iters. done: 127 [Energy: -1.7747556440188583 +/- 0.009636765427044459]\n"
     ]
    },
    {
     "name": "stderr",
     "output_type": "stream",
     "text": [
      "/Library/Frameworks/Python.framework/Versions/3.12/lib/python3.12/site-packages/qiskit_ibm_runtime/fake_provider/local_service.py:187: UserWarning: The resilience_level option has no effect in local testing mode.\n",
      "  warnings.warn(\"The resilience_level option has no effect in local testing mode.\")\n"
     ]
    },
    {
     "name": "stdout",
     "output_type": "stream",
     "text": [
      "Iters. done: 128 [Energy: -1.7780912690883155 +/- 0.00944455065679641]\n"
     ]
    },
    {
     "name": "stderr",
     "output_type": "stream",
     "text": [
      "/Library/Frameworks/Python.framework/Versions/3.12/lib/python3.12/site-packages/qiskit_ibm_runtime/fake_provider/local_service.py:187: UserWarning: The resilience_level option has no effect in local testing mode.\n",
      "  warnings.warn(\"The resilience_level option has no effect in local testing mode.\")\n"
     ]
    },
    {
     "name": "stdout",
     "output_type": "stream",
     "text": [
      "Iters. done: 129 [Energy: -1.7743590895780303 +/- 0.009660916748076422]\n"
     ]
    },
    {
     "name": "stderr",
     "output_type": "stream",
     "text": [
      "/Library/Frameworks/Python.framework/Versions/3.12/lib/python3.12/site-packages/qiskit_ibm_runtime/fake_provider/local_service.py:187: UserWarning: The resilience_level option has no effect in local testing mode.\n",
      "  warnings.warn(\"The resilience_level option has no effect in local testing mode.\")\n"
     ]
    },
    {
     "name": "stdout",
     "output_type": "stream",
     "text": [
      "Iters. done: 130 [Energy: -1.7720609946036536 +/- 0.009887119743130503]\n"
     ]
    },
    {
     "name": "stderr",
     "output_type": "stream",
     "text": [
      "/Library/Frameworks/Python.framework/Versions/3.12/lib/python3.12/site-packages/qiskit_ibm_runtime/fake_provider/local_service.py:187: UserWarning: The resilience_level option has no effect in local testing mode.\n",
      "  warnings.warn(\"The resilience_level option has no effect in local testing mode.\")\n"
     ]
    },
    {
     "name": "stdout",
     "output_type": "stream",
     "text": [
      "Iters. done: 131 [Energy: -1.773445879436212 +/- 0.00962080224262342]\n"
     ]
    },
    {
     "name": "stderr",
     "output_type": "stream",
     "text": [
      "/Library/Frameworks/Python.framework/Versions/3.12/lib/python3.12/site-packages/qiskit_ibm_runtime/fake_provider/local_service.py:187: UserWarning: The resilience_level option has no effect in local testing mode.\n",
      "  warnings.warn(\"The resilience_level option has no effect in local testing mode.\")\n"
     ]
    },
    {
     "name": "stdout",
     "output_type": "stream",
     "text": [
      "Iters. done: 132 [Energy: -1.7757862334550194 +/- 0.009509575466614042]\n"
     ]
    },
    {
     "name": "stderr",
     "output_type": "stream",
     "text": [
      "/Library/Frameworks/Python.framework/Versions/3.12/lib/python3.12/site-packages/qiskit_ibm_runtime/fake_provider/local_service.py:187: UserWarning: The resilience_level option has no effect in local testing mode.\n",
      "  warnings.warn(\"The resilience_level option has no effect in local testing mode.\")\n"
     ]
    },
    {
     "name": "stdout",
     "output_type": "stream",
     "text": [
      "Iters. done: 133 [Energy: -1.780868757408266 +/- 0.009305695559127056]\n"
     ]
    },
    {
     "name": "stderr",
     "output_type": "stream",
     "text": [
      "/Library/Frameworks/Python.framework/Versions/3.12/lib/python3.12/site-packages/qiskit_ibm_runtime/fake_provider/local_service.py:187: UserWarning: The resilience_level option has no effect in local testing mode.\n",
      "  warnings.warn(\"The resilience_level option has no effect in local testing mode.\")\n"
     ]
    },
    {
     "name": "stdout",
     "output_type": "stream",
     "text": [
      "Iters. done: 134 [Energy: -1.780157658132874 +/- 0.009342910854134643]\n"
     ]
    },
    {
     "name": "stderr",
     "output_type": "stream",
     "text": [
      "/Library/Frameworks/Python.framework/Versions/3.12/lib/python3.12/site-packages/qiskit_ibm_runtime/fake_provider/local_service.py:187: UserWarning: The resilience_level option has no effect in local testing mode.\n",
      "  warnings.warn(\"The resilience_level option has no effect in local testing mode.\")\n"
     ]
    },
    {
     "name": "stdout",
     "output_type": "stream",
     "text": [
      "Iters. done: 135 [Energy: -1.7782327095473824 +/- 0.009387145630571192]\n"
     ]
    },
    {
     "name": "stderr",
     "output_type": "stream",
     "text": [
      "/Library/Frameworks/Python.framework/Versions/3.12/lib/python3.12/site-packages/qiskit_ibm_runtime/fake_provider/local_service.py:187: UserWarning: The resilience_level option has no effect in local testing mode.\n",
      "  warnings.warn(\"The resilience_level option has no effect in local testing mode.\")\n"
     ]
    },
    {
     "name": "stdout",
     "output_type": "stream",
     "text": [
      "Iters. done: 136 [Energy: -1.7802669624286964 +/- 0.009374824266018714]\n"
     ]
    },
    {
     "name": "stderr",
     "output_type": "stream",
     "text": [
      "/Library/Frameworks/Python.framework/Versions/3.12/lib/python3.12/site-packages/qiskit_ibm_runtime/fake_provider/local_service.py:187: UserWarning: The resilience_level option has no effect in local testing mode.\n",
      "  warnings.warn(\"The resilience_level option has no effect in local testing mode.\")\n"
     ]
    },
    {
     "name": "stdout",
     "output_type": "stream",
     "text": [
      "Iters. done: 137 [Energy: -1.7822192503443481 +/- 0.009151990097252118]\n"
     ]
    },
    {
     "name": "stderr",
     "output_type": "stream",
     "text": [
      "/Library/Frameworks/Python.framework/Versions/3.12/lib/python3.12/site-packages/qiskit_ibm_runtime/fake_provider/local_service.py:187: UserWarning: The resilience_level option has no effect in local testing mode.\n",
      "  warnings.warn(\"The resilience_level option has no effect in local testing mode.\")\n"
     ]
    },
    {
     "name": "stdout",
     "output_type": "stream",
     "text": [
      "Iters. done: 138 [Energy: -1.7759532946467744 +/- 0.009401769219924066]\n"
     ]
    },
    {
     "name": "stderr",
     "output_type": "stream",
     "text": [
      "/Library/Frameworks/Python.framework/Versions/3.12/lib/python3.12/site-packages/qiskit_ibm_runtime/fake_provider/local_service.py:187: UserWarning: The resilience_level option has no effect in local testing mode.\n",
      "  warnings.warn(\"The resilience_level option has no effect in local testing mode.\")\n"
     ]
    },
    {
     "name": "stdout",
     "output_type": "stream",
     "text": [
      "Iters. done: 139 [Energy: -1.7806724003935621 +/- 0.009260997303325257]\n"
     ]
    },
    {
     "name": "stderr",
     "output_type": "stream",
     "text": [
      "/Library/Frameworks/Python.framework/Versions/3.12/lib/python3.12/site-packages/qiskit_ibm_runtime/fake_provider/local_service.py:187: UserWarning: The resilience_level option has no effect in local testing mode.\n",
      "  warnings.warn(\"The resilience_level option has no effect in local testing mode.\")\n"
     ]
    },
    {
     "name": "stdout",
     "output_type": "stream",
     "text": [
      "Iters. done: 140 [Energy: -1.7801032919647393 +/- 0.009444551391372315]\n"
     ]
    },
    {
     "name": "stderr",
     "output_type": "stream",
     "text": [
      "/Library/Frameworks/Python.framework/Versions/3.12/lib/python3.12/site-packages/qiskit_ibm_runtime/fake_provider/local_service.py:187: UserWarning: The resilience_level option has no effect in local testing mode.\n",
      "  warnings.warn(\"The resilience_level option has no effect in local testing mode.\")\n"
     ]
    },
    {
     "name": "stdout",
     "output_type": "stream",
     "text": [
      "Iters. done: 141 [Energy: -1.7787985828710304 +/- 0.009320810616187931]\n"
     ]
    },
    {
     "name": "stderr",
     "output_type": "stream",
     "text": [
      "/Library/Frameworks/Python.framework/Versions/3.12/lib/python3.12/site-packages/qiskit_ibm_runtime/fake_provider/local_service.py:187: UserWarning: The resilience_level option has no effect in local testing mode.\n",
      "  warnings.warn(\"The resilience_level option has no effect in local testing mode.\")\n"
     ]
    },
    {
     "name": "stdout",
     "output_type": "stream",
     "text": [
      "Iters. done: 142 [Energy: -1.7820676941941433 +/- 0.009147106463043049]\n"
     ]
    },
    {
     "name": "stderr",
     "output_type": "stream",
     "text": [
      "/Library/Frameworks/Python.framework/Versions/3.12/lib/python3.12/site-packages/qiskit_ibm_runtime/fake_provider/local_service.py:187: UserWarning: The resilience_level option has no effect in local testing mode.\n",
      "  warnings.warn(\"The resilience_level option has no effect in local testing mode.\")\n"
     ]
    },
    {
     "name": "stdout",
     "output_type": "stream",
     "text": [
      "Iters. done: 143 [Energy: -1.781458967248546 +/- 0.009221667487066135]\n"
     ]
    }
   ],
   "source": [
    "twolocal_results = run_vqe_twolocal(simulator, isa_twolocal, isa_hamiltonian_twolocal)"
   ]
  },
  {
   "cell_type": "markdown",
   "id": "bcfb7f97-0f18-4c4f-abef-91777eff4a33",
   "metadata": {},
   "source": [
    "## Run the UCCSD Solution\n",
    "The next cell will solve the VQE problem for the UCCSD ansatz. On quantum hardware, **this may take up to an hour to run**. On a simulator, it will take 5-10 minutes."
   ]
  },
  {
   "cell_type": "code",
   "execution_count": 16,
   "id": "de76d134-08f9-4c2f-afaf-4fe4b99e54bd",
   "metadata": {},
   "outputs": [
    {
     "name": "stderr",
     "output_type": "stream",
     "text": [
      "/Library/Frameworks/Python.framework/Versions/3.12/lib/python3.12/site-packages/qiskit_ibm_runtime/fake_provider/local_service.py:187: UserWarning: The resilience_level option has no effect in local testing mode.\n",
      "  warnings.warn(\"The resilience_level option has no effect in local testing mode.\")\n"
     ]
    },
    {
     "name": "stdout",
     "output_type": "stream",
     "text": [
      "Iters. done: 1 [Energy: -1.6652449596332302 +/- 0.012763715604033629]\n"
     ]
    },
    {
     "name": "stderr",
     "output_type": "stream",
     "text": [
      "/Library/Frameworks/Python.framework/Versions/3.12/lib/python3.12/site-packages/qiskit_ibm_runtime/fake_provider/local_service.py:187: UserWarning: The resilience_level option has no effect in local testing mode.\n",
      "  warnings.warn(\"The resilience_level option has no effect in local testing mode.\")\n"
     ]
    },
    {
     "name": "stdout",
     "output_type": "stream",
     "text": [
      "Iters. done: 2 [Energy: -1.190161009394095 +/- 0.01729320736501413]\n"
     ]
    },
    {
     "name": "stderr",
     "output_type": "stream",
     "text": [
      "/Library/Frameworks/Python.framework/Versions/3.12/lib/python3.12/site-packages/qiskit_ibm_runtime/fake_provider/local_service.py:187: UserWarning: The resilience_level option has no effect in local testing mode.\n",
      "  warnings.warn(\"The resilience_level option has no effect in local testing mode.\")\n"
     ]
    },
    {
     "name": "stdout",
     "output_type": "stream",
     "text": [
      "Iters. done: 3 [Energy: -1.2406494900694547 +/- 0.016642115089079774]\n"
     ]
    },
    {
     "name": "stderr",
     "output_type": "stream",
     "text": [
      "/Library/Frameworks/Python.framework/Versions/3.12/lib/python3.12/site-packages/qiskit_ibm_runtime/fake_provider/local_service.py:187: UserWarning: The resilience_level option has no effect in local testing mode.\n",
      "  warnings.warn(\"The resilience_level option has no effect in local testing mode.\")\n"
     ]
    },
    {
     "name": "stdout",
     "output_type": "stream",
     "text": [
      "Iters. done: 4 [Energy: -0.6431068999669196 +/- 0.01587158292206731]\n"
     ]
    },
    {
     "name": "stderr",
     "output_type": "stream",
     "text": [
      "/Library/Frameworks/Python.framework/Versions/3.12/lib/python3.12/site-packages/qiskit_ibm_runtime/fake_provider/local_service.py:187: UserWarning: The resilience_level option has no effect in local testing mode.\n",
      "  warnings.warn(\"The resilience_level option has no effect in local testing mode.\")\n"
     ]
    },
    {
     "name": "stdout",
     "output_type": "stream",
     "text": [
      "Iters. done: 5 [Energy: -1.1695075557497503 +/- 0.018686679686000032]\n"
     ]
    },
    {
     "name": "stderr",
     "output_type": "stream",
     "text": [
      "/Library/Frameworks/Python.framework/Versions/3.12/lib/python3.12/site-packages/qiskit_ibm_runtime/fake_provider/local_service.py:187: UserWarning: The resilience_level option has no effect in local testing mode.\n",
      "  warnings.warn(\"The resilience_level option has no effect in local testing mode.\")\n"
     ]
    },
    {
     "name": "stdout",
     "output_type": "stream",
     "text": [
      "Iters. done: 6 [Energy: -1.528750396864856 +/- 0.015847576890395298]\n"
     ]
    },
    {
     "name": "stderr",
     "output_type": "stream",
     "text": [
      "/Library/Frameworks/Python.framework/Versions/3.12/lib/python3.12/site-packages/qiskit_ibm_runtime/fake_provider/local_service.py:187: UserWarning: The resilience_level option has no effect in local testing mode.\n",
      "  warnings.warn(\"The resilience_level option has no effect in local testing mode.\")\n"
     ]
    },
    {
     "name": "stdout",
     "output_type": "stream",
     "text": [
      "Iters. done: 7 [Energy: -1.6471843061289977 +/- 0.014223780879177533]\n"
     ]
    },
    {
     "name": "stderr",
     "output_type": "stream",
     "text": [
      "/Library/Frameworks/Python.framework/Versions/3.12/lib/python3.12/site-packages/qiskit_ibm_runtime/fake_provider/local_service.py:187: UserWarning: The resilience_level option has no effect in local testing mode.\n",
      "  warnings.warn(\"The resilience_level option has no effect in local testing mode.\")\n"
     ]
    },
    {
     "name": "stdout",
     "output_type": "stream",
     "text": [
      "Iters. done: 8 [Energy: -1.6657067046333318 +/- 0.013148461975119267]\n"
     ]
    },
    {
     "name": "stderr",
     "output_type": "stream",
     "text": [
      "/Library/Frameworks/Python.framework/Versions/3.12/lib/python3.12/site-packages/qiskit_ibm_runtime/fake_provider/local_service.py:187: UserWarning: The resilience_level option has no effect in local testing mode.\n",
      "  warnings.warn(\"The resilience_level option has no effect in local testing mode.\")\n"
     ]
    },
    {
     "name": "stdout",
     "output_type": "stream",
     "text": [
      "Iters. done: 9 [Energy: -1.5564185264678434 +/- 0.014092495168572606]\n"
     ]
    },
    {
     "name": "stderr",
     "output_type": "stream",
     "text": [
      "/Library/Frameworks/Python.framework/Versions/3.12/lib/python3.12/site-packages/qiskit_ibm_runtime/fake_provider/local_service.py:187: UserWarning: The resilience_level option has no effect in local testing mode.\n",
      "  warnings.warn(\"The resilience_level option has no effect in local testing mode.\")\n"
     ]
    },
    {
     "name": "stdout",
     "output_type": "stream",
     "text": [
      "Iters. done: 10 [Energy: -1.670836175348069 +/- 0.013397642714203364]\n"
     ]
    },
    {
     "name": "stderr",
     "output_type": "stream",
     "text": [
      "/Library/Frameworks/Python.framework/Versions/3.12/lib/python3.12/site-packages/qiskit_ibm_runtime/fake_provider/local_service.py:187: UserWarning: The resilience_level option has no effect in local testing mode.\n",
      "  warnings.warn(\"The resilience_level option has no effect in local testing mode.\")\n"
     ]
    },
    {
     "name": "stdout",
     "output_type": "stream",
     "text": [
      "Iters. done: 11 [Energy: -1.6494468882532316 +/- 0.014106250583630832]\n"
     ]
    },
    {
     "name": "stderr",
     "output_type": "stream",
     "text": [
      "/Library/Frameworks/Python.framework/Versions/3.12/lib/python3.12/site-packages/qiskit_ibm_runtime/fake_provider/local_service.py:187: UserWarning: The resilience_level option has no effect in local testing mode.\n",
      "  warnings.warn(\"The resilience_level option has no effect in local testing mode.\")\n"
     ]
    },
    {
     "name": "stdout",
     "output_type": "stream",
     "text": [
      "Iters. done: 12 [Energy: -1.6619710008160649 +/- 0.01359471890682909]\n"
     ]
    }
   ],
   "source": [
    "uccsd_results = run_vqe_uccsd(simulator, isa_uccsd, isa_hamiltonian_uccsd)"
   ]
  },
  {
   "cell_type": "markdown",
   "id": "e79f1225-9d11-40b5-ae5c-3b7a3f7aec3b",
   "metadata": {},
   "source": [
    "### Compare to the Reference Value\n",
    "We can use `numpy.linalg.eigh` to find the ground state of the Hamiltonian directly, since hydrogen is small enough to be solved classically. We use this as the reference value to compare our quantum results to."
   ]
  },
  {
   "cell_type": "code",
   "execution_count": 17,
   "id": "36482122-d0d2-4833-8761-34715ac0e383",
   "metadata": {},
   "outputs": [
    {
     "name": "stdout",
     "output_type": "stream",
     "text": [
      "Reference Energy: -1.8572750302023795 eV\n",
      "UCCSD Energy: -1.6619710008160649 eV\n",
      "TwoLocal Energy: -1.781458967248546 eV\n"
     ]
    }
   ],
   "source": [
    "ham = mapped_hamiltonian.to_matrix()\n",
    "reference_energy = np.linalg.eigh(ham)[0][0]\n",
    "\n",
    "uccsd_energy, uccsd_err = uccsd_results['energy'][-1]\n",
    "twolocal_energy, twolocal_err = twolocal_results['energy'][-1]\n",
    "\n",
    "print(f'Reference Energy: {reference_energy} eV')\n",
    "print(f'UCCSD Energy: {uccsd_energy} eV')\n",
    "print(f'TwoLocal Energy: {twolocal_energy} eV')"
   ]
  },
  {
   "cell_type": "markdown",
   "id": "dcbeb7b6-177f-4f35-98f7-7d0d997466c3",
   "metadata": {},
   "source": [
    "### Plot the Result\n",
    "The cell below plots the results of the two quantum calculations alongside the reference energy for comparison."
   ]
  },
  {
   "cell_type": "code",
   "execution_count": 18,
   "id": "184c8f44-d9a8-43b0-8c19-4244592bfba2",
   "metadata": {},
   "outputs": [
    {
     "data": {
      "text/plain": [
       "<ErrorbarContainer object of 3 artists>"
      ]
     },
     "execution_count": 18,
     "metadata": {},
     "output_type": "execute_result"
    },
    {
     "data": {
      "image/png": "[encoded data removed]",
      "text/plain": [
       "<Figure size 640x480 with 1 Axes>"
      ]
     },
     "metadata": {},
     "output_type": "display_data"
    }
   ],
   "source": [
    "xvals = [\"Reference\", \"TwoLocal\", \"UCCSD\"]\n",
    "yvals = [reference_energy, twolocal_energy, uccsd_energy]\n",
    "yerr = [0, twolocal_err, uccsd_err]\n",
    "\n",
    "plt.bar(xvals, yvals)\n",
    "plt.errorbar(xvals, yvals, yerr, fmt=\"o\", color=\"r\")"
   ]
  },
  {
   "cell_type": "markdown",
   "id": "a090b7b9",
   "metadata": {},
   "source": [
    "#### Question 1\n",
    "Run the cells in the Jupyter notebook to get the estimated ground state energy for H2 using\n",
    "the UCCSD and TwoLocal ansatze. Report your answers along with the reference answer."
   ]
  },
  {
   "cell_type": "markdown",
   "id": "095fd41e",
   "metadata": {},
   "source": [
    "Reference Energy: -1.8572750302023795 eV\n",
    "\n",
    "UCCSD Energy: -1.6619710008160649 eV\n",
    "\n",
    "TwoLocal Energy: -1.781458967248546 eV"
   ]
  },
  {
   "cell_type": "markdown",
   "id": "1df04c4f",
   "metadata": {},
   "source": [
    "#### Question 2\n",
    "How do your answers for the two quantum calculations compare to the reference answer?"
   ]
  },
  {
   "cell_type": "markdown",
   "id": "18a5201e",
   "metadata": {},
   "source": [
    "They are both less than the reference value."
   ]
  },
  {
   "cell_type": "markdown",
   "id": "fb65d836",
   "metadata": {},
   "source": [
    "#### Question 3\n",
    "Does one ansatz give an answer closer to the reference value over the other? Which one? Why\n",
    "might this be?"
   ]
  },
  {
   "cell_type": "markdown",
   "id": "048ac401",
   "metadata": {},
   "source": [
    "The twolocal answer gives a closer value to the reference, and the reason for that might be due to the greater number of iterations done. That would result in a closer answer given that any Monte Carlo simulation would get closer to the true answer the more iterations it has."
   ]
  },
  {
   "cell_type": "markdown",
   "id": "3717527f",
   "metadata": {},
   "source": [
    "#### Question 4\n",
    "Define the terms ansatz and Hamiltonian. What does each one represent in the simulation?"
   ]
  },
  {
   "cell_type": "markdown",
   "id": "2bf1e26f",
   "metadata": {},
   "source": [
    "Ansatz is German for \"an educated guess\". In science, it is an initial assumption that's used to solve a problem. A Hamiltonian represents the total energy of a system. In the simulation, the ansatz represents the initial guess of what the energy is would end up looking like, and the Hamiltonian is the total energy state of the hydrogen atom. "
   ]
  },
  {
   "cell_type": "markdown",
   "id": "b52cf414",
   "metadata": {},
   "source": [
    "#### Question 5\n",
    "You are leading a quantum research team performing ground state calculations of a complex molecule. You just ran this $H_{2}$ simulation as a benchmark to inform what ansatz you should pick for the bigger calculation. What ansatz would you choose if your team is prioritizing\n",
    "cost-effectiveness? Why?"
   ]
  },
  {
   "cell_type": "markdown",
   "id": "7f0b26d5",
   "metadata": {},
   "source": [
    "The UCCSD ansatz would be used for cost-effectivness, since it managed to roughly approximate the energy levels of $H_{2}$ with only 12 iterations, as opposed to twolocal's 143 iterations. "
   ]
  },
  {
   "cell_type": "markdown",
   "id": "15fefee5",
   "metadata": {},
   "source": [
    "## Part 3 - Free Response: Project Proposal"
   ]
  },
  {
   "cell_type": "markdown",
   "id": "1ade8652",
   "metadata": {},
   "source": [
    "Team members: Jeremy Chen, Nathaniel Depue, Nate Mirin, Sameer Premji"
   ]
  },
  {
   "cell_type": "markdown",
   "id": "521edcc1",
   "metadata": {},
   "source": [
    "Our group is planning on creating a grant proposal for making a quantum sensor. The plan is to, at the very least, by the time project 2 is due, to a have a fully outline proposal for a making a quantum sensor. We wish to approach professor Tom Haley for a grant, and moving forward from there.\n",
    "\n",
    "As for contribution, I will be handling the information analysis part of the quantum sensor. Since the information gathered from the sensor would be messy and needs to be parsed, an algorithm for processes like denoising and squeezing. Though I don't know how that will be accomplished right now, my idea is to have the input be a sequence of signal strengths to be plotted, and that data will be crunch and processed afterwards with some sort of Python library. "
   ]
  },
  {
   "cell_type": "markdown",
   "id": "b99a61f0",
   "metadata": {},
   "source": []
  }
 ],
 "metadata": {
  "kernelspec": {
   "display_name": "Python 3 (ipykernel)",
   "language": "python",
   "name": "python3"
  },
  "language_info": {
   "codemirror_mode": {
    "name": "ipython",
    "version": 3
   },
   "file_extension": ".py",
   "mimetype": "text/x-python",
   "name": "python",
   "nbconvert_exporter": "python",
   "pygments_lexer": "ipython3",
   "version": "3.12.7"
  }
 },
 "nbformat": 4,
 "nbformat_minor": 5
}
