{
 "cells": [
  {
   "cell_type": "markdown",
   "id": "b9bbc1b6-d628-4c9a-a427-a9123ebb0219",
   "metadata": {},
   "source": [
    "# Homework 4 - Variational Quantum Simulation\n",
    "\n",
    "In this exercise, you will run a Variational Quantum Eignesolver simualtion of the Hydrogen (H$_2$) molecule. The goal will be to see how well the algorithm performs depending on the choice of parameterized wavefunction, or *ansatz*.\n",
    "\n",
    "For this work, we will need to install two additional libraries, PySCF and Qiskit Nature, which provide utilities for constructing models of atoms and molecules for quantum chemistry simulaitons. Run the next cell to install these libraries."
   ]
  },
  {
   "cell_type": "markdown",
   "id": "4ef7bd66",
   "metadata": {},
   "source": [
    "## Part 1 - Coherence Times and Fidelity"
   ]
  },
  {
   "cell_type": "code",
   "execution_count": 14,
   "id": "4a2f6d6d",
   "metadata": {},
   "outputs": [],
   "source": [
    "from sympy.solvers import solve\n",
    "from sympy import Symbol\n",
    "import numpy as np"
   ]
  },
  {
   "cell_type": "code",
   "execution_count": null,
   "id": "aa5a2180",
   "metadata": {},
   "outputs": [],
   "source": [
    "# Initial variable declarations\n",
    "m1_T1 = 800 * pow(10, -3)\n",
    "m1_T2 = 250 * pow(10, -3)\n",
    "m1_GT = 100 * pow(10, -6)\n",
    "m1_EPLG = 0.003\n",
    "\n",
    "m2_T1 = 150 * pow(10, -6)\n",
    "m2_T2 = 60 * pow(10, -6)\n",
    "m2_GT = 80 * pow(10, -9)\n",
    "m2_EPLG = 0.017"
   ]
  },
  {
   "cell_type": "markdown",
   "id": "2cb6bb06",
   "metadata": {},
   "source": [
    "#### Question 1"
   ]
  },
  {
   "cell_type": "code",
   "execution_count": null,
   "id": "18353e92",
   "metadata": {},
   "outputs": [],
   "source": [
    "x = Symbol('x')\n",
    "e = np.e\n",
    "m1_T1_pow = (-1 * m1_GT) / m1_T1\n",
    "m1_T1_fidelity = float(solve(pow(e, m1_T1_pow * x) - 0.5, x)[0])\n",
    "m1_T2_pow = (-1 * m1_GT) / m1_T2\n",
    "m1_T2_fidelity = float(solve(pow(e, m1_T2_pow * x) - 0.5, x)[0])\n",
    "\n",
    "m2_T1_pow = (-1 * m2_GT) / m2_T1\n",
    "m2_T1_fidelity = float(solve(pow(e, m2_T1_pow * x) - 0.5, x)[0])\n",
    "m2_T2_pow = (-1 * m2_GT) / m2_T2\n",
    "m2_T2_fidelity = float(solve(pow(e, m2_T2_pow * x) - 0.5, x)[0])\n",
    "m2_T2_fidelity\n",
    "\n",
    "print(f\"Machine 1:\\nT1: {m1_T1_fidelity}\\tT2: {m1_T2_fidelity}\")\n",
    "print(f\"Machine 2:\\nT1: {m2_T1_fidelity}\\tT2: {m2_T2_fidelity}\")"
   ]
  },
  {
   "cell_type": "markdown",
   "id": "aeadfb83",
   "metadata": {},
   "source": [
    "#### Question 2"
   ]
  },
  {
   "cell_type": "code",
   "execution_count": null,
   "id": "78ea6a5e",
   "metadata": {},
   "outputs": [],
   "source": [
    "m1_2Q_fidelity = float(solve(m1_EPLG * x - 0.5, x)[0])\n",
    "m2_2Q_fidelity = float(solve(m2_EPLG * x - 0.5, x)[0])\n",
    "print(f\"Machine 1: {m1_2Q_fidelity}\")\n",
    "print(f\"Machine 2: {m2_2Q_fidelity}\")"
   ]
  },
  {
   "cell_type": "markdown",
   "id": "9a5eb89b",
   "metadata": {},
   "source": [
    "#### Question 3"
   ]
  },
  {
   "cell_type": "markdown",
   "id": "17e8fea0",
   "metadata": {},
   "source": [
    "Supposing that cost is no problem, machine 1 should be the obvious choice, since machine 1 has a higher amount of gate fidelity in both single qubit and 2 qubit gates. "
   ]
  },
  {
   "cell_type": "markdown",
   "id": "0a4c208d",
   "metadata": {},
   "source": [
    "#### Question 4"
   ]
  },
  {
   "cell_type": "markdown",
   "id": "ef7eecc1",
   "metadata": {},
   "source": [
    "Even if $T_{1}$ and $T_{2}$ are infinite, those are just coherence times, it doesn't mean the system is error free, since applying gates and measurements would still introduce noise to the system eventually. "
   ]
  },
  {
   "cell_type": "markdown",
   "id": "035bc3f4",
   "metadata": {},
   "source": [
    "## Part 2 - Programming Exercise"
   ]
  },
  {
   "cell_type": "code",
   "execution_count": null,
   "id": "906458cd-de8b-40c1-ba22-8569cd1f5126",
   "metadata": {},
   "outputs": [],
   "source": [
    "# Run this cell to install Qiskit Nature, which is needed for the hydrogen VQE simulation.\n",
    "!pip install qiskit_nature"
   ]
  },
  {
   "cell_type": "code",
   "execution_count": null,
   "id": "5380f556-7311-47da-a59c-43a6ea115830",
   "metadata": {},
   "outputs": [],
   "source": [
    "# OPTIONAL - If you are on Mac or Linux, you can install PySCF to generate the molecular Hamiltonians\n",
    "!pip install pyscf"
   ]
  },
  {
   "cell_type": "code",
   "execution_count": 1,
   "id": "f306c7f6-5355-4a97-a188-abf513e1c020",
   "metadata": {},
   "outputs": [],
   "source": [
    "import datetime as dt\n",
    "import qiskit as qs\n",
    "import qiskit_aer as aer\n",
    "from  qiskit_ibm_runtime import QiskitRuntimeService, EstimatorV2 as Estimator, Session, IBMRuntimeError\n",
    "import matplotlib.pyplot as plt\n",
    "\n",
    "from scipy.optimize import minimize\n",
    "from qiskit.circuit.library import TwoLocal, EfficientSU2\n",
    "from qiskit.transpiler import generate_preset_pass_manager\n",
    "from qiskit_nature.second_q.mappers import JordanWignerMapper\n",
    "from qiskit_nature.second_q.circuit.library import UCCSD, HartreeFock\n",
    "from qiskit_nature.second_q.operators import FermionicOp\n",
    "from qiskit_nature.units import DistanceUnit\n",
    "from qiskit_nature.second_q.drivers import PySCFDriver, ElectronicStructureDriver"
   ]
  },
  {
   "cell_type": "markdown",
   "id": "4ea37026-9879-4afa-a301-ee756e87a9d9",
   "metadata": {},
   "source": [
    "### Create a hardware backend and a noise model simulator\n",
    "The VQE algorithm can take up to a hour to run on the actual quantum machine. If you're having trouble getting through the algorithm, or if the machine has a long waiting time, you may use the noise model simulator by modifying the cell below.\n",
    "\n",
    "Set `use_simulator` to `True` or `False` depending on which backend you want to use, then run the next 3 cells."
   ]
  },
  {
   "cell_type": "code",
   "execution_count": 17,
   "id": "98e39044-5f6a-40e8-a97d-26a3164ffeed",
   "metadata": {},
   "outputs": [],
   "source": [
    "use_simulator = False"
   ]
  },
  {
   "cell_type": "code",
   "execution_count": 18,
   "id": "2926a974-bae2-412d-ab76-58a51e368f94",
   "metadata": {},
   "outputs": [],
   "source": [
    "# DO NOT MODIFY - Set up the hardware backend\n",
    "\n",
    "service = QiskitRuntimeService()\n",
    "hardware = service.backend('ibm_rensselaer')\n",
    "\n",
    "pm = generate_preset_pass_manager(backend=hardware, optimization_level=3)\n",
    "\n",
    "simulator = aer.AerSimulator.from_backend(hardware)\n",
    "\n",
    "if use_simulator:\n",
    "    backend = simulator\n",
    "\n",
    "else:\n",
    "    backend = hardware"
   ]
  },
  {
   "cell_type": "code",
   "execution_count": 19,
   "id": "013c1256-1d2f-4031-b5cd-a16943d68858",
   "metadata": {},
   "outputs": [],
   "source": [
    "# DO NOT MODIFY - This cell defines utility functions for timing and transpilation\n",
    "def get_timestamp():\n",
    "    \"\"\"\n",
    "    Returns the current UTC timestamp in ISO-8601 format.\n",
    "\n",
    "    Returns\n",
    "    -------\n",
    "    str\n",
    "    \"\"\"\n",
    "    return dt.datetime.now(dt.UTC).isoformat()\n",
    "\n",
    "\n",
    "def transpile_and_apply(ansatz, hamiltonian, backend, optimization_level=3, passmanager=None):\n",
    "    \"\"\"\n",
    "    Transpile the ansatz circuit and apply the Hamiltonian observable to the backend layout.\n",
    "    \"\"\"\n",
    "\n",
    "    if not passmanager:\n",
    "        passmanager = generate_preset_pass_manager(target=backend.target,\n",
    "                                                   optimization_level=optimization_level)\n",
    "    \n",
    "    isa_ansatz = passmanager.run(ansatz)\n",
    "    isa_hamiltonian = hamiltonian.apply_layout(isa_ansatz.layout)\n",
    "\n",
    "    return isa_ansatz, isa_hamiltonian"
   ]
  },
  {
   "cell_type": "markdown",
   "id": "c27bd415-6a62-4b90-ac45-7853abdb1374",
   "metadata": {},
   "source": [
    "## Simulation Setup\n",
    "We start by defining the hydrogen molecule system according to a particular physics model defined by `PySCF`. The function defined in the next cell creates a hydrogen molecule with a bond length between the atoms, which is defined as an optional default parameter.\n",
    "\n",
    "Once the atoms are defined, `PySCF` creates a `problem` instance from which we can extract the system Hamiltonian, which is the matrix operator that describes the physics of the molecule. This is what we will use to define the quantum measurement operator in a later step.\n",
    "\n",
    "**Important!** If you are on Windows, PySCF is not supported outside of Windows Subsystem for Linux. If you cannot run the next cell, run the one immediately after, which has the Hamiltonian hard-coded."
   ]
  },
  {
   "cell_type": "code",
   "execution_count": 20,
   "id": "139da6e4-dfc8-4e13-8658-a1ebce65e088",
   "metadata": {},
   "outputs": [],
   "source": [
    "def create_h2_molecule(bond_length=0.735):\n",
    "    \"\"\"\n",
    "    Creates a representation of the Hamiltonian representing the physics of the\n",
    "    hydrogen molecule. The bond length (in Angstroms) is provided as a\n",
    "    parameter.\n",
    "    \"\"\"\n",
    "\n",
    "    # Fix the first hydrogen atom at the origin.\n",
    "    atom1 = f\"H 0 0 {-bond_length/2}\"\n",
    "\n",
    "    # Set the Z-coordinate of the second atom using the bond length we provide\n",
    "    atom2 = f\"H 0 0 {bond_length/2}\"\n",
    "\n",
    "    # Join the strings in the right format to pass to the driver.\n",
    "    atom = \"; \".join([atom1, atom2])\n",
    "    \n",
    "    # Using the PySCF driver, we build the Hamiltonian that describes the\n",
    "    # physics of the hydrogen molecule.\n",
    "    driver = PySCFDriver(\n",
    "        atom=atom,\n",
    "        basis=\"sto3g\",\n",
    "        charge=0,\n",
    "        spin=0,\n",
    "        unit=DistanceUnit.ANGSTROM,\n",
    "    )\n",
    "\n",
    "    # After the Hamiltonian is constructed, we extract the Hamiltonian as a\n",
    "    # FermionicOp\n",
    "    problem = driver.run()\n",
    "    hamiltonian = problem.hamiltonian.second_q_op()\n",
    "\n",
    "    return problem, hamiltonian"
   ]
  },
  {
   "cell_type": "code",
   "execution_count": 21,
   "id": "3a289354-7a73-46fb-a4f9-8e91bdbab6df",
   "metadata": {},
   "outputs": [],
   "source": [
    "hamiltonian = FermionicOp({'+_0 -_0': -1.25633907300325,\n",
    "                           '+_1 -_1': -0.47189600728114184,\n",
    "                           '+_2 -_2': -1.25633907300325,\n",
    "                           '+_3 -_3': -0.47189600728114184,\n",
    "                           '+_0 +_0 -_0 -_0': 0.33785507740175813,\n",
    "                           '+_0 +_1 -_1 -_0': 0.3322908651276482,\n",
    "                           '+_0 +_2 -_2 -_0': 0.33785507740175813,\n",
    "                           '+_0 +_3 -_3 -_0': 0.3322908651276482,\n",
    "                           '+_0 +_0 -_1 -_1': 0.09046559989211572,\n",
    "                           '+_0 +_1 -_0 -_1': 0.09046559989211572,\n",
    "                           '+_0 +_2 -_3 -_1': 0.09046559989211572,\n",
    "                           '+_0 +_3 -_2 -_1': 0.09046559989211572,\n",
    "                           '+_1 +_0 -_1 -_0': 0.09046559989211572,\n",
    "                           '+_1 +_1 -_0 -_0': 0.09046559989211572,\n",
    "                           '+_1 +_2 -_3 -_0': 0.09046559989211572,\n",
    "                           '+_1 +_3 -_2 -_0': 0.09046559989211572,\n",
    "                           '+_1 +_0 -_0 -_1': 0.3322908651276482,\n",
    "                           '+_1 +_1 -_1 -_1': 0.34928686136600884, \n",
    "                           '+_1 +_2 -_2 -_1': 0.3322908651276482, \n",
    "                           '+_1 +_3 -_3 -_1': 0.34928686136600884, \n",
    "                           '+_2 +_0 -_0 -_2': 0.33785507740175813, \n",
    "                           '+_2 +_1 -_1 -_2': 0.3322908651276482, \n",
    "                           '+_2 +_2 -_2 -_2': 0.33785507740175813, \n",
    "                           '+_2 +_3 -_3 -_2': 0.3322908651276482, \n",
    "                           '+_2 +_0 -_1 -_3': 0.09046559989211572, \n",
    "                           '+_2 +_1 -_0 -_3': 0.09046559989211572, \n",
    "                           '+_2 +_2 -_3 -_3': 0.09046559989211572, \n",
    "                           '+_2 +_3 -_2 -_3': 0.09046559989211572, \n",
    "                           '+_3 +_0 -_1 -_2': 0.09046559989211572, \n",
    "                           '+_3 +_1 -_0 -_2': 0.09046559989211572, \n",
    "                           '+_3 +_2 -_3 -_2': 0.09046559989211572, \n",
    "                           '+_3 +_3 -_2 -_2': 0.09046559989211572, \n",
    "                           '+_3 +_0 -_0 -_3': 0.3322908651276482, \n",
    "                           '+_3 +_1 -_1 -_3': 0.34928686136600884, \n",
    "                           '+_3 +_2 -_2 -_3': 0.3322908651276482, \n",
    "                           '+_3 +_3 -_3 -_3': 0.34928686136600884}, \n",
    "                          num_spin_orbitals=4, )"
   ]
  },
  {
   "cell_type": "markdown",
   "id": "5514ae7e-2f57-4013-9b27-86042dbb1c5e",
   "metadata": {},
   "source": [
    "### Mapping the problem to qubits\n",
    "The function defined in the next cell takes the Hamiltonian model from the `PySCF` physics driver and maps it to a Pauli gate representation using the *Jordan-Wigner Transform*. This method converts any arbitrary Hamiltonian matrix into a combination of **X**, **Y**, and **Z** operations with scalar coefficients. This is what lets us run the problem on a quantum computer."
   ]
  },
  {
   "cell_type": "code",
   "execution_count": 22,
   "id": "d8ebd9ce-e584-434d-b28d-c6902bbc2565",
   "metadata": {},
   "outputs": [],
   "source": [
    "def map_to_qubits(hamiltonian):\n",
    "    # Create a SparsePauliOp using the Jordan-Wigner transform \n",
    "    mapper = JordanWignerMapper()\n",
    "    mapped_hamiltonian = mapper.map(hamiltonian)\n",
    "\n",
    "    return mapped_hamiltonian, mapper"
   ]
  },
  {
   "cell_type": "markdown",
   "id": "0290581a-ef3b-409a-8894-1c5de31f4eab",
   "metadata": {},
   "source": [
    "### Defining an Ansatz\n",
    "The ansatz of a problem is the assumed form of the quantum state that the Hamiltonian is operating on. It isn't necessarily a physical wave function, just an assumed one with parameters that we can vary.\n",
    "\n",
    "In the next cell, we define two ansätze. The first, Unitary Coupled Cluster Singles and Doubles (UCCSD), represents a parameterized wavefunction as a unitary transformation of a reference state using an expansion of single and double excitation operators. Intuitively, this ansatz captures electron correlations by allowing electrons to be promoted from occupied to unoccupied orbitals, and in the quantum simulation, each qubit represents an orbital rather than a particle.\n",
    "\n",
    "The second ansatz, TwoLocal, represents the wavefunction as a parameterized quantum circuit composed of alternating layers of single-qubit rotations and entangling two-qubit gates. Ths is meant to be more optimal for hardware efficiency, allowing customization of gate types and connectivity to match the capabilities of the quantum device while optimizing over adjustable parameters. In contract to UCCSD, it makes no assumptions of the underlying physics, and is entirely based on the layout of the hardware."
   ]
  },
  {
   "cell_type": "code",
   "execution_count": 23,
   "id": "70a6b993-8da9-4f31-bc0d-a4c10798195f",
   "metadata": {},
   "outputs": [],
   "source": [
    "def create_ansatze(mapped_hamiltonian, mapper):\n",
    "\n",
    "    num_spatial_orbitals = 2\n",
    "    num_particles = (1, 1)\n",
    "    \n",
    "    uccsd_ansatz = UCCSD(num_spatial_orbitals,\n",
    "                         num_particles,\n",
    "                         mapper,\n",
    "                         initial_state=HartreeFock(\n",
    "                             num_spatial_orbitals,\n",
    "                             num_particles,\n",
    "                             mapper,),)\n",
    "\n",
    "    twolocal_ansatz = TwoLocal(mapped_hamiltonian.num_qubits,        \n",
    "                           rotation_blocks=[\"rx\", \"ry\"],\n",
    "                           entanglement_blocks=[\"cz\"],\n",
    "                           entanglement=\"linear\",\n",
    "                           reps=2,\n",
    "                           initial_state=None,)\n",
    "\n",
    "    return uccsd_ansatz, twolocal_ansatz"
   ]
  },
  {
   "cell_type": "markdown",
   "id": "4dec0651-3930-4226-9853-83c98eb99db9",
   "metadata": {},
   "source": [
    "### Energy Function\n",
    "This is the core module that constructs and executes the quantum circuit, which evaluates Schrodinger's equation, $E\\psi = \\textbf{H}\\psi$ for the given set of parameters (in $\\psi$) and fixed Hamiltonian. The end result is an expectation value that represents the ground state energy of the Hamiltonian, which in this exercise, represents the ground state energy of the Hydrogen atom."
   ]
  },
  {
   "cell_type": "code",
   "execution_count": 24,
   "id": "37612691-2189-4c5f-9ccb-42e920e2883f",
   "metadata": {},
   "outputs": [],
   "source": [
    "def energy_function(params, ansatz, hamiltonian, estimator, session, metadata_dict):\n",
    "    \"\"\"\n",
    "    This cost function returns the potential energy of the bond between two\n",
    "    Hydrogen atoms using a qiskit estimator.\n",
    "\n",
    "    Parameters:\n",
    "        params (ndarray): Array of ansatz parameters\n",
    "        ansatz (QuantumCircuit): Parameterized ansatz circuit\n",
    "        hamiltonian (SparsePauliOp): Operator representation of Hamiltonian\n",
    "        estimator (EstimatorV2): Estimator primitive instance\n",
    "        cost_history_dict: Dictionary for storing intermediate results\n",
    "\n",
    "    Returns:\n",
    "        float: Energy estimate\n",
    "    \"\"\"\n",
    "    # Create the PUB for this parameter set\n",
    "    pub = (ansatz, [hamiltonian], [params])\n",
    "\n",
    "    # Submit the job to the session    \n",
    "    job = estimator.run(pubs=[pub])\n",
    "\n",
    "    # Grab the job ID so we can retrieve it later\n",
    "    job_id = job.job_id()\n",
    "    metadata_dict['job_ids'].append(job_id)\n",
    "\n",
    "    # Wait on the result\n",
    "    result = job.result()\n",
    "\n",
    "    # Get the expectation value and std. deviation\n",
    "    energy = result[0].data.evs[0]\n",
    "    err = result[0].data.stds[0]\n",
    "\n",
    "\n",
    "    # Keep track of the answers and statistics in the run\n",
    "    metadata_dict[\"iters\"] += 1\n",
    "    metadata_dict[\"params\"].append(params)\n",
    "    metadata_dict[\"energy\"].append((energy, err))\n",
    "\n",
    "    if metadata_dict[\"iters\"] >= metadata_dict[\"maxiter\"]:\n",
    "        session.close()\n",
    "    \n",
    "    print(f\"Iters. done: {metadata_dict['iters']} [Energy: {energy} +/- {err}]\")\n",
    "\n",
    "    return energy"
   ]
  },
  {
   "cell_type": "markdown",
   "id": "032a0494-0e0a-4c19-b843-5a3fb5d07a90",
   "metadata": {},
   "source": [
    "### VQE Algorithm\n",
    "The cells below define the full VQE algorithm for both ansatze, which use the Scipy `minimize` function to run the energy function in a loop until it converges to a minimum value. The minimum value corresponds to the algorithm's estimate of the ground state energy."
   ]
  },
  {
   "cell_type": "code",
   "execution_count": 25,
   "id": "ea811be4-ce5b-441e-b1d2-f92a5f7784f5",
   "metadata": {},
   "outputs": [],
   "source": [
    "def run_vqe_twolocal(backend, isa_twolocal, isa_hamiltonian_twolocal):\n",
    "\n",
    "    num_params_twolocal = isa_twolocal.num_parameters\n",
    "    x0_twolocal = np.zeros(num_params_twolocal)\n",
    "    \n",
    "    twolocal_dict = {\n",
    "        'session_id': None,\n",
    "        'iters': 0,\n",
    "        'backend': backend.name,\n",
    "        'maxiter': 200,\n",
    "        'params': [],\n",
    "        'energy': [],\n",
    "        'job_ids': [],\n",
    "        'job_info':[],\n",
    "        'start_time': None,\n",
    "        'end_time': None,\n",
    "        'completed': False\n",
    "    }\n",
    "    \n",
    "    with Session(backend=backend, max_time=3600) as session:\n",
    "    \n",
    "        # Create the estimator and assign the shot value\n",
    "        estimator = Estimator(mode=session)\n",
    "        estimator.options.default_precision = 1e-1\n",
    "        estimator.options.resilience_level = 1\n",
    "        estimator.options.default_shots = 8192\n",
    "    \n",
    "        try:\n",
    "            # Execute the minimization\n",
    "            res = minimize(\n",
    "                energy_function,\n",
    "                x0_twolocal,\n",
    "                args=(isa_twolocal, \n",
    "                      isa_hamiltonian_twolocal, \n",
    "                      estimator, \n",
    "                      session, \n",
    "                      twolocal_dict),\n",
    "                method='COBYLA',\n",
    "                tol=1e-1,\n",
    "            )\n",
    "    \n",
    "        except IBMRuntimeError:\n",
    "            print(\"Session closed after exceeding time limit. Stopping iteration.\")\n",
    "    \n",
    "    return twolocal_dict\n"
   ]
  },
  {
   "cell_type": "code",
   "execution_count": 26,
   "id": "5824b17b-a805-4299-9190-4ce869d398f4",
   "metadata": {},
   "outputs": [],
   "source": [
    "def run_vqe_uccsd(backend, isa_uccsd, isa_hamiltonian_uccsd):\n",
    "\n",
    "    num_params_uccsd = isa_uccsd.num_parameters\n",
    "    x0_uccsd = np.zeros(num_params_uccsd)\n",
    "    \n",
    "    uccsd_dict = {\n",
    "        'session_id': None,\n",
    "        'iters': 0,\n",
    "        'backend': backend.name,\n",
    "        'maxiter': 200,\n",
    "        'params': [],\n",
    "        'energy': [],\n",
    "        'job_ids': [],\n",
    "        'job_info':[],\n",
    "        'start_time': None,\n",
    "        'end_time': None,\n",
    "        'completed': False\n",
    "    }\n",
    "    \n",
    "    with Session(backend=backend, max_time=3600) as session:\n",
    "    \n",
    "        # Create the estimator and assign the shot value\n",
    "        estimator = Estimator(mode=session)\n",
    "        estimator.options.default_precision = 1e-1\n",
    "        estimator.options.resilience_level = 1\n",
    "        estimator.options.default_shots = 8192\n",
    "    \n",
    "        try:\n",
    "            # Execute the minimization\n",
    "            res = minimize(\n",
    "                energy_function,\n",
    "                x0_uccsd,\n",
    "                args=(isa_uccsd, \n",
    "                      isa_hamiltonian_uccsd, \n",
    "                      estimator, \n",
    "                      session, \n",
    "                      uccsd_dict),\n",
    "                method='COBYLA',\n",
    "                tol=1e-1,\n",
    "            )\n",
    "    \n",
    "        except IBMRuntimeError:\n",
    "            print(\"Session closed after exceeding time limit. Stopping iteration.\")\n",
    "    \n",
    "    return uccsd_dict"
   ]
  },
  {
   "cell_type": "markdown",
   "id": "68819c2b-a30c-4dcd-93ce-9bc1528d4cce",
   "metadata": {},
   "source": [
    "## Setup the Problem\n",
    "Now that we've defined all the functions, the next cell combines all of that into a problem we can run."
   ]
  },
  {
   "cell_type": "code",
   "execution_count": 27,
   "id": "aa043a09-361f-4aa7-b0d0-4a3339eee58c",
   "metadata": {},
   "outputs": [],
   "source": [
    "# Create the molecular model and Hamiltonian\n",
    "mapped_hamiltonian, mapper = map_to_qubits(hamiltonian)\n",
    "\n",
    "# Create the ansatze\n",
    "uccsd_ansatz, twolocal_ansatz = create_ansatze(mapped_hamiltonian, mapper)\n",
    "\n",
    "# Create the quantum circuits for each ansatz combination\n",
    "isa_uccsd, isa_hamiltonian_uccsd = transpile_and_apply(uccsd_ansatz,\n",
    "                                                       mapped_hamiltonian,\n",
    "                                                       backend=backend,\n",
    "                                                       optimization_level=3,\n",
    "                                                       passmanager=pm)\n",
    "\n",
    "isa_twolocal, isa_hamiltonian_twolocal = transpile_and_apply(twolocal_ansatz,\n",
    "                                                             mapped_hamiltonian,\n",
    "                                                             backend=backend,\n",
    "                                                             optimization_level=3,\n",
    "                                                             passmanager=pm)"
   ]
  },
  {
   "cell_type": "markdown",
   "id": "7fead62f-9459-4589-91f5-708cf3702af5",
   "metadata": {},
   "source": [
    "## Run the TwoLocal solution\n",
    "The next cell will execute the VQE algorithm using the TwoLocal ansatz. On quantum hardware, **this may take up to an hour to run**. On a simulator, it will take 5-10 minutes."
   ]
  },
  {
   "cell_type": "code",
   "execution_count": null,
   "id": "31b7bee7-63b0-4f8e-a7b1-dacf5a92ee49",
   "metadata": {},
   "outputs": [],
   "source": [
    "twolocal_results = run_vqe_twolocal(simulator, isa_twolocal, isa_hamiltonian_twolocal)"
   ]
  },
  {
   "cell_type": "markdown",
   "id": "bcfb7f97-0f18-4c4f-abef-91777eff4a33",
   "metadata": {},
   "source": [
    "## Run the UCCSD Solution\n",
    "The next cell will solve the VQE problem for the UCCSD ansatz. On quantum hardware, **this may take up to an hour to run**. On a simulator, it will take 5-10 minutes."
   ]
  },
  {
   "cell_type": "code",
   "execution_count": 28,
   "id": "de76d134-08f9-4c2f-afaf-4fe4b99e54bd",
   "metadata": {},
   "outputs": [
    {
     "name": "stdout",
     "output_type": "stream",
     "text": [
      "Iters. done: 1 [Energy: -1.0048572789374273 +/- 0.005940575880150195]\n",
      "Iters. done: 2 [Energy: -0.8393681018814573 +/- 0.006562722860334721]\n",
      "Iters. done: 3 [Energy: -0.9739765815729073 +/- 0.006155396209919594]\n",
      "Iters. done: 4 [Energy: -0.912902829218902 +/- 0.006738050372986608]\n",
      "Iters. done: 5 [Energy: -0.7687937133691711 +/- 0.006468528260922361]\n",
      "Iters. done: 6 [Energy: -0.892347467231694 +/- 0.006020461586515172]\n",
      "Iters. done: 7 [Energy: -1.006604681513333 +/- 0.006598543533941115]\n",
      "Iters. done: 8 [Energy: -1.0098530438345201 +/- 0.006371953936526306]\n",
      "Iters. done: 9 [Energy: -1.0156951080275032 +/- 0.006223687900090464]\n",
      "Iters. done: 10 [Energy: -0.9957923166075975 +/- 0.0064636562906733985]\n",
      "Iters. done: 11 [Energy: -1.0031756744657694 +/- 0.006165519864689069]\n",
      "Iters. done: 12 [Energy: -1.0066626596254662 +/- 0.006878544245920304]\n",
      "Iters. done: 13 [Energy: -1.0115459178406712 +/- 0.00633236674654296]\n",
      "Iters. done: 14 [Energy: -0.9999062306828669 +/- 0.006334282323083411]\n"
     ]
    }
   ],
   "source": [
    "uccsd_results = run_vqe_uccsd(backend, isa_uccsd, isa_hamiltonian_uccsd)"
   ]
  },
  {
   "cell_type": "code",
   "execution_count": null,
   "id": "383df09c",
   "metadata": {},
   "outputs": [],
   "source": [
    "uccsd_jobs = ['cwkybn6543p00086sw70',\n",
    "              'cwkyc4r40e0000899p90',\n",
    "              'cwkyces0r6b0008q2qvg',\n",
    "              'cwkyctb31we00088cz90',\n",
    "              'cwkyd4w543p00086swbg',\n",
    "              'cwkydfn543p00086swcg',\n",
    "              'cwkydx731we00088czc0',\n",
    "              'cwkye6840e0000899peg',\n",
    "              'cwkyegj0r6b0008q2r20',\n",
    "              'cwkyev331we00088czfg',\n",
    "              'cwkyf540r6b0008q2r3g',\n",
    "              'cwkyfex0r6b0008q2r4g',\n",
    "              'cwkyfsqmptp000861sh0',\n",
    "              'cwkyg3g9r49g0089cesg']"
   ]
  },
  {
   "cell_type": "markdown",
   "id": "e79f1225-9d11-40b5-ae5c-3b7a3f7aec3b",
   "metadata": {},
   "source": [
    "### Compare to the Reference Value\n",
    "We can use `numpy.linalg.eigh` to find the ground state of the Hamiltonian directly, since hydrogen is small enough to be solved classically. We use this as the reference value to compare our quantum results to."
   ]
  },
  {
   "cell_type": "code",
   "execution_count": null,
   "id": "36482122-d0d2-4833-8761-34715ac0e383",
   "metadata": {},
   "outputs": [],
   "source": [
    "ham = mapped_hamiltonian.to_matrix()\n",
    "reference_energy = np.linalg.eigh(ham)[0][0]\n",
    "\n",
    "uccsd_energy, uccsd_err = uccsd_results['energy'][-1]\n",
    "twolocal_energy, twolocal_err = twolocal_results['energy'][-1]\n",
    "\n",
    "print(f'Reference Energy: {reference_energy} eV')\n",
    "print(f'UCCSD Energy: {uccsd_energy} eV')\n",
    "print(f'TwoLocal Energy: {twolocal_energy} eV')"
   ]
  },
  {
   "cell_type": "markdown",
   "id": "dcbeb7b6-177f-4f35-98f7-7d0d997466c3",
   "metadata": {},
   "source": [
    "### Plot the Result\n",
    "The cell below plots the results of the two quantum calculations alongside the reference energy for comparison."
   ]
  },
  {
   "cell_type": "code",
   "execution_count": null,
   "id": "184c8f44-d9a8-43b0-8c19-4244592bfba2",
   "metadata": {},
   "outputs": [],
   "source": [
    "xvals = [\"Reference\", \"TwoLocal\", \"UCCSD\"]\n",
    "yvals = [reference_energy, twolocal_energy, uccsd_energy]\n",
    "yerr = [0, twolocal_err, uccsd_err]\n",
    "\n",
    "plt.bar(xvals, yvals)\n",
    "plt.errorbar(xvals, yvals, yerr, fmt=\"o\", color=\"r\")"
   ]
  },
  {
   "cell_type": "markdown",
   "id": "a090b7b9",
   "metadata": {},
   "source": [
    "#### Question 1\n",
    "Run the cells in the Jupyter notebook to get the estimated ground state energy for H2 using\n",
    "the UCCSD and TwoLocal ansatze. Report your answers along with the reference answer."
   ]
  },
  {
   "cell_type": "markdown",
   "id": "095fd41e",
   "metadata": {},
   "source": [
    "Reference Energy: -1.8572750302023795 eV\n",
    "\n",
    "UCCSD Energy: -1.6619710008160649 eV\n",
    "\n",
    "TwoLocal Energy: -1.781458967248546 eV"
   ]
  },
  {
   "cell_type": "markdown",
   "id": "1df04c4f",
   "metadata": {},
   "source": [
    "#### Question 2\n",
    "How do your answers for the two quantum calculations compare to the reference answer?"
   ]
  },
  {
   "cell_type": "markdown",
   "id": "18a5201e",
   "metadata": {},
   "source": [
    "They are both less than the reference value."
   ]
  },
  {
   "cell_type": "markdown",
   "id": "fb65d836",
   "metadata": {},
   "source": [
    "#### Question 3\n",
    "Does one ansatz give an answer closer to the reference value over the other? Which one? Why\n",
    "might this be?"
   ]
  },
  {
   "cell_type": "markdown",
   "id": "048ac401",
   "metadata": {},
   "source": [
    "The twolocal answer gives a closer value to the reference, and the reason for that might be due to the greater number of iterations done. That would result in a closer answer given that any Monte Carlo simulation would get closer to the true answer the more iterations it has."
   ]
  },
  {
   "cell_type": "markdown",
   "id": "3717527f",
   "metadata": {},
   "source": [
    "#### Question 4\n",
    "Define the terms ansatz and Hamiltonian. What does each one represent in the simulation?"
   ]
  },
  {
   "cell_type": "markdown",
   "id": "2bf1e26f",
   "metadata": {},
   "source": [
    "Ansatz is German for \"an educated guess\". In science, it is an initial assumption that's used to solve a problem. A Hamiltonian represents the total energy of a system. In the simulation, the ansatz represents the initial guess of what the energy is would end up looking like, and the Hamiltonian is the total energy state of the hydrogen atom. "
   ]
  },
  {
   "cell_type": "markdown",
   "id": "b52cf414",
   "metadata": {},
   "source": [
    "#### Question 5\n",
    "You are leading a quantum research team performing ground state calculations of a complex molecule. You just ran this $H_{2}$ simulation as a benchmark to inform what ansatz you should pick for the bigger calculation. What ansatz would you choose if your team is prioritizing\n",
    "cost-effectiveness? Why?"
   ]
  },
  {
   "cell_type": "markdown",
   "id": "7f0b26d5",
   "metadata": {},
   "source": [
    "The UCCSD ansatz would be used for cost-effectivness, since it managed to roughly approximate the energy levels of $H_{2}$ with only 12 iterations, as opposed to twolocal's 143 iterations. "
   ]
  },
  {
   "cell_type": "markdown",
   "id": "15fefee5",
   "metadata": {},
   "source": [
    "## Part 3 - Free Response: Project Proposal"
   ]
  },
  {
   "cell_type": "markdown",
   "id": "1ade8652",
   "metadata": {},
   "source": [
    "Team members: Jeremy Chen, Nathaniel Depue, Nate Mirin, Sameer Premji"
   ]
  },
  {
   "cell_type": "markdown",
   "id": "521edcc1",
   "metadata": {},
   "source": [
    "Our group is planning on creating a grant proposal for making a quantum sensor. The plan is to, at the very least, by the time project 2 is due, to a have a fully outline proposal for a making a quantum sensor. We wish to approach professor Tom Haley for a grant, and moving forward from there.\n",
    "\n",
    "As for contribution, I will be handling the information analysis part of the quantum sensor. Since the information gathered from the sensor would be messy and needs to be parsed, an algorithm for processes like denoising and squeezing. Though I don't know how that will be accomplished right now, my idea is to have the input be a sequence of signal strengths to be plotted, and that data will be crunch and processed afterwards with some sort of Python library. "
   ]
  },
  {
   "cell_type": "markdown",
   "id": "b99a61f0",
   "metadata": {},
   "source": []
  }
 ],
 "metadata": {
  "kernelspec": {
   "display_name": "Python 3",
   "language": "python",
   "name": "python3"
  },
  "language_info": {
   "codemirror_mode": {
    "name": "ipython",
    "version": 3
   },
   "file_extension": ".py",
   "mimetype": "text/x-python",
   "name": "python",
   "nbconvert_exporter": "python",
   "pygments_lexer": "ipython3",
   "version": "3.12.7"
  }
 },
 "nbformat": 4,
 "nbformat_minor": 5
}
