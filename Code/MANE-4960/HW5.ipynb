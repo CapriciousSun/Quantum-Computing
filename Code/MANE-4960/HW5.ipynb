{
 "cells": [
  {
   "cell_type": "markdown",
   "metadata": {},
   "source": [
    "## 1- Quantum Sensing"
   ]
  },
  {
   "cell_type": "markdown",
   "metadata": {},
   "source": [
    "#### Question 1"
   ]
  },
  {
   "cell_type": "markdown",
   "metadata": {},
   "source": [
    "$$\\frac{2.93 + 2.81}{2} = 2.87$$\n",
    "$$D = D_{0}$$\n",
    "$$_{γ_{e}}B = 2.87 - 2.81 = 0.06$$\n",
    "$$B = \\frac{0.06}{28} = 0.00214T$$"
   ]
  },
  {
   "cell_type": "markdown",
   "metadata": {},
   "source": [
    "#### Question 2"
   ]
  },
  {
   "cell_type": "markdown",
   "metadata": {},
   "source": [
    "$$2.866 = 2.87 - 7.4 \\times 10^{-5}(T - 300)$$\n",
    "$$-0.004 = -7.4 \\times 10^{-5}(T - 300)$$\n",
    "$$54.0541 = T - 300$$\n",
    "$$T = 354.0541K$$"
   ]
  },
  {
   "cell_type": "markdown",
   "metadata": {},
   "source": [
    "#### Question 3"
   ]
  },
  {
   "cell_type": "markdown",
   "metadata": {},
   "source": [
    "$$\\frac{2.936 + 2.814}{2} = 2.875$$\n",
    "$$D ≠ D_{0}$$\n",
    "$$2.936 - 2.875 = 0.061$$\n",
    "$$\\frac{0.061}{28} = 0.00218T$$\n",
    "$$2.875 = 2.87 - 7.4 \\times 10^{-5}(T - 300)$$\n",
    "$$0.005 = -7.4 \\times 10^{-5}(T - 300)$$\n",
    "$$-67.568 = T - 300$$\n",
    "$$T = 232.432K$$"
   ]
  },
  {
   "cell_type": "markdown",
   "metadata": {},
   "source": [
    "#### Question 4"
   ]
  },
  {
   "cell_type": "markdown",
   "metadata": {},
   "source": [
    "If there are four sources of magnetic fields, then there should be 6 dips, since each field causes 2 dips."
   ]
  },
  {
   "cell_type": "markdown",
   "metadata": {},
   "source": [
    "## 2- Quantum Key Distribution"
   ]
  },
  {
   "cell_type": "markdown",
   "metadata": {},
   "source": [
    "#### Question 1"
   ]
  },
  {
   "cell_type": "markdown",
   "metadata": {},
   "source": [
    "#### List:\n",
    "\n",
    "Quantum-resistant algorithms\n",
    "\n",
    "Quantum repeaters: a device that allows entanglement to remain across long distances through a process known as entanglement swapping\n",
    "\n",
    "Information-theoretically secure: security that is immune to attacks based on computational power\n",
    "\n",
    "Side-channel attack"
   ]
  },
  {
   "cell_type": "markdown",
   "metadata": {},
   "source": [
    "#### Question 2"
   ]
  },
  {
   "cell_type": "markdown",
   "metadata": {},
   "source": [
    "I do not agree with the NSA's position, since many of the concerns raised by the NSA announcement expects quantum-resistant algorithms to solve problems that pertain not to quantum safe encryption, but rather in encryption in general. Not to mention, a lot of them focus on near term issues and do not take into account potential advancements in quantum computing over the next decade. Hence, the rebuttal is more convincing."
   ]
  },
  {
   "cell_type": "markdown",
   "metadata": {},
   "source": [
    "#### Question 3"
   ]
  },
  {
   "cell_type": "markdown",
   "metadata": {},
   "source": [
    "Those standards should be different from private industries. The military and government have way more stringent encryption regulations due to the exceptionally sensitive nature of their information. "
   ]
  },
  {
   "cell_type": "markdown",
   "metadata": {},
   "source": [
    "#### Question 4"
   ]
  },
  {
   "cell_type": "markdown",
   "metadata": {},
   "source": [
    "By showing that a QKD system is just as secure as a classical system in many regards, with additional benefits like being able to detect interlopers."
   ]
  },
  {
   "cell_type": "markdown",
   "metadata": {},
   "source": [
    "## 3- Quantum Materials"
   ]
  },
  {
   "cell_type": "markdown",
   "metadata": {},
   "source": [
    "Application: Maglevs"
   ]
  },
  {
   "cell_type": "markdown",
   "metadata": {},
   "source": [
    "#### Question 1"
   ]
  },
  {
   "cell_type": "markdown",
   "metadata": {},
   "source": [
    "The material used is an alloy of niobium and titanium. It is a conventional superconductor, since it's a type-2 superconductor."
   ]
  },
  {
   "cell_type": "markdown",
   "metadata": {},
   "source": [
    "#### Question 2"
   ]
  },
  {
   "cell_type": "markdown",
   "metadata": {},
   "source": [
    "The operational temperatures of niobium-titanium is 11K, and it's achieved by submersing the superconducting coils in liquid helium."
   ]
  },
  {
   "cell_type": "markdown",
   "metadata": {},
   "source": [
    "#### Question 3"
   ]
  },
  {
   "cell_type": "markdown",
   "metadata": {},
   "source": [
    "Superconductors offer several benefits over traditional wheels. Namely, wheels heat up too much when going too fast, leading to damage, and they also start slipping at higher speeds. Magnetically levitating the train allows it to reach speeds that wheels cannot feasibly. "
   ]
  },
  {
   "cell_type": "markdown",
   "metadata": {},
   "source": [
    "#### Question 4"
   ]
  },
  {
   "cell_type": "markdown",
   "metadata": {},
   "source": [
    "The challenges include cooling, designing rails to avoid crashing, and passenger safety."
   ]
  },
  {
   "cell_type": "markdown",
   "metadata": {},
   "source": [
    "#### Question 5"
   ]
  },
  {
   "cell_type": "markdown",
   "metadata": {},
   "source": [
    "It would significantly reduce the energy demands of maglev trains, and make them way easier to build and acessible to the general public."
   ]
  },
  {
   "cell_type": "markdown",
   "metadata": {},
   "source": [
    "## 4- Building the Quantum Valley"
   ]
  },
  {
   "cell_type": "markdown",
   "metadata": {},
   "source": [
    "#### Question 1"
   ]
  },
  {
   "cell_type": "markdown",
   "metadata": {},
   "source": [
    "There are several advantages the capital region has above others. While it is true that other locations already have well established quantum infrastructure, none are quite like the capital region. IBM's main data center is in Poughkeepsie and their main research laboratory is in Yorktown Heights, which are both incredibly close to the capital region. There's also a source of fresh talent, especially those that go to RPI. There are also nearby industries that could potentially benefit/benefit from develop in quantum computing, like semiconductor manufacturing."
   ]
  },
  {
   "cell_type": "markdown",
   "metadata": {},
   "source": [
    "#### Question 2"
   ]
  },
  {
   "cell_type": "markdown",
   "metadata": {},
   "source": [
    "Students need a thorough understanding of how the mechanics in how quantum mechanics work, as well as the ability to be literate in resources about quantum mechanics, such as research papers and forms of documentations."
   ]
  },
  {
   "cell_type": "markdown",
   "metadata": {},
   "source": [
    "#### Questions 3"
   ]
  },
  {
   "cell_type": "markdown",
   "metadata": {},
   "source": [
    "For a course focused on applications of quantum computing what was given is adequate. However, personally, I would have preferred a deeper dive into the mathematics and fundamental operating principles of quantum computing. This can be remedied with an extra class block focused on such topics."
   ]
  },
  {
   "cell_type": "markdown",
   "metadata": {},
   "source": [
    "#### Question 4"
   ]
  },
  {
   "cell_type": "markdown",
   "metadata": {},
   "source": [
    "Yes I do. I would be interested in pursuing topics like quantum networks, simulation, as well as error correction. "
   ]
  }
 ],
 "metadata": {
  "kernelspec": {
   "display_name": "Python 3",
   "language": "python",
   "name": "python3"
  },
  "language_info": {
   "name": "python",
   "version": "3.12.7"
  }
 },
 "nbformat": 4,
 "nbformat_minor": 2
}
