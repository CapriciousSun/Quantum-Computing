{
 "cells": [
  {
   "cell_type": "markdown",
   "id": "f17d1b5b-cbb5-4ca6-a93d-699dca0dc170",
   "metadata": {},
   "source": [
    "# Project 1\n",
    "\n",
    "This notebook shows a reference implementation of Project 1. For your group's submission, create your own implementation of the experiments below."
   ]
  },
  {
   "cell_type": "code",
   "execution_count": null,
   "id": "88d8e489-7fa0-4bbc-bd24-767d03479c0e",
   "metadata": {},
   "outputs": [],
   "source": [
    "# Run this cell to install the latest version of Qiskit Experiments\n",
    "!pip install git+https://github.com/qiskit-community/qiskit-experiments.git"
   ]
  },
  {
   "cell_type": "code",
   "execution_count": null,
   "id": "94683ef8-c665-4df1-a9b3-74156aa2946c",
   "metadata": {},
   "outputs": [],
   "source": [
    "import numpy as np\n",
    "import qiskit as qs\n",
    "import qiskit_ibm_runtime as ibm\n",
    "\n",
    "import rustworkx as rx\n",
    "import matplotlib.pyplot as plt\n",
    "\n",
    "from qiskit_experiments.framework import ParallelExperiment\n",
    "\n",
    "# Modules Needed for experiments\n",
    "from qiskit_experiments.library import T1, T2Ramsey, T2Hahn, Tphi, StandardRB\n",
    "from qiskit_experiments.library.randomized_benchmarking import LayerFidelity\n",
    "\n"
   ]
  },
  {
   "cell_type": "code",
   "execution_count": null,
   "id": "12750b88-885b-4ce1-b382-54adda8e518a",
   "metadata": {},
   "outputs": [],
   "source": [
    "service = ibm.QiskitRuntimeService(name='rpi-quantum')\n",
    "backend = service.backend('ibm_rensselaer')\n",
    "\n",
    "twoq_gate = \"ecr\"\n",
    "print(f\"Device {backend.name} Loaded with {backend.num_qubits} qubits\")\n",
    "print(f\"Two Qubit Gate: {twoq_gate}\")"
   ]
  },
  {
   "cell_type": "markdown",
   "id": "2b384449-69f5-467c-86c5-521f9e1d9262",
   "metadata": {},
   "source": [
    "## $T_1$ Characterization"
   ]
  },
  {
   "cell_type": "code",
   "execution_count": null,
   "id": "d7a8080a-6b8b-4d1a-9e0e-68f16362dfdc",
   "metadata": {},
   "outputs": [],
   "source": [
    "t1_delays = np.linspace(0.0, 500.0, 26)*1e-6\n",
    "t1_delays"
   ]
  },
  {
   "cell_type": "code",
   "execution_count": null,
   "id": "42a5097e-4063-4259-a806-8f5d581be08c",
   "metadata": {},
   "outputs": [],
   "source": [
    "t1_exps = []\n",
    "qubits = [28, 3, 102, 54, 44, 9]\n",
    "\n",
    "for qubit in qubits:\n",
    "    \n",
    "    # Create the experiment for the qubit\n",
    "    exp = T1(physical_qubits=(qubit,),\n",
    "             delays=t1_delays,\n",
    "             backend=backend,)\n",
    "    \n",
    "    # Add it to our list of experiments\n",
    "    t1_exps.append(exp)\n",
    "\n",
    "parallel_t1_exp = ParallelExperiment(t1_exps, backend=backend,)"
   ]
  },
  {
   "cell_type": "code",
   "execution_count": null,
   "id": "f361d4ae-1237-4a33-baba-5c3930c6bf29",
   "metadata": {},
   "outputs": [],
   "source": [
    "parallel_t1_exp.set_transpile_options(scheduling_method='asap',\n",
    "                                      target=backend.target)\n",
    "\n",
    "t1_data = parallel_t1_exp.run(backend=backend)"
   ]
  },
  {
   "cell_type": "code",
   "execution_count": null,
   "id": "8016e6f8-0b5a-4032-8b28-118ab46a5305",
   "metadata": {},
   "outputs": [],
   "source": [
    "t1_data.figure(2)"
   ]
  },
  {
   "cell_type": "markdown",
   "id": "1dd9e352-072f-4b2d-89a5-0f01827116c2",
   "metadata": {},
   "source": [
    "## $T_2$"
   ]
  },
  {
   "cell_type": "code",
   "execution_count": null,
   "id": "5d97d6ac-6dbf-476f-8b60-8897a04fc1e9",
   "metadata": {},
   "outputs": [],
   "source": [
    "t2_delays = np.linspace(0.0, 250.0, 26)*1e-6\n",
    "t2_delays"
   ]
  },
  {
   "cell_type": "code",
   "execution_count": null,
   "id": "ba7c9fee-1cb2-4c2d-b6b6-dd18c14065cc",
   "metadata": {},
   "outputs": [],
   "source": [
    "t2_exps = []\n",
    "qubits = [28, 3, 102, 54, 44, 9]\n",
    "\n",
    "for qubit in qubits:\n",
    "    \n",
    "    # Create the experiment for the qubit\n",
    "    exp = T2Hahn(physical_qubits=(qubit,),\n",
    "                 delays=t2_delays,\n",
    "                 backend=backend,)\n",
    "    \n",
    "    # Add it to our list of experiments\n",
    "    t2_exps.append(exp)\n",
    "\n",
    "parallel_t2_exp = ParallelExperiment(t2_exps, backend=backend,)"
   ]
  },
  {
   "cell_type": "code",
   "execution_count": null,
   "id": "0b072faa-166c-42d8-a38a-40428326ebe8",
   "metadata": {},
   "outputs": [],
   "source": [
    "parallel_t2_exp.set_transpile_options(scheduling_method='asap', target=backend.target)\n",
    "t2_data = parallel_t2_exp.run(backend=backend)"
   ]
  },
  {
   "cell_type": "markdown",
   "id": "d0148289-6ac6-448a-b06d-7335638364ac",
   "metadata": {},
   "source": [
    "## $T_2^*$"
   ]
  },
  {
   "cell_type": "code",
   "execution_count": null,
   "id": "8ffd7caa-a723-46be-b634-346d38f4d1ed",
   "metadata": {},
   "outputs": [],
   "source": [
    "t2star_exps = []\n",
    "qubits = [28, 3, 102, 54, 44, 9]\n",
    "\n",
    "for qubit in qubits:\n",
    "    \n",
    "    # Create the experiment for the qubit\n",
    "    exp = T2Ramsey(physical_qubits=(qubit,),\n",
    "                   delays=t2_delays,\n",
    "                   backend=backend,\n",
    "                  osc_freq=5e6)\n",
    "    \n",
    "    # Add it to our list of experiments\n",
    "    t2star_exps.append(exp)\n",
    "\n",
    "parallel_t2star_exp = ParallelExperiment(t2star_exps, backend=backend,)"
   ]
  },
  {
   "cell_type": "code",
   "execution_count": null,
   "id": "c9abda0d-adbc-4107-9ddb-4fe7515aa4f0",
   "metadata": {},
   "outputs": [],
   "source": [
    "parallel_t2star_exp.set_transpile_options(scheduling_method='asap', target=backend.target)\n",
    "t2star_data = parallel_t2star_exp.run(backend=backend)"
   ]
  },
  {
   "cell_type": "code",
   "execution_count": null,
   "id": "9765b6db-a2d9-419f-a2a3-c97d22552764",
   "metadata": {},
   "outputs": [],
   "source": [
    "t2star_data.figure(0)"
   ]
  },
  {
   "cell_type": "markdown",
   "id": "9266341d-57f3-49bd-b5d3-1fdc8b488ae0",
   "metadata": {},
   "source": [
    "## Layer Fidelity"
   ]
  },
  {
   "cell_type": "code",
   "execution_count": null,
   "id": "bc642105-a2a0-416d-ac92-ca205acf89c1",
   "metadata": {},
   "outputs": [],
   "source": [
    "num_qubits_in_chain = 100\n",
    "coupling_map = backend.target.build_coupling_map(twoq_gate)\n",
    "G = coupling_map.graph"
   ]
  },
  {
   "cell_type": "code",
   "execution_count": null,
   "id": "0440b2a9-a9d0-4a9e-b67d-1d629ae94cd8",
   "metadata": {},
   "outputs": [],
   "source": [
    "def to_edges(path):\n",
    "    edges = []\n",
    "    prev_node = None\n",
    "    for node in path:\n",
    "        if prev_node is not None:\n",
    "            if G.has_edge(prev_node, node):\n",
    "                edges.append((prev_node, node))\n",
    "            else:\n",
    "                edges.append((node, prev_node))\n",
    "        prev_node = node\n",
    "    return edges\n",
    "\n",
    "\n",
    "def path_fidelity(path, correct_by_duration: bool = True, readout_scale: float = None):\n",
    "    \"\"\"Compute an estimate of the total fidelity of 2-qubit gates on a path.\n",
    "    If `correct_by_duration` is true, each gate fidelity is worsen by\n",
    "    scale = max_duration / duration, i.e. gate_fidelity^scale.\n",
    "    If `readout_scale` > 0 is supplied, readout_fidelity^readout_scale\n",
    "    for each qubit on the path is multiplied to the total fielity.\n",
    "    The path is given in node indices form, e.g. [0, 1, 2].\n",
    "    An external function `to_edges` is used to obtain edge list, e.g. [(0, 1), (1, 2)].\"\"\"\n",
    "    path_edges = to_edges(path)\n",
    "    max_duration = max(backend.target[twoq_gate][qs].duration for qs in path_edges)\n",
    "\n",
    "    def gate_fidelity(qpair):\n",
    "        duration = backend.target[twoq_gate][qpair].duration\n",
    "        scale = max_duration / duration if correct_by_duration else 1.0\n",
    "        # 1.25 = (d+1)/d) with d = 4\n",
    "        return max(0.25, 1 - (1.25 * backend.target[twoq_gate][qpair].error)) ** scale\n",
    "\n",
    "    def readout_fidelity(qubit):\n",
    "        return max(0.25, 1 - backend.target[\"measure\"][(qubit,)].error)\n",
    "\n",
    "    total_fidelity = np.prod([gate_fidelity(qs) for qs in path_edges])\n",
    "    if readout_scale:\n",
    "        total_fidelity *= np.prod([readout_fidelity(q) for q in path]) ** readout_scale\n",
    "    return total_fidelity\n",
    "\n",
    "\n",
    "def flatten(paths, cutoff=None):  # cutoff not to make run time too large\n",
    "    return [\n",
    "        path\n",
    "        for s, s_paths in paths.items()\n",
    "        for t, st_paths in s_paths.items()\n",
    "        for path in st_paths[:cutoff]\n",
    "        if s < t\n",
    "    ]"
   ]
  },
  {
   "cell_type": "code",
   "execution_count": null,
   "id": "0f32515e-9eb6-4c1d-9a99-8a27641f45ba",
   "metadata": {},
   "outputs": [],
   "source": [
    "paths = rx.all_pairs_all_simple_paths(\n",
    "    G.to_undirected(multigraph=False),\n",
    "    min_depth=num_qubits_in_chain,\n",
    "    cutoff=num_qubits_in_chain,\n",
    ")\n",
    "paths = flatten(paths, cutoff=400)\n",
    "if not paths:\n",
    "    raise Exception(\n",
    "        f\"No qubit chain with length={num_qubits_in_chain} exists in {backend.name}. Try smaller num_qubits_in_chain.\"\n",
    "    )\n",
    "\n",
    "print(f\"Selecting the best from {len(paths)} candidate paths (will take a few minutes)\")\n",
    "best_qubit_chain = max(paths, key=path_fidelity)\n",
    "# from functools import partial\n",
    "# best_qubit_chain = max(paths, key=partial(path_fidelity, correct_by_duration=True, readout_scale=1.0))\n",
    "assert len(best_qubit_chain) == num_qubits_in_chain\n",
    "print(f\"Predicted LF from reported 2q-gate EPGs: {path_fidelity(best_qubit_chain)}\")"
   ]
  },
  {
   "cell_type": "code",
   "execution_count": null,
   "id": "f0bbaea8-157a-4968-a30f-8e7d9e2bd806",
   "metadata": {},
   "outputs": [],
   "source": [
    "np.array(best_qubit_chain)"
   ]
  },
  {
   "cell_type": "code",
   "execution_count": null,
   "id": "0f7f4da4-6e58-45a6-8044-f7e6ad2053de",
   "metadata": {},
   "outputs": [],
   "source": [
    "# decompose the chain into two disjoint layers\n",
    "all_pairs = to_edges(best_qubit_chain)\n",
    "two_disjoint_layers = [all_pairs[0::2], all_pairs[1::2]]\n",
    "two_disjoint_layers"
   ]
  },
  {
   "cell_type": "code",
   "execution_count": null,
   "id": "2c0658d9-fecc-49e8-ae48-76bf534ec653",
   "metadata": {},
   "outputs": [],
   "source": [
    "%%time\n",
    "lfexp = LayerFidelity(\n",
    "    physical_qubits=best_qubit_chain,\n",
    "    two_qubit_layers=two_disjoint_layers,\n",
    "    lengths=[2, 4, 8, 16, 24, 32, 48, 64, 72, 96, 128, 160, 192, 256, 320, 512],\n",
    "    backend=backend,\n",
    "    num_samples=32,\n",
    "    seed=42,\n",
    "    # two_qubit_gate=\"ecr\",\n",
    "    # one_qubit_basis_gates=[\"rz\", \"sx\", \"x\"],\n",
    ")\n"
   ]
  },
  {
   "cell_type": "code",
   "execution_count": null,
   "id": "4420303f-c348-4832-9ee2-60684f1236a6",
   "metadata": {},
   "outputs": [],
   "source": [
    "# set maximum number of circuits per job to avoid errors due to too large payload\n",
    "lfexp.experiment_options.max_circuits = 144"
   ]
  },
  {
   "cell_type": "code",
   "execution_count": null,
   "id": "5a63c1c9-2997-4eed-ae0f-dc4aca2e7ea8",
   "metadata": {},
   "outputs": [],
   "source": [
    "print(f\"Two Qubit Gate: {lfexp.experiment_options.two_qubit_gate}\")\n",
    "print(f\"One Qubit Gate Set: {lfexp.experiment_options.one_qubit_basis_gates}\")"
   ]
  },
  {
   "cell_type": "code",
   "execution_count": null,
   "id": "9d8caf19-b28f-443a-b4a3-33a7683e6a96",
   "metadata": {},
   "outputs": [],
   "source": [
    "%%time\n",
    "# look at one of the first three 2Q direct RB circuits quickly\n",
    "circ_iter = lfexp.circuits_generator()\n",
    "first_three_circuits = list(next(circ_iter) for _ in range(3))\n",
    "first_three_circuits[1].draw(output=\"mpl\",\n",
    "                             style=\"clifford\", \n",
    "                             idle_wires=False, \n",
    "                             fold=-1)"
   ]
  },
  {
   "cell_type": "code",
   "execution_count": null,
   "id": "44571eeb-8d26-485f-a021-52ca838fd876",
   "metadata": {},
   "outputs": [],
   "source": [
    "%%time\n",
    "# generate all circuits to run\n",
    "circuits = lfexp.circuits()\n",
    "print(f\"{len(circuits)} circuits are generated.\")"
   ]
  },
  {
   "cell_type": "code",
   "execution_count": null,
   "id": "8e7a9838-e744-4801-a519-f44ad509287d",
   "metadata": {},
   "outputs": [],
   "source": [
    "%%time\n",
    "# number of shots per job\n",
    "nshots = 1024\n",
    "\n",
    "# Run the LF experiment (generate circuits and submit the job)\n",
    "exp_data = lfexp.run(shots=nshots)\n",
    "# exp_data.auto_save = True\n",
    "print(f\"Run experiment: ID={exp_data.experiment_id} with jobs {exp_data.job_ids}]\")"
   ]
  },
  {
   "cell_type": "code",
   "execution_count": null,
   "id": "27232d36-7d82-4cfe-8e0d-9e078b469cdc",
   "metadata": {},
   "outputs": [],
   "source": [
    "df = exp_data.analysis_results(dataframe=True)"
   ]
  },
  {
   "cell_type": "code",
   "execution_count": null,
   "id": "c74964c5-556a-4bc0-a74a-5af04bb97d88",
   "metadata": {},
   "outputs": [],
   "source": [
    "df[(df.name == \"ProcessFidelity\")].head()"
   ]
  },
  {
   "cell_type": "code",
   "execution_count": null,
   "id": "acb26bdf-1eca-45dc-836e-cb6d24542ba2",
   "metadata": {},
   "outputs": [],
   "source": [
    "for i in range(0, 5):\n",
    "    display(exp_data.figure(i))\n"
   ]
  },
  {
   "cell_type": "code",
   "execution_count": null,
   "id": "ca3034c9-0262-4ebc-b4e9-c02119e935d3",
   "metadata": {},
   "outputs": [],
   "source": [
    "pfdf = df[(df.name == \"ProcessFidelity\")]\n",
    "pfdf[pfdf.value < 0.8]"
   ]
  },
  {
   "cell_type": "code",
   "execution_count": null,
   "id": "3209617b-5011-4858-902b-2c2ad70488ba",
   "metadata": {},
   "outputs": [],
   "source": [
    "# find bad quality analysis results\n",
    "pfdf[pfdf.quality == \"bad\"]"
   ]
  },
  {
   "cell_type": "code",
   "execution_count": null,
   "id": "e1e08e19-7d09-4e1c-bf40-bf884b88b424",
   "metadata": {},
   "outputs": [],
   "source": [
    "# fill Process Fidelity values with zeros\n",
    "pfdf = pfdf.fillna({\"value\": 0})"
   ]
  },
  {
   "cell_type": "code",
   "execution_count": null,
   "id": "883e3d02-f6c0-45ae-8d14-d845cf68c0a5",
   "metadata": {},
   "outputs": [],
   "source": [
    "\n",
    "\n",
    "# Compute LF by chain length assuming the first layer is full with 2q-gates\n",
    "lf_sets, lf_qubits = two_disjoint_layers, best_qubit_chain\n",
    "full_layer = [None] * (len(lf_sets[0]) + len(lf_sets[1]))\n",
    "full_layer[::2] = lf_sets[0]\n",
    "full_layer[1::2] = lf_sets[1]\n",
    "full_layer = [(lf_qubits[0],)] + full_layer + [(lf_qubits[-1],)]\n",
    "\n",
    "assert len(full_layer) == len(lf_qubits) + 1\n"
   ]
  },
  {
   "cell_type": "code",
   "execution_count": null,
   "id": "2a88e863-872e-4bf7-a125-6cbefa46e2f0",
   "metadata": {},
   "outputs": [],
   "source": [
    "pfs = [pfdf.loc[pfdf[pfdf.qubits == qubits].index[0], \"value\"] for qubits in full_layer]\n",
    "pfs = list(map(lambda x: x.n if x != 0 else 0, pfs))\n",
    "pfs[0] = pfs[0] ** 2\n",
    "pfs[-1] = pfs[-1] ** 2\n",
    "np.array(pfs)"
   ]
  },
  {
   "cell_type": "code",
   "execution_count": null,
   "id": "f83b4ed0-b9c5-424f-abfe-e5325a898d3d",
   "metadata": {},
   "outputs": [],
   "source": [
    "job = service.job(exp_data.job_ids[0])\n",
    "JOB_DATE = job.creation_date"
   ]
  },
  {
   "cell_type": "code",
   "execution_count": null,
   "id": "ae58b1a1-f9a1-49e7-8562-06981412ea36",
   "metadata": {},
   "outputs": [],
   "source": [
    "# Approximate 1Q RB fidelities at both ends by the square root of 2Q RB fidelity at both ends.\n",
    "# For example, if we have [(0, 1), (1, 2), (2, 3), (3, 4)] 2Q RB fidelities and if we want to compute a layer fidelity for [1, 2, 3],\n",
    "# we approximate the 1Q filedities for (1,) and (3,) by the square root of 2Q fidelities of (0, 1) and (3, 4).\n",
    "chain_lens = list(range(4, len(pfs), 2))\n",
    "chain_fids = []\n",
    "for length in chain_lens:\n",
    "    w = length + 1  # window size\n",
    "    fid_w = max(\n",
    "        np.sqrt(pfs[s]) * np.prod(pfs[s + 1 : s + w - 1]) * np.sqrt(pfs[s + w - 1])\n",
    "        for s in range(len(pfs) - w + 1)\n",
    "    )\n",
    "    chain_fids.append(fid_w)"
   ]
  },
  {
   "cell_type": "code",
   "execution_count": null,
   "id": "f50861f2-0b85-4c7e-9f4d-611b4c0bb3f8",
   "metadata": {},
   "outputs": [],
   "source": [
    "# Plot LF by chain length\n",
    "plt.title(f\"Backend: {backend.name}, {JOB_DATE.strftime('%Y/%m/%d %H:%M')}\")\n",
    "plt.plot(\n",
    "    chain_lens,\n",
    "    chain_fids,\n",
    "    marker=\"o\",\n",
    "    linestyle=\"-\",\n",
    ")\n",
    "plt.xlim(0, chain_lens[-1] * 1.05)\n",
    "plt.ylim(0.95 * min(chain_fids), 1)\n",
    "plt.ylabel(\"Layer Fidelity\")\n",
    "plt.xlabel(\"Chain Length\")\n",
    "plt.grid()\n",
    "plt.show()"
   ]
  },
  {
   "cell_type": "code",
   "execution_count": null,
   "id": "534eab62-9d30-41f8-8e65-817aa91ee782",
   "metadata": {},
   "outputs": [],
   "source": [
    "# Plot EPLG by chain length\n",
    "num_2q_gates = [length - 1 for length in chain_lens]\n",
    "chain_eplgs = [\n",
    "    1 - (fid ** (1 / num_2q)) for num_2q, fid in zip(num_2q_gates, chain_fids)\n",
    "]\n",
    "plt.title(f\"Backend: {backend.name}, {JOB_DATE.strftime('%Y/%m/%d %H:%M')}\")\n",
    "plt.plot(\n",
    "    chain_lens,\n",
    "    chain_eplgs,\n",
    "    marker=\"o\",\n",
    "    linestyle=\"-\",\n",
    ")\n",
    "plt.xlim(0, chain_lens[-1] * 1.05)\n",
    "plt.ylabel(\"Error per Layered Gates\")\n",
    "plt.xlabel(\"Chain Length\")\n",
    "plt.grid()\n",
    "plt.show()"
   ]
  }
 ],
 "metadata": {
  "kernelspec": {
   "display_name": "Python 3 (ipykernel)",
   "language": "python",
   "name": "python3"
  },
  "language_info": {
   "codemirror_mode": {
    "name": "ipython",
    "version": 3
   },
   "file_extension": ".py",
   "mimetype": "text/x-python",
   "name": "python",
   "nbconvert_exporter": "python",
   "pygments_lexer": "ipython3",
   "version": "3.12.4"
  }
 },
 "nbformat": 4,
 "nbformat_minor": 5
}
