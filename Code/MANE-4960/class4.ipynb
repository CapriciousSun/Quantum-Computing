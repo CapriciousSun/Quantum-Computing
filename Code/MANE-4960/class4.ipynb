{
 "cells": [
  {
   "cell_type": "markdown",
   "id": "e16e1dfa-aa3a-4436-af30-4db39c35548d",
   "metadata": {},
   "source": [
    "# Lecture 4 - Noise and Benchmarking"
   ]
  },
  {
   "cell_type": "code",
   "execution_count": null,
   "id": "105b3dff-3d85-4757-a14c-9b0eb84c2747",
   "metadata": {},
   "outputs": [],
   "source": [
    "import matplotlib.pyplot as plt\n",
    "import numpy as np\n",
    "import qiskit as qs\n",
    "from qiskit_ibm_runtime import QiskitRuntimeService\n",
    "\n",
    "from qiskit.transpiler import generate_preset_pass_manager\n",
    "from qiskit.visualization import timeline\n",
    "import qiskit_experiments"
   ]
  },
  {
   "cell_type": "code",
   "execution_count": null,
   "id": "4fe522a4-3c9c-4988-9eb1-eddbbff9f404",
   "metadata": {},
   "outputs": [],
   "source": [
    "# Run this to install qiskit experiments for T1, T2, and other kinds of benchmarks\n",
    "!pip install qiskit-experiments[extras]"
   ]
  },
  {
   "cell_type": "code",
   "execution_count": null,
   "id": "0fa0834a-65c5-4ee4-8ccd-f8a0afbb5bff",
   "metadata": {},
   "outputs": [],
   "source": [
    "# Setup the backend and transpiler\n",
    "\n",
    "service = QiskitRuntimeService(name='rpi-quantum')\n",
    "backend = service.backend('ibm_rensselaer')\n",
    "\n",
    "pm = generate_preset_pass_manager(backend=backend,\n",
    "                                  optimization_level=1,\n",
    "                                  scheduling_method='asap')"
   ]
  },
  {
   "cell_type": "markdown",
   "id": "c1c0b5cc-bc57-45b7-9196-d2b457a537d4",
   "metadata": {},
   "source": [
    "## Density Matrices"
   ]
  },
  {
   "cell_type": "code",
   "execution_count": null,
   "id": "4c3a11ba-8c3f-4a91-9880-3ef1cc70ed7e",
   "metadata": {},
   "outputs": [],
   "source": [
    "zero_state = np.array([1.0+0j, 0.0+0j])\n",
    "one_state =  np.array([0.0+0j, 1.0+0j])\n",
    "\n",
    "zero_state"
   ]
  },
  {
   "cell_type": "code",
   "execution_count": null,
   "id": "2a613f64-12cc-4527-b440-a715e4eb9110",
   "metadata": {},
   "outputs": [],
   "source": [
    "P0 = np.outer(zero_state, zero_state)\n",
    "P1 = np.outer(one_state, one_state)"
   ]
  },
  {
   "cell_type": "code",
   "execution_count": null,
   "id": "b3dd21b3-1e87-4612-9d95-946d4a21cf0c",
   "metadata": {},
   "outputs": [],
   "source": [
    "P0"
   ]
  },
  {
   "cell_type": "code",
   "execution_count": null,
   "id": "5235bf9c-8bc0-4e66-840e-414530a3a0c5",
   "metadata": {},
   "outputs": [],
   "source": [
    "X = np.array([[0,1],[1,0]])\n",
    "Y = np.array([[0,0.0-1.0j],[0.0+1.0j,0.0]])\n",
    "Z = np.array([[1,0],[0,-1]])\n",
    "H = 1/np.sqrt(2) * np.array([[1, 1],[1, -1]])"
   ]
  },
  {
   "cell_type": "code",
   "execution_count": null,
   "id": "7799b981-57d9-4eb3-b20c-ec736f394575",
   "metadata": {},
   "outputs": [],
   "source": [
    "plus_state = H @ zero_state\n",
    "plus_state"
   ]
  },
  {
   "cell_type": "code",
   "execution_count": null,
   "id": "dcf5f73c-7c48-40e3-b2b5-9d2f6d2535e3",
   "metadata": {},
   "outputs": [],
   "source": [
    "rho_H = np.outer(plus_state, plus_state)\n",
    "rho_H"
   ]
  },
  {
   "cell_type": "markdown",
   "id": "2d5f3b5b-6d25-476f-8964-67296cd8c8fe",
   "metadata": {},
   "source": [
    "## Measuring $T_1$ (The Hard Way)\n",
    "\n",
    "$T_1$ tells us the time constant with which a qubit will decay from the $|1\\rangle$ state to the $|0\\rangle$ state. If we want to measure this value, we need to prepare the $|1\\rangle$ state many, many times, and then compute the average probability of the qubit being in that state after various waiting times."
   ]
  },
  {
   "cell_type": "code",
   "execution_count": null,
   "id": "44fe1903-0396-4f3b-b399-04afb033ea4e",
   "metadata": {},
   "outputs": [],
   "source": [
    "n_waits = 11\n",
    "wait_times = np.linspace(0.0, 200.0, n_waits)*1e-6\n",
    "wait_times"
   ]
  },
  {
   "cell_type": "markdown",
   "id": "5685d97e-1c57-42fd-80f0-7c4eccd9e01d",
   "metadata": {},
   "source": [
    "Now, we create a circuit for each delay time (we could also use `Parameter`s)."
   ]
  },
  {
   "cell_type": "code",
   "execution_count": null,
   "id": "6259fee0-8e14-49ce-ac5e-1150d2a95ae2",
   "metadata": {},
   "outputs": [],
   "source": [
    "t1_circuits = []\n",
    "\n",
    "# Create a circuit for each delay time\n",
    "for wait_time in wait_times:\n",
    "    t1_circuit = qs.QuantumCircuit(1)\n",
    "    \n",
    "    # Use an X-gate to flip the qubit into the 1 state.\n",
    "    t1_circuit.x(0)\n",
    "    \n",
    "    t1_circuit.delay(duration=wait_time, unit='s')\n",
    "\n",
    "    t1_circuits.append(t1_circuit)\n",
    "\n",
    "observable = qs.quantum_info.SparsePauliOp([\"I\", \"Z\"], [0.5, -0.5])"
   ]
  },
  {
   "cell_type": "code",
   "execution_count": null,
   "id": "0c880814-bf3e-4951-b0d0-2497bc1a3843",
   "metadata": {},
   "outputs": [],
   "source": [
    "isa_t1_circuits = pm.run(t1_circuits)\n",
    "isa_observables = [observable.apply_layout(circuit.layout) for circuit in isa_t1_circuits]"
   ]
  },
  {
   "cell_type": "code",
   "execution_count": null,
   "id": "b2790069-370e-4016-865a-7a1476207497",
   "metadata": {},
   "outputs": [],
   "source": [
    "estimator = ibm.EstimatorV2(mode=backend)\n",
    "\n",
    "pubs = []\n",
    "for i in range(len(isa_t1_circuits)):\n",
    "    pub = (isa_t1_circuits[i], [isa_observables[i]])\n",
    "    pubs.append(pub)\n",
    "\n",
    "job = estimator.run(pubs=pubs)"
   ]
  },
  {
   "cell_type": "code",
   "execution_count": null,
   "id": "ca06c395-c486-4325-b8f8-5e24572e46a3",
   "metadata": {},
   "outputs": [],
   "source": [
    "job.status()"
   ]
  },
  {
   "cell_type": "code",
   "execution_count": null,
   "id": "999d87ee-d5d8-4df4-8b7c-1e5e27a31a3d",
   "metadata": {},
   "outputs": [],
   "source": [
    "result = job.result()"
   ]
  },
  {
   "cell_type": "code",
   "execution_count": null,
   "id": "6f478761-cf6b-4322-b570-fc8de346221d",
   "metadata": {},
   "outputs": [],
   "source": [
    "evs = []\n",
    "for item in result:\n",
    "    ev = item.data.evs[0]\n",
    "\n",
    "    evs.append(ev)"
   ]
  },
  {
   "cell_type": "code",
   "execution_count": null,
   "id": "76a385aa-2fce-4734-9fc9-21a07b2ec043",
   "metadata": {},
   "outputs": [],
   "source": [
    "plt.plot(wait_times, evs, marker=\"o\")"
   ]
  },
  {
   "cell_type": "markdown",
   "id": "c258a021-7458-4909-9512-7057af5636e5",
   "metadata": {},
   "source": [
    "## Measuring $T_1$ (A Slightly Easier Way)\n",
    "\n",
    "Qiskit Experiments gives us an easier way to measure values like $T_1$, $T_2$ and many others. Instead of having to write a new experiment loop for everything, we can import these predefined experiemnts from a library. It's also much easier for us to pick the qubits we want to target."
   ]
  },
  {
   "cell_type": "code",
   "execution_count": null,
   "id": "6ef70298-48fd-46ee-8bcc-054d119ef6c1",
   "metadata": {},
   "outputs": [],
   "source": [
    "t1_exps = []\n",
    "qubits = [28]\n",
    "\n",
    "for qubit in qubits:\n",
    "    \n",
    "    # Create the experiment for the qubit\n",
    "    exp = T1(physical_qubits=(qubit,),\n",
    "             delays=wait_times,\n",
    "             backend=backend,)\n",
    "    \n",
    "    # Add it to our list of experiments\n",
    "    t1_exps.append(exp)\n",
    "\n",
    "parallel_t1_exp = ParallelExperiment(t1_exps, backend=backend,)"
   ]
  },
  {
   "cell_type": "code",
   "execution_count": null,
   "id": "d085850a-0ea1-4318-87ed-a0df71ce6611",
   "metadata": {},
   "outputs": [],
   "source": [
    "parallel_t1_exp.set_transpile_options(scheduling_method='asap',\n",
    "                                      target=backend.target)\n",
    "\n",
    "t1_data = parallel_t1_exp.run(backend=backend)"
   ]
  },
  {
   "cell_type": "code",
   "execution_count": null,
   "id": "c3f48047-9a7f-4e74-a883-ab5ee119b653",
   "metadata": {},
   "outputs": [],
   "source": [
    "t1_data.figure(0)"
   ]
  },
  {
   "cell_type": "markdown",
   "id": "acb630e6-336e-4e58-8e65-335de57a6584",
   "metadata": {},
   "source": [
    "## Measuring $T_2$\n",
    "We can do the same thing for $T_2$. The Hahn Echo Sequence is built into Qiskit Experiments."
   ]
  },
  {
   "cell_type": "code",
   "execution_count": null,
   "id": "0859705a-7593-49a4-a0ba-9406b47de633",
   "metadata": {},
   "outputs": [],
   "source": [
    "t2_delays = np.linspace(0.0, 100.0, 26)*1e-6\n",
    "t2_delays"
   ]
  },
  {
   "cell_type": "code",
   "execution_count": null,
   "id": "0d549378-dff5-40aa-89e3-94bf42d7d6a8",
   "metadata": {},
   "outputs": [],
   "source": [
    "t2_exps = []\n",
    "qubits = [28]\n",
    "\n",
    "for qubit in qubits:\n",
    "    \n",
    "    # Create the experiment for the qubit\n",
    "    exp = T2Hahn(physical_qubits=(qubit,),\n",
    "                 delays=t2_delays,\n",
    "                 backend=backend,)\n",
    "    \n",
    "    # Add it to our list of experiments\n",
    "    t2_exps.append(exp)\n",
    "\n",
    "parallel_t2_exp = ParallelExperiment(t2_exps, backend=backend,)"
   ]
  },
  {
   "cell_type": "code",
   "execution_count": null,
   "id": "bf4d8fbd-460b-4594-939b-3e6460ffb5e7",
   "metadata": {},
   "outputs": [],
   "source": [
    "parallel_t2_exp.set_transpile_options(scheduling_method='asap', target=backend.target)\n",
    "t2_data = parallel_t2_exp.run(backend=backend)"
   ]
  },
  {
   "cell_type": "code",
   "execution_count": null,
   "id": "5b706cf7-c3d3-4c3f-b5a3-b51314c82223",
   "metadata": {},
   "outputs": [],
   "source": [
    "t2_data.figure(0)"
   ]
  },
  {
   "cell_type": "markdown",
   "id": "440e209f-a3f9-451d-9a8c-7c2e9016b634",
   "metadata": {},
   "source": [
    "## Measuring $T_2^*$\n",
    "\n",
    "The Ramsey measurement sequence is also built in to the experiment library!"
   ]
  },
  {
   "cell_type": "code",
   "execution_count": null,
   "id": "6503b980-e692-470b-95cb-6116790e56c6",
   "metadata": {},
   "outputs": [],
   "source": [
    "t2star_exps = []\n",
    "qubits = [28]\n",
    "\n",
    "for qubit in qubits:\n",
    "    \n",
    "    # Create the experiment for the qubit\n",
    "    exp = T2Ramsey(physical_qubits=(qubit,),\n",
    "                   delays=t2_delays,\n",
    "                   backend=backend,\n",
    "                   osc_freq=1e6)\n",
    "    \n",
    "    # Add it to our list of experiments\n",
    "    t2star_exps.append(exp)\n",
    "\n",
    "parallel_t2star_exp = ParallelExperiment(t2_exps, backend=backend,)"
   ]
  },
  {
   "cell_type": "code",
   "execution_count": null,
   "id": "09eb6ea0-8f96-4927-9ad1-200985e2cc2f",
   "metadata": {},
   "outputs": [],
   "source": [
    "parallel_t2star_exp.set_transpile_options(scheduling_method='asap', target=backend.target)\n",
    "t2star_data = parallel_t2star_exp.run(backend=backend)"
   ]
  },
  {
   "cell_type": "code",
   "execution_count": null,
   "id": "4c96f959-e556-45d4-aa32-b222e3367ac9",
   "metadata": {},
   "outputs": [],
   "source": [
    "t2star_data.figure(0)"
   ]
  },
  {
   "cell_type": "markdown",
   "id": "471afc35-a8c2-4b01-bca8-55c52c0b663c",
   "metadata": {},
   "source": [
    "## Determining the Gate Time\n",
    "\n",
    "The next step in making a noise model is figure out how long it takes to run operations. Ideally, these should be as short as possible"
   ]
  },
  {
   "cell_type": "code",
   "execution_count": null,
   "id": "841a3529-8211-42fb-930b-fa07ac7cec6a",
   "metadata": {},
   "outputs": [],
   "source": [
    "circ = qs.QuantumCircuit(1)\n",
    "circ.h(0)\n",
    "\n",
    "isa_circ = pm.run(circ)\n",
    "\n",
    "gate_time = isa_circ.duration*backend.dt\n",
    "print(f\"Gate time for Hadamard gate: {gate_time/1e-9} ns\")\n",
    "\n",
    "timeline.draw(isa_circ, idle_wires=False, show_delays=True)"
   ]
  },
  {
   "cell_type": "markdown",
   "id": "e5f19474-a09f-4d5e-81ed-d2f0620c0d74",
   "metadata": {},
   "source": [
    "From the above, we can see that the gate time is about 60 nanoseconds."
   ]
  },
  {
   "cell_type": "markdown",
   "id": "b1736417-150b-4278-9954-c7331a1a8c43",
   "metadata": {},
   "source": [
    "## Noise Modeling Example\n",
    "Here we'll show an example of how we can use measured $T_1$ and $T_2$ values, along with the gate time $T_g$ to create a simple noise model."
   ]
  },
  {
   "cell_type": "code",
   "execution_count": null,
   "id": "f92c16f9-5f6e-4499-ae12-44a7072a2361",
   "metadata": {},
   "outputs": [],
   "source": [
    "T1 = t1_data.analysis_results()[1].value.nominal_value\n",
    "T2 = t2_data.analysis_results()[1].value.nominal_value\n",
    "Tg = gate_time"
   ]
  },
  {
   "cell_type": "code",
   "execution_count": null,
   "id": "b7fb219c-26db-49c6-9491-f67ff7d3a96e",
   "metadata": {},
   "outputs": [],
   "source": [
    "t1_damping = 1 - np.exp(-Tg/T1)\n",
    "t2_damping = 1 - np.exp(-Tg/T2)"
   ]
  },
  {
   "cell_type": "markdown",
   "id": "18ad170b-99b4-4579-acd7-456b44b332f3",
   "metadata": {},
   "source": [
    "Now, we will construct the Kraus operators for the noise model."
   ]
  },
  {
   "cell_type": "code",
   "execution_count": null,
   "id": "6c368d3d-bbcf-471c-a1f8-89e26a9e16f8",
   "metadata": {},
   "outputs": [],
   "source": [
    "E0_amp = np.array([[1,0],[0, np.sqrt(1-t1_damping)]])\n",
    "E1_amp = np.array([[0,np.sqrt(t1_damping)],[0, 0]])"
   ]
  },
  {
   "cell_type": "code",
   "execution_count": null,
   "id": "e9c51c81-8260-4992-ad32-59a79d6c61bf",
   "metadata": {},
   "outputs": [],
   "source": [
    "E0_phase = np.array([[1,0],[0, np.sqrt(1-t2_damping)]])\n",
    "E1_phase = np.array([[0,0],[0, np.sqrt(t2_damping)]])"
   ]
  },
  {
   "cell_type": "markdown",
   "id": "cb6a11c2-99cd-4f07-bcd5-d061e1204616",
   "metadata": {},
   "source": [
    "Let's test it! First, we'll create a density matrix of the $|0\\rangle$ state:"
   ]
  },
  {
   "cell_type": "code",
   "execution_count": null,
   "id": "8ddc619b-e82a-4731-acf6-615ed888df31",
   "metadata": {},
   "outputs": [],
   "source": [
    "zero_state = np.array([1.0+0j, 0.0+0j])\n",
    "hadamard_gate = 1/np.sqrt(2) * np.array([[1, 1],[1, -1]])\n",
    "\n",
    "rho_1 = np.outer(zero_state, zero_state)"
   ]
  },
  {
   "cell_type": "markdown",
   "id": "a240b595-b44b-46bc-b426-187099d5e0d1",
   "metadata": {},
   "source": [
    "Next, we apply a Hadamard gate to it. Remember that in the density matrix formalism, we apply operators like:\n",
    "\n",
    "$$ \\rho^\\prime = U\\rho U^\\dagger$$\n",
    "\n",
    "Which gives us:\n",
    "\n",
    "$$ \\rho_2 = H\\rho_1H^\\dagger = \\frac{1}{\\sqrt{2}}\\begin{pmatrix} 1 & 1 \\\\ 1 & -1 \\end{pmatrix}\\rho  \\frac{1}{\\sqrt{2}} \\begin{pmatrix} 1 & 1 \\\\ 1 & -1 \\end{pmatrix}$$\n",
    "$$ \\rho_2 = \\begin{pmatrix} \\frac{1}{2} & \\frac{1}{2} \\\\ \\frac{1}{2} & \\frac{1}{2} \\end{pmatrix} $$"
   ]
  },
  {
   "cell_type": "code",
   "execution_count": null,
   "id": "d4a36ae3-0a03-4913-8b9c-1b667150638f",
   "metadata": {},
   "outputs": [],
   "source": [
    "rho2 = (hadamard_gate @ rho @ hadamard_gate.conj().T)\n",
    "rho2"
   ]
  },
  {
   "cell_type": "markdown",
   "id": "011eab9a-df8f-46c0-87dc-c4b90c0d1d2c",
   "metadata": {},
   "source": [
    "Next, we apply the amplitude damping operator:"
   ]
  },
  {
   "cell_type": "code",
   "execution_count": null,
   "id": "aeb7f493-ed97-4c70-b271-cd9dc4369d1a",
   "metadata": {},
   "outputs": [],
   "source": [
    "rho3 = E0_amp @ rho2 @ E0_amp.conj().T + E1_amp @ rho2 @ E1_amp.conj().T"
   ]
  },
  {
   "cell_type": "markdown",
   "id": "2df2f6a8-889b-4451-b44e-6621e5ea31a0",
   "metadata": {},
   "source": [
    "Then, we apply the phase damping operator:"
   ]
  },
  {
   "cell_type": "code",
   "execution_count": null,
   "id": "eb98fab5-f29e-490b-854f-d88a2826b3c9",
   "metadata": {},
   "outputs": [],
   "source": [
    "rho4 = E0_phase @ rho3 @ E0_phase.conj().T + E1_phase @ rho3 @ E1_phase.conj().T"
   ]
  },
  {
   "cell_type": "code",
   "execution_count": null,
   "id": "5bb4709e-ec91-464e-b1a1-5286ebd03a33",
   "metadata": {},
   "outputs": [],
   "source": [
    "rho4"
   ]
  },
  {
   "cell_type": "markdown",
   "id": "c64661b6-805a-4c47-98bc-d12975f458ba",
   "metadata": {},
   "source": [
    "Notice how the value in the top right element increased, and the other elements all decreased. This noise is causing the measurement probability of the qubit to drift back to the $|0\\rangle$ state. \n",
    "\n",
    "What do you think will happen if we increase the gate time?"
   ]
  },
  {
   "cell_type": "code",
   "execution_count": null,
   "id": "a374b00a-1caf-4546-96a3-f571dc05837b",
   "metadata": {},
   "outputs": [],
   "source": []
  }
 ],
 "metadata": {
  "kernelspec": {
   "display_name": "Python 3 (ipykernel)",
   "language": "python",
   "name": "python3"
  },
  "language_info": {
   "codemirror_mode": {
    "name": "ipython",
    "version": 3
   },
   "file_extension": ".py",
   "mimetype": "text/x-python",
   "name": "python",
   "nbconvert_exporter": "python",
   "pygments_lexer": "ipython3",
   "version": "3.12.0"
  }
 },
 "nbformat": 4,
 "nbformat_minor": 5
}
