{
 "cells": [
  {
   "cell_type": "code",
   "execution_count": 2,
   "metadata": {},
   "outputs": [],
   "source": [
    "from qiskit import QuantumCircuit\n",
    "\n",
    "# Assistant packages\n",
    "import numpy as np\n",
    "import sympy\n",
    "from typing import Callable, Union, List, Iterable, Sequence, Optional\n",
    "\n",
    "# Default packages\n",
    "import random\n",
    "import fractions\n",
    "import math"
   ]
  },
  {
   "cell_type": "code",
   "execution_count": 3,
   "metadata": {},
   "outputs": [],
   "source": [
    "def multiplicative_finding(n: int) -> List[int]:\n",
    "  '''\n",
    "  Used to find numbers where the greatest common denominator is the same as integer n\n",
    "  '''\n",
    "  assert n > 1\n",
    "  group = [1]\n",
    "  for i in range(2, n):\n",
    "    if (math.gcd(i, n) == 1):\n",
    "      group.append(i)\n",
    "  return group"
   ]
  },
  {
   "cell_type": "code",
   "execution_count": null,
   "metadata": {},
   "outputs": [],
   "source": []
  }
 ],
 "metadata": {
  "kernelspec": {
   "display_name": "Python 3",
   "language": "python",
   "name": "python3"
  },
  "language_info": {
   "codemirror_mode": {
    "name": "ipython",
    "version": 3
   },
   "file_extension": ".py",
   "mimetype": "text/x-python",
   "name": "python",
   "nbconvert_exporter": "python",
   "pygments_lexer": "ipython3",
   "version": "3.12.0"
  }
 },
 "nbformat": 4,
 "nbformat_minor": 2
}
