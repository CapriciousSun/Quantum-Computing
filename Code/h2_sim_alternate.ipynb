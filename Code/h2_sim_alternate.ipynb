{
 "cells": [
  {
   "cell_type": "code",
   "execution_count": 1,
   "metadata": {},
   "outputs": [],
   "source": [
    "use_simulator = True"
   ]
  },
  {
   "cell_type": "code",
   "execution_count": 2,
   "metadata": {},
   "outputs": [],
   "source": [
    "from qiskit import generate_preset_pass_manager\n",
    "from qiskit_aer import AerSimulator\n",
    "from qiskit_ibm_runtime import QiskitRuntimeService\n",
    "\n",
    "service = QiskitRuntimeService()\n",
    "hardware = service.backend(name='ibm_rensselaer')\n",
    "simulator = AerSimulator.from_backend(hardware)\n",
    "\n",
    "pm = generate_preset_pass_manager(optimization_level=3, backend=hardware)\n",
    "\n",
    "if use_simulator:\n",
    "  backend = simulator\n",
    "else:\n",
    "  backend = hardware"
   ]
  },
  {
   "cell_type": "code",
   "execution_count": 5,
   "metadata": {},
   "outputs": [],
   "source": [
    "from qiskit_nature.second_q.operators import FermionicOp\n",
    "\n",
    "hamiltonian = FermionicOp({'+_0 -_0': -1.25633907300325,\n",
    "                           '+_1 -_1': -0.47189600728114184,\n",
    "                           '+_2 -_2': -1.25633907300325,\n",
    "                           '+_3 -_3': -0.47189600728114184,\n",
    "                           '+_0 +_0 -_0 -_0': 0.33785507740175813,\n",
    "                           '+_0 +_1 -_1 -_0': 0.3322908651276482,\n",
    "                           '+_0 +_2 -_2 -_0': 0.33785507740175813,\n",
    "                           '+_0 +_3 -_3 -_0': 0.3322908651276482,\n",
    "                           '+_0 +_0 -_1 -_1': 0.09046559989211572,\n",
    "                           '+_0 +_1 -_0 -_1': 0.09046559989211572,\n",
    "                           '+_0 +_2 -_3 -_1': 0.09046559989211572,\n",
    "                           '+_0 +_3 -_2 -_1': 0.09046559989211572,\n",
    "                           '+_1 +_0 -_1 -_0': 0.09046559989211572,\n",
    "                           '+_1 +_1 -_0 -_0': 0.09046559989211572,\n",
    "                           '+_1 +_2 -_3 -_0': 0.09046559989211572,\n",
    "                           '+_1 +_3 -_2 -_0': 0.09046559989211572,\n",
    "                           '+_1 +_0 -_0 -_1': 0.3322908651276482,\n",
    "                           '+_1 +_1 -_1 -_1': 0.34928686136600884, \n",
    "                           '+_1 +_2 -_2 -_1': 0.3322908651276482, \n",
    "                           '+_1 +_3 -_3 -_1': 0.34928686136600884, \n",
    "                           '+_2 +_0 -_0 -_2': 0.33785507740175813, \n",
    "                           '+_2 +_1 -_1 -_2': 0.3322908651276482, \n",
    "                           '+_2 +_2 -_2 -_2': 0.33785507740175813, \n",
    "                           '+_2 +_3 -_3 -_2': 0.3322908651276482, \n",
    "                           '+_2 +_0 -_1 -_3': 0.09046559989211572, \n",
    "                           '+_2 +_1 -_0 -_3': 0.09046559989211572, \n",
    "                           '+_2 +_2 -_3 -_3': 0.09046559989211572, \n",
    "                           '+_2 +_3 -_2 -_3': 0.09046559989211572, \n",
    "                           '+_3 +_0 -_1 -_2': 0.09046559989211572, \n",
    "                           '+_3 +_1 -_0 -_2': 0.09046559989211572, \n",
    "                           '+_3 +_2 -_3 -_2': 0.09046559989211572, \n",
    "                           '+_3 +_3 -_2 -_2': 0.09046559989211572, \n",
    "                           '+_3 +_0 -_0 -_3': 0.3322908651276482, \n",
    "                           '+_3 +_1 -_1 -_3': 0.34928686136600884, \n",
    "                           '+_3 +_2 -_2 -_3': 0.3322908651276482, \n",
    "                           '+_3 +_3 -_3 -_3': 0.34928686136600884}, \n",
    "                          num_spin_orbitals=4, )"
   ]
  },
  {
   "cell_type": "code",
   "execution_count": 6,
   "metadata": {},
   "outputs": [],
   "source": [
    "num_spatial_orbitals = 2\n",
    "num_particles = (1, 1)"
   ]
  },
  {
   "cell_type": "code",
   "execution_count": 7,
   "metadata": {},
   "outputs": [],
   "source": [
    "from qiskit_nature.second_q.mappers import JordanWignerMapper\n",
    "\n",
    "mapper = JordanWignerMapper()"
   ]
  },
  {
   "cell_type": "code",
   "execution_count": 8,
   "metadata": {},
   "outputs": [],
   "source": [
    "from qiskit_algorithms import NumPyMinimumEigensolver\n",
    "\n",
    "numpy_solver = NumPyMinimumEigensolver()"
   ]
  },
  {
   "cell_type": "code",
   "execution_count": 12,
   "metadata": {},
   "outputs": [],
   "source": [
    "from qiskit_algorithms import VQE\n",
    "from qiskit_algorithms.optimizers import SLSQP\n",
    "from qiskit_ibm_runtime import EstimatorV2 as Estimator\n",
    "from qiskit_nature.second_q.circuit.library import HartreeFock, UCCSD\n",
    "\n",
    "ansatz = UCCSD(\n",
    "    num_spatial_orbitals,\n",
    "    num_particles,\n",
    "    mapper,\n",
    "    initial_state=HartreeFock(\n",
    "        num_spatial_orbitals,\n",
    "        num_particles,\n",
    "        mapper,\n",
    "    ),\n",
    ")\n",
    "\n",
    "vqe_solver = VQE(Estimator(mode=backend), ansatz, SLSQP())\n",
    "vqe_solver.initial_point = [0.0] * ansatz.num_parameters"
   ]
  },
  {
   "cell_type": "code",
   "execution_count": 13,
   "metadata": {},
   "outputs": [],
   "source": [
    "from qiskit_nature.second_q.algorithms import GroundStateEigensolver\n",
    "\n",
    "calc = GroundStateEigensolver(mapper, vqe_solver)"
   ]
  },
  {
   "cell_type": "code",
   "execution_count": 14,
   "metadata": {},
   "outputs": [
    {
     "ename": "NameError",
     "evalue": "name 'es_problem' is not defined",
     "output_type": "error",
     "traceback": [
      "\u001b[0;31m---------------------------------------------------------------------------\u001b[0m",
      "\u001b[0;31mNameError\u001b[0m                                 Traceback (most recent call last)",
      "Cell \u001b[0;32mIn[14], line 1\u001b[0m\n\u001b[0;32m----> 1\u001b[0m res \u001b[38;5;241m=\u001b[39m calc\u001b[38;5;241m.\u001b[39msolve(\u001b[43mes_problem\u001b[49m)\n\u001b[1;32m      2\u001b[0m \u001b[38;5;28mprint\u001b[39m(res)\n",
      "\u001b[0;31mNameError\u001b[0m: name 'es_problem' is not defined"
     ]
    }
   ],
   "source": [
    "res = calc.solve(es_problem)\n",
    "print(res)"
   ]
  },
  {
   "cell_type": "code",
   "execution_count": null,
   "metadata": {},
   "outputs": [],
   "source": []
  }
 ],
 "metadata": {
  "kernelspec": {
   "display_name": "Python 3",
   "language": "python",
   "name": "python3"
  },
  "language_info": {
   "codemirror_mode": {
    "name": "ipython",
    "version": 3
   },
   "file_extension": ".py",
   "mimetype": "text/x-python",
   "name": "python",
   "nbconvert_exporter": "python",
   "pygments_lexer": "ipython3",
   "version": "3.12.7"
  }
 },
 "nbformat": 4,
 "nbformat_minor": 2
}
