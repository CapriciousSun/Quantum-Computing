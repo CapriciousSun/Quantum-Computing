{
 "cells": [
  {
   "cell_type": "code",
   "execution_count": 7,
   "metadata": {},
   "outputs": [],
   "source": [
    "import numpy as np\n",
    "\n",
    "import qiskit as qs\n",
    "from qiskit.quantum_info import SparsePauliOp, Statevector\n",
    "from qiskit.visualization import array_to_latex"
   ]
  },
  {
   "cell_type": "code",
   "execution_count": 4,
   "metadata": {},
   "outputs": [],
   "source": [
    "omega = 1\n",
    "Ham = SparsePauliOp.from_list([(\"XII\", omega), (\"IYI\", omega), (\"IIZ\", omega)])"
   ]
  },
  {
   "cell_type": "code",
   "execution_count": 8,
   "metadata": {},
   "outputs": [
    {
     "data": {
      "text/latex": [
       "$$\n",
       "\n",
       "\\begin{bmatrix}\n",
       "1 & 0 & - i & 0 & 1 & 0 & 0 & 0  \\\\\n",
       " 0 & -1 & 0 & - i & 0 & 1 & 0 & 0  \\\\\n",
       " i & 0 & 1 & 0 & 0 & 0 & 1 & 0  \\\\\n",
       " 0 & i & 0 & -1 & 0 & 0 & 0 & 1  \\\\\n",
       " 1 & 0 & 0 & 0 & 1 & 0 & - i & 0  \\\\\n",
       " 0 & 1 & 0 & 0 & 0 & -1 & 0 & - i  \\\\\n",
       " 0 & 0 & 1 & 0 & i & 0 & 1 & 0  \\\\\n",
       " 0 & 0 & 0 & 1 & 0 & i & 0 & -1  \\\\\n",
       " \\end{bmatrix}\n",
       "$$"
      ],
      "text/plain": [
       "<IPython.core.display.Latex object>"
      ]
     },
     "execution_count": 8,
     "metadata": {},
     "output_type": "execute_result"
    }
   ],
   "source": [
    "array_to_latex(Ham)"
   ]
  },
  {
   "cell_type": "code",
   "execution_count": null,
   "metadata": {},
   "outputs": [],
   "source": [
    "omega = 1\n",
    "\n",
    "t_start = 0\n",
    "t_max = 3\n",
    "dt = 0.2\n",
    "time_step_list_exact = np.linspace(t_start, t_max, (int((t_max - t_start)/dt)) + 1)\n",
    "\n",
    "initial_state = Statevector.from_label('000')\n",
    "\n",
    "observable_mag = SparsePauliOp.from_list([(\"ZII\", omega), (\"IZI\", omega), (\"IIZ\", omega)])\n",
    "\n"
   ]
  },
  {
   "cell_type": "code",
   "execution_count": null,
   "metadata": {},
   "outputs": [],
   "source": [
    "def digit_sum(n):\n",
    "  num_str = str(n)\n",
    "  zero, one = 0, 0\n",
    "  sum = 0\n",
    "  for i in range(0, len(num_str)):\n",
    "    if (int(num_))"
   ]
  }
 ],
 "metadata": {
  "kernelspec": {
   "display_name": "Python 3",
   "language": "python",
   "name": "python3"
  },
  "language_info": {
   "codemirror_mode": {
    "name": "ipython",
    "version": 3
   },
   "file_extension": ".py",
   "mimetype": "text/x-python",
   "name": "python",
   "nbconvert_exporter": "python",
   "pygments_lexer": "ipython3",
   "version": "3.12.7"
  }
 },
 "nbformat": 4,
 "nbformat_minor": 2
}
