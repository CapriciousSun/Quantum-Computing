{
 "cells": [
  {
   "cell_type": "code",
   "execution_count": null,
   "metadata": {},
   "outputs": [],
   "source": [
    "import datetime as dt\n",
    "\n",
    "import numpy as np\n",
    "\n",
    "import matplotlib as plt\n",
    "\n",
    "from qiskit import QuantumCircuit, generate_preset_pass_manager\n",
    "from qiskit.circuit.library import TwoLocal\n",
    "from qiskit_aer import AerSimulator\n",
    "from qiskit_ibm_runtime import QiskitRuntimeService, EstimatorV2 as Estimator, Session, IBMRuntimeError\n",
    "from qiskit_nature.second_q.circuit.library import UCCSD, HartreeFock\n",
    "from qiskit_nature.second_q.drivers import PySCFDriver\n",
    "from qiskit_nature.second_q.mappers import JordanWignerMapper\n",
    "from qiskit_nature.second_q.operators import FermionicOp\n",
    "from qiskit_nature.units import DistanceUnit\n",
    "\n",
    "from scipy.optimize import minimize\n",
    "\n",
    "import pyscf"
   ]
  },
  {
   "cell_type": "code",
   "execution_count": null,
   "metadata": {},
   "outputs": [],
   "source": [
    "use_simulator = True"
   ]
  },
  {
   "cell_type": "code",
   "execution_count": null,
   "metadata": {},
   "outputs": [],
   "source": [
    "service = QiskitRuntimeService()\n",
    "hardware = service.backend(name='ibm_rensselaer')\n",
    "simulator = AerSimulator.from_backend(backend=hardware)\n",
    "\n",
    "if use_simulator:\n",
    "  backend = simulator\n",
    "else:\n",
    "  backend = hardware"
   ]
  },
  {
   "cell_type": "code",
   "execution_count": null,
   "metadata": {},
   "outputs": [],
   "source": [
    "pm = generate_preset_pass_manager(optimization_level=3, backend=backend)"
   ]
  },
  {
   "cell_type": "markdown",
   "metadata": {},
   "source": [
    "#### The geometric structure of water\n",
    "![water.png](water.png)"
   ]
  },
  {
   "cell_type": "code",
   "execution_count": null,
   "metadata": {},
   "outputs": [],
   "source": [
    "def create_h2o_molecule_driver(bond_length=95.84, angle=np.radians(104.45)):\n",
    "  oxygen = f\"O 0 0 0\"\n",
    "  hydrogen1 = f\"H {-1 * np.sin(angle) * bond_length} {-1 * np.cos(angle) * bond_length} 0\"\n",
    "  hydrogen2 = f\"H {np.sin(angle) * bond_length} {-1 * np.cos(angle) * bond_length} 0\"\n",
    "\n",
    "  water = \"; \".join([oxygen, hydrogen1, hydrogen2])\n",
    "\n",
    "  driver = PySCFDriver(\n",
    "    atom=water,\n",
    "    basis=\"sto3g\",\n",
    "    charge=0,\n",
    "    spin=0,\n",
    "    unit=DistanceUnit.ANGSTROM\n",
    "  )\n",
    "\n",
    "  return driver"
   ]
  },
  {
   "cell_type": "code",
   "execution_count": null,
   "metadata": {},
   "outputs": [],
   "source": [
    "bond_length=95.84\n",
    "angle=np.radians(104.45)\n",
    "\n",
    "oxygen = f\"O 0 0 0\"\n",
    "hydrogen1 = f\"H {-1 * np.sin(angle) * bond_length} {-1 * np.cos(angle) * bond_length} 0\"\n",
    "hydrogen2 = f\"H {np.sin(angle) * bond_length} {-1 * np.cos(angle) * bond_length} 0\"\n",
    "\n",
    "water = \"; \".join([oxygen, hydrogen1, hydrogen2])\n",
    "\n",
    "driver = PySCFDriver(\n",
    "  atom=water,\n",
    "  basis=\"sto3g\",\n",
    "  charge=0,\n",
    "  spin=0,\n",
    "  unit=DistanceUnit.ANGSTROM\n",
    ")"
   ]
  },
  {
   "cell_type": "code",
   "execution_count": null,
   "metadata": {},
   "outputs": [],
   "source": []
  }
 ],
 "metadata": {
  "kernelspec": {
   "display_name": "Python 3",
   "language": "python",
   "name": "python3"
  },
  "language_info": {
   "codemirror_mode": {
    "name": "ipython",
    "version": 3
   },
   "file_extension": ".py",
   "mimetype": "text/x-python",
   "name": "python",
   "nbconvert_exporter": "python",
   "pygments_lexer": "ipython3",
   "version": "3.12.7"
  }
 },
 "nbformat": 4,
 "nbformat_minor": 2
}
