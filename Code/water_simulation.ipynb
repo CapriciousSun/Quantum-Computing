{
 "cells": [
  {
   "cell_type": "code",
   "execution_count": null,
   "metadata": {},
   "outputs": [],
   "source": [
    "%pip install pyscf"
   ]
  },
  {
   "cell_type": "code",
   "execution_count": 1,
   "metadata": {},
   "outputs": [],
   "source": [
    "import datetime as dt\n",
    "\n",
    "import numpy as np\n",
    "\n",
    "import matplotlib as plt\n",
    "\n",
    "from qiskit import QuantumCircuit, generate_preset_pass_manager\n",
    "from qiskit.circuit.library import TwoLocal\n",
    "from qiskit_aer import AerSimulator\n",
    "from qiskit_ibm_runtime import QiskitRuntimeService, EstimatorV2 as Estimator, Batch, IBMRuntimeError\n",
    "from qiskit_nature.second_q.circuit.library import UCCSD, HartreeFock\n",
    "from qiskit_nature.second_q.drivers import PySCFDriver\n",
    "from qiskit_nature.second_q.mappers import JordanWignerMapper\n",
    "from qiskit_nature.second_q.operators import FermionicOp\n",
    "from qiskit_nature.units import DistanceUnit\n",
    "\n",
    "from scipy.optimize import minimize\n",
    "\n",
    "import pyscf"
   ]
  },
  {
   "cell_type": "code",
   "execution_count": 2,
   "metadata": {},
   "outputs": [],
   "source": [
    "use_simulator = False"
   ]
  },
  {
   "cell_type": "code",
   "execution_count": 3,
   "metadata": {},
   "outputs": [],
   "source": [
    "service = QiskitRuntimeService(channel='ibm_quantum', token='624dc5d6d4363f602d6f41953f98aa482181ddf6db1929df6406f4befb19fa08ba67bd1d376680bb218be695bdd89d5bc7a7e5dd167bb93115a71b23ad8e75df')\n",
    "hardware = service.backend(name='ibm_rensselaer')\n",
    "simulator = AerSimulator.from_backend(backend=hardware)\n",
    "pm = generate_preset_pass_manager(backend=hardware, optimization_level=3)\n",
    "\n",
    "if use_simulator:\n",
    "  backend = simulator\n",
    "else:\n",
    "  backend = hardware"
   ]
  },
  {
   "cell_type": "code",
   "execution_count": 4,
   "metadata": {},
   "outputs": [],
   "source": [
    "def get_timestamp():\n",
    "  return dt.datetime.now(dt.UTC).isoformat()\n",
    "\n",
    "def transpile_and_apply(ansatz, hamiltonian, backend, optimization_level=3, passmanager=None):\n",
    "  if not passmanager:\n",
    "    passmanager = generate_preset_pass_manager(target=backend.target,\n",
    "                                               optimization_level=optimization_level)\n",
    "  isa_ansatz = passmanager.run(ansatz)\n",
    "  isa_hamiltonian = hamiltonian.apply_layout(isa_ansatz.layout)\n",
    "\n",
    "  return isa_ansatz, isa_hamiltonian"
   ]
  },
  {
   "cell_type": "code",
   "execution_count": 5,
   "metadata": {},
   "outputs": [],
   "source": [
    "pm = generate_preset_pass_manager(optimization_level=3, backend=backend)"
   ]
  },
  {
   "cell_type": "markdown",
   "metadata": {},
   "source": [
    "#### The geometric structure of water\n",
    "![water.png](water.png)"
   ]
  },
  {
   "cell_type": "code",
   "execution_count": 6,
   "metadata": {},
   "outputs": [],
   "source": [
    "def create_h2o_molecule_driver(bond_length=95.84, angle=np.radians(104.45)):\n",
    "  oxygen = f\"O 0 0 0\"\n",
    "  hydrogen1 = f\"H {-1 * np.sin(angle) * bond_length} {np.cos(angle) * bond_length} 0\"\n",
    "  hydrogen2 = f\"H {np.sin(angle) * bond_length} {np.cos(angle) * bond_length} 0\"\n",
    "\n",
    "  water = \"; \".join([oxygen, hydrogen1, hydrogen2])\n",
    "\n",
    "  driver = PySCFDriver(\n",
    "    atom=water,\n",
    "    basis=\"sto3g\",\n",
    "    charge=0,\n",
    "    spin=0,\n",
    "    unit=DistanceUnit.ANGSTROM\n",
    "  )\n",
    "\n",
    "  return driver"
   ]
  },
  {
   "cell_type": "code",
   "execution_count": 7,
   "metadata": {},
   "outputs": [],
   "source": [
    "water_driver = create_h2o_molecule_driver()\n",
    "problem = water_driver.run()"
   ]
  },
  {
   "cell_type": "code",
   "execution_count": null,
   "metadata": {},
   "outputs": [],
   "source": [
    "hamiltonian = problem.hamiltonian.second_q_op()\n",
    "print(hamiltonian)"
   ]
  },
  {
   "cell_type": "code",
   "execution_count": 9,
   "metadata": {},
   "outputs": [],
   "source": [
    "def map_to_qubits(hamiltonian):\n",
    "  mapper = JordanWignerMapper()\n",
    "  mapped_hamiltonian = mapper.map(hamiltonian)\n",
    "\n",
    "  return mapped_hamiltonian, mapper"
   ]
  },
  {
   "cell_type": "code",
   "execution_count": null,
   "metadata": {},
   "outputs": [],
   "source": [
    "def create_ansatz(mapped_hamiltonian, mapper):\n",
    "  num_spatial_orbitals = 7\n",
    "  num_ab_particles = (5, 5)\n",
    "\n",
    "  uccsd_ansatz = UCCSD(num_spatial_orbitals=num_spatial_orbitals,\n",
    "                       num_particles=num_ab_particles,\n",
    "                       qubit_mapper=mapper,\n",
    "                       initial_state=HartreeFock(num_spatial_orbitals=num_spatial_orbitals,\n",
    "                                                 num_particles=num_ab_particles,\n",
    "                                                 qubit_mapper=mapper))\n",
    "\n",
    "  twolocal_ansatz = TwoLocal(num_qubits=mapped_hamiltonian.num_qubits,\n",
    "                             rotation_blocks=['rx', 'rz'],\n",
    "                             entanglement_blocks=['cz'],\n",
    "                             entanglement=\"linear\",\n",
    "                             reps=2,\n",
    "                             initial_state=None)  \n",
    "  \n",
    "  return uccsd_ansatz, twolocal_ansatz"
   ]
  },
  {
   "cell_type": "code",
   "execution_count": null,
   "metadata": {},
   "outputs": [],
   "source": [
    "def energy_function(params, ansatz, hamiltonian, estimator, batch, metadata_dict):\n",
    "  max_circuit = 500\n",
    "  whole_circuit = []\n",
    "  for i in range(0, len(ansatz), max_circuit):\n",
    "    whole_circuit.append(ansatz[i:i + max_circuit])\n",
    "  jobs = []\n",
    "  job_ids = []\n",
    "\n",
    "  with batch:\n",
    "    for circuit in whole_circuit:\n",
    "      pub = (circuit, [hamiltonian], [params])\n",
    "      job = estimator.run([pub])\n",
    "      jobs.append(job)\n",
    "      job_id = job.job_id()\n",
    "      metadata_dict['job_ids'].append(job_id)\n",
    "      result = job.result()\n",
    "\n",
    "  energy = result[0].data.evs[0]\n",
    "  err = result[0].data.stds[0]\n",
    "\n",
    "  metadata_dict['iters'] += 1\n",
    "  metadata_dict['params'].append(params)\n",
    "  metadata_dict['energy'].append((energy, err))\n",
    "\n",
    "  print(f\"Iters. done: {metadata_dict['iters']} [Energy: {energy} +/- {err}]\")\n",
    "\n",
    "  return energy"
   ]
  },
  {
   "cell_type": "code",
   "execution_count": 29,
   "metadata": {},
   "outputs": [],
   "source": [
    "def run_vqe_twolocal(backend, isa_twolocal, isa_hamiltonian_twolocal):\n",
    "  num_params_twolocal = isa_twolocal.num_parameters\n",
    "  x0_twolocal = np.zeros(num_params_twolocal)\n",
    "\n",
    "  twolocal_dict = {\n",
    "    \"session_id\": None,\n",
    "    \"iters\": 0,\n",
    "    \"backend\": backend.name,\n",
    "    \"maxiter\": 200,\n",
    "    \"params\": [],\n",
    "    \"energy\": [],\n",
    "    \"job_ids\": [],\n",
    "    \"job_info\": [],\n",
    "    \"start_name\": None,\n",
    "    \"end_time\": None,\n",
    "    \"completed\": False\n",
    "  }\n",
    "\n",
    "  batch = Batch(backend=backend, max_time=3600)\n",
    "\n",
    "  estimator = Estimator(mode=batch)\n",
    "  estimator.options.default_precision = 1e-1\n",
    "  estimator.options.resilience_level = 1\n",
    "  estimator.options.default_shots = 8912\n",
    "\n",
    "  res = minimize(\n",
    "    energy_function,\n",
    "    x0_twolocal,\n",
    "    args=(\n",
    "      isa_twolocal,\n",
    "      isa_hamiltonian_twolocal,\n",
    "      estimator,\n",
    "      batch,\n",
    "      twolocal_dict\n",
    "    ),\n",
    "    method=\"COBYLA\",\n",
    "    tol=1e-1\n",
    "  )\n",
    "    \n",
    "  return twolocal_dict"
   ]
  },
  {
   "cell_type": "code",
   "execution_count": null,
   "metadata": {},
   "outputs": [],
   "source": [
    "def run_vqe_uccsd(backend, isa_uccsd, isa_hamiltonian_uccsd):\n",
    "  num_params_uccsd = isa_uccsd.num_parameters\n",
    "  x0_uccsd = np.zeros(num_params_uccsd)\n",
    "\n",
    "  uccsd_dict = {\n",
    "    \"session_id\": None,\n",
    "    \"iters\": 0,\n",
    "    \"backend\": backend.name,\n",
    "    \"maxiter\": 200,\n",
    "    \"params\": [],\n",
    "    \"energy\": [],\n",
    "    \"job_ids\": [],\n",
    "    \"job_info\": [],\n",
    "    \"start_time\": None,\n",
    "    \"end_time\": None,\n",
    "    \"completed\": False\n",
    "  }\n",
    "\n",
    "  with Batch(backend=backend, max_time=3600) as batch:\n",
    "    estimator = Estimator(mode=batch)\n",
    "    estimator.options.default_precision = 1e-1\n",
    "    estimator.options.resilience_level = 1\n",
    "    estimator.options.default_shots = 8912\n",
    "\n",
    "    res = minimize(\n",
    "      energy_function,\n",
    "      x0_uccsd,\n",
    "      args=(\n",
    "        isa_uccsd,\n",
    "        isa_hamiltonian_uccsd,\n",
    "        estimator,\n",
    "        batch,\n",
    "        uccsd_dict\n",
    "      ),\n",
    "      method=\"COBYLA\",\n",
    "      tol=1e-1\n",
    "    )\n",
    "    \n",
    "  return uccsd_dict\n"
   ]
  },
  {
   "cell_type": "code",
   "execution_count": 19,
   "metadata": {},
   "outputs": [],
   "source": [
    "mapped_hamiltonian, mapper = map_to_qubits(hamiltonian)\n",
    "\n",
    "uccsd_ansatz, twolocal_ansatz = create_ansatz(mapped_hamiltonian, mapper)\n",
    "\n",
    "isa_uccsd, isa_hamiltonian_uccsd = transpile_and_apply(uccsd_ansatz,\n",
    "                                                       mapped_hamiltonian,\n",
    "                                                       backend,\n",
    "                                                       optimization_level=3,\n",
    "                                                       passmanager=pm)\n",
    "\n",
    "isa_twolocal, isa_hamiltonian_twolocal = transpile_and_apply(twolocal_ansatz,\n",
    "                                                             mapped_hamiltonian,\n",
    "                                                             backend,\n",
    "                                                             optimization_level=3,\n",
    "                                                             passmanager=pm)"
   ]
  },
  {
   "cell_type": "code",
   "execution_count": null,
   "metadata": {},
   "outputs": [],
   "source": [
    "uccsd_results = run_vqe_uccsd(backend, isa_uccsd, isa_hamiltonian_uccsd)"
   ]
  }
 ],
 "metadata": {
  "kernelspec": {
   "display_name": "Python 3",
   "language": "python",
   "name": "python3"
  },
  "language_info": {
   "codemirror_mode": {
    "name": "ipython",
    "version": 3
   },
   "file_extension": ".py",
   "mimetype": "text/x-python",
   "name": "python",
   "nbconvert_exporter": "python",
   "pygments_lexer": "ipython3",
   "version": "3.10.12"
  }
 },
 "nbformat": 4,
 "nbformat_minor": 2
}
